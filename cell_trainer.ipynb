{
 "cells": [
  {
   "cell_type": "markdown",
   "metadata": {},
   "source": [
    "In this notebook, I will use torch_geometric to predict the developpement of a graph of positions through time"
   ]
  },
  {
   "cell_type": "code",
   "execution_count": 1,
   "metadata": {},
   "outputs": [
    {
     "data": {
      "text/plain": [
       "'\\nI realized I am leaning towards this approach https://doi.org/10.1016/j.trc.2020.102635\\n'"
      ]
     },
     "execution_count": 1,
     "metadata": {},
     "output_type": "execute_result"
    }
   ],
   "source": [
    "\"\"\"\n",
    "I realized I am leaning towards this approach https://doi.org/10.1016/j.trc.2020.102635\n",
    "\"\"\""
   ]
  },
  {
   "cell_type": "code",
   "execution_count": 2,
   "metadata": {},
   "outputs": [
    {
     "name": "stderr",
     "output_type": "stream",
     "text": [
      "c:\\Users\\gille\\miniconda3\\envs\\geom\\lib\\site-packages\\tqdm\\auto.py:22: TqdmWarning: IProgress not found. Please update jupyter and ipywidgets. See https://ipywidgets.readthedocs.io/en/stable/user_install.html\n",
      "  from .autonotebook import tqdm as notebook_tqdm\n"
     ]
    },
    {
     "name": "stdout",
     "output_type": "stream",
     "text": [
      "Using :  291\n",
      "Available :  3271\n",
      "True\n",
      "Could not import allium\n"
     ]
    }
   ],
   "source": [
    "import torch\n",
    "from torch.optim.lr_scheduler import CosineAnnealingWarmRestarts\n",
    "\n",
    "import pickle\n",
    "\n",
    "import sys\n",
    "import os\n",
    "from genericpath import exists\n",
    "\n",
    "model_path = \"models/model\"\n",
    "loss_path = \"models/loss\"\n",
    "\n",
    "from cell_dataset import CellGraphDataset, load\n",
    "from cell_model import GraphEvolution, GraphEvolutionDiscr\n",
    "from cell_utils import GraphingLoss\n",
    "from cell_training import train, test_single, test_recursive, compute_parameters\n",
    "\n",
    "import os, psutil\n",
    "process = psutil.Process(os.getpid())\n",
    "print(\"Using : \", process.memory_info().rss // 1000000)  # in megabytes \n",
    "print(\"Available : \", process.memory_info().vms  // 1000000)  # in megabytes \n",
    "\n",
    "print(torch.cuda.is_available())\n",
    "\n",
    "#https://github.com/clovaai/AdamP\n",
    "from adamp import AdamP\n",
    "\n",
    "sys.path.append('/home/nstillman/1_sbi_activematter/cpp_model')\n",
    "try :\n",
    "    import allium\n",
    "except :\n",
    "    print(\"Could not import allium\")"
   ]
  },
  {
   "cell_type": "markdown",
   "metadata": {},
   "source": [
    "The data is a graph of cells having their own positions and velocity.\n",
    "\n",
    "In the graph, we will first start by connecting all the edges, then maybe later make radius_graphs to reduce the cost of the pass through the model"
   ]
  },
  {
   "cell_type": "code",
   "execution_count": 3,
   "metadata": {},
   "outputs": [
    {
     "name": "stdout",
     "output_type": "stream",
     "text": [
      "Validation data not found\n"
     ]
    }
   ],
   "source": [
    "load_all =  True#load directly from a pickle\n",
    "pre_separated = False #if three subfolders already exist for train test and val\n",
    "\n",
    "override = False #make this true to always use the same ones\n",
    "\n",
    "data_train, data_test, data_val = load(load_all, pre_separated, override)"
   ]
  },
  {
   "cell_type": "code",
   "execution_count": 4,
   "metadata": {},
   "outputs": [],
   "source": [
    "#INFO : if bg_load is True, this starts the loading, if skipped, bg_loading will take place as soon as a get is called\n",
    "rval, edge_index, edge_attr, batch_edge, border, params = data_train.get(0)\n",
    "rval, edge_index, edge_attr, batch_edge, border, params = data_test.get(0)"
   ]
  },
  {
   "cell_type": "markdown",
   "metadata": {},
   "source": [
    "Next we need to define the model that will be used :\n",
    "    > input \n",
    "        (1) Graph at a particular time t (nodes having x,y,dx,dy as attributes)\n",
    "        (2) Graphs up to a particular time [t-a, t] (nodes having x,y as attributes)\n",
    "    > output\n",
    "        (a) Graph at the immediate next time step t+1\n",
    "        (b) Graph [t, t+b]\n",
    "        (c) Graph at t+b\n",
    "    > graph size\n",
    "        (x) Fixed graph size to the most nodes possible (or above)\n",
    "        (y) Unbounded graph size\n",
    "            >> idea : graph walks\n",
    "            >> idea : sampler"
   ]
  },
  {
   "cell_type": "markdown",
   "metadata": {},
   "source": [
    "The following model will do (1ax)"
   ]
  },
  {
   "cell_type": "code",
   "execution_count": 5,
   "metadata": {},
   "outputs": [],
   "source": [
    "def start(model : GraphEvolution, optimizer : torch.optim.Optimizer, scheduler  : torch.optim.lr_scheduler._LRScheduler,\\\n",
    "          data_train : CellGraphDataset, data_test : CellGraphDataset, device : torch.device, epoch : int, offset : int, grapher : GraphingLoss, save=0, save_datasets=True):\n",
    "    for e in range(offset, offset + epoch):\n",
    "        \n",
    "        recursive = True\n",
    "\n",
    "        model = train(model, optimizer, scheduler, data_train, device, e, process, max_epoch=offset+epoch, recursive=recursive)\n",
    "\n",
    "        #model.show_gradients()\n",
    "        \n",
    "        if(e == 0 and save_datasets) :\n",
    "            data_train.thread = None\n",
    "            data_test.thread = None\n",
    "            with open(\"data/training.pkl\", 'wb') as f:\n",
    "                pickle.dump(data_train, f)\n",
    "            with open(\"data/testing.pkl\", 'wb') as f:\n",
    "                pickle.dump(data_test, f)\n",
    "            print(\"Saved datasets\")\n",
    "        \n",
    "\n",
    "        test_loss_s = test_single(model, data_test, device, duration=8)\n",
    "        test_loss_r = test_recursive(model, data_test, device, duration=8)\n",
    "\n",
    "        print(\"Epoch : \", e, \"Test loss : \", test_loss_s, \"Test loss recursive : \", test_loss_r)\n",
    "\n",
    "\n",
    "\n",
    "        grapher.losses.append(test_loss_r)\n",
    "        grapher.losses.append(test_loss_s)\n",
    "\n",
    "        grapher.plot_losses()\n",
    "        \n",
    "        if (e%10 == 0) :      \n",
    "            all_params_out, all_params_true = compute_parameters(model, data_test, device, duration=8)\n",
    "            grapher.plot_params(all_params_out, all_params_true, e)\n",
    "        \n",
    "        if (save and (e%save == 0 or e == epoch-1)) :\n",
    "            torch.save(model.state_dict(), model_path + str(e) + \".pt\")\n",
    "            with open(loss_path + str(e) + \".pkl\", 'wb') as f:\n",
    "                pickle.dump(grapher.losses, f)"
   ]
  },
  {
   "cell_type": "code",
   "execution_count": 6,
   "metadata": {},
   "outputs": [
    {
     "name": "stdout",
     "output_type": "stream",
     "text": [
      "Loaded model\n"
     ]
    }
   ],
   "source": [
    "load = True\n",
    "\n",
    "epoch_to_load = 10\n",
    "\n",
    "#model = GraphEvolution(in_channels=14, out_channels=4, hidden_channels=32, dropout=0.01, edge_dim=2, messages=5, wrap=data_train.wrap)\n",
    "model = GraphEvolution(in_channels=9, out_channels=4, hidden_channels=32, dropout=0.01, edge_dim=2, messages=5, wrap=True)\n",
    "#model = GraphEvolutionDiscr(in_channels=9, out_channels=4, hidden_channels=16, dropout=0.01, edge_dim=2, messages=5, wrap=True)\n",
    "losses = []\n",
    "\n",
    "if exists(model_path + str(epoch_to_load) + \".pt\") and load :\n",
    "    with open(loss_path + str(epoch_to_load) + \".pkl\", 'rb') as f:\n",
    "        losses = pickle.load(f)\n",
    "    model.load_state_dict(torch.load(model_path + str(epoch_to_load) + \".pt\"))\n",
    "    print(\"Loaded model\")"
   ]
  },
  {
   "cell_type": "code",
   "execution_count": 7,
   "metadata": {},
   "outputs": [
    {
     "name": "stdout",
     "output_type": "stream",
     "text": [
      "Using :  2054\n",
      "Losses :  11\n",
      "Model :  GraphEvolution(\n",
      "  (encoder_resize): Linear(in_features=9, out_features=32, bias=True)\n",
      "  (encoder_resize2): Linear(in_features=32, out_features=32, bias=True)\n",
      "  (transformer_encoder): TransformerEncoder(\n",
      "    (layers): ModuleList(\n",
      "      (0): TransformerEncoderLayer(\n",
      "        (self_attn): MultiheadAttention(\n",
      "          (out_proj): NonDynamicallyQuantizableLinear(in_features=32, out_features=32, bias=True)\n",
      "        )\n",
      "        (linear1): Linear(in_features=32, out_features=32, bias=True)\n",
      "        (dropout): Dropout(p=0.01, inplace=False)\n",
      "        (linear2): Linear(in_features=32, out_features=32, bias=True)\n",
      "        (norm1): LayerNorm((32,), eps=1e-05, elementwise_affine=True)\n",
      "        (norm2): LayerNorm((32,), eps=1e-05, elementwise_affine=True)\n",
      "        (dropout1): Dropout(p=0.01, inplace=False)\n",
      "        (dropout2): Dropout(p=0.01, inplace=False)\n",
      "      )\n",
      "      (1): TransformerEncoderLayer(\n",
      "        (self_attn): MultiheadAttention(\n",
      "          (out_proj): NonDynamicallyQuantizableLinear(in_features=32, out_features=32, bias=True)\n",
      "        )\n",
      "        (linear1): Linear(in_features=32, out_features=32, bias=True)\n",
      "        (dropout): Dropout(p=0.01, inplace=False)\n",
      "        (linear2): Linear(in_features=32, out_features=32, bias=True)\n",
      "        (norm1): LayerNorm((32,), eps=1e-05, elementwise_affine=True)\n",
      "        (norm2): LayerNorm((32,), eps=1e-05, elementwise_affine=True)\n",
      "        (dropout1): Dropout(p=0.01, inplace=False)\n",
      "        (dropout2): Dropout(p=0.01, inplace=False)\n",
      "      )\n",
      "    )\n",
      "  )\n",
      "  (gat_resize): Linear(in_features=32, out_features=256, bias=True)\n",
      "  (gatv2s): ModuleList(\n",
      "    (0): GATv2Conv(256, 32, heads=8)\n",
      "    (1): GATv2Conv(256, 32, heads=8)\n",
      "    (2): GATv2Conv(256, 32, heads=8)\n",
      "    (3): GATv2Conv(256, 32, heads=8)\n",
      "    (4): GATv2Conv(256, 32, heads=8)\n",
      "  )\n",
      "  (gat_resize2): Linear(in_features=256, out_features=32, bias=True)\n",
      "  (transformer_decoder): TransformerDecoder(\n",
      "    (layers): ModuleList(\n",
      "      (0): TransformerDecoderLayer(\n",
      "        (self_attn): MultiheadAttention(\n",
      "          (out_proj): NonDynamicallyQuantizableLinear(in_features=32, out_features=32, bias=True)\n",
      "        )\n",
      "        (multihead_attn): MultiheadAttention(\n",
      "          (out_proj): NonDynamicallyQuantizableLinear(in_features=32, out_features=32, bias=True)\n",
      "        )\n",
      "        (linear1): Linear(in_features=32, out_features=32, bias=True)\n",
      "        (dropout): Dropout(p=0.01, inplace=False)\n",
      "        (linear2): Linear(in_features=32, out_features=32, bias=True)\n",
      "        (norm1): LayerNorm((32,), eps=1e-05, elementwise_affine=True)\n",
      "        (norm2): LayerNorm((32,), eps=1e-05, elementwise_affine=True)\n",
      "        (norm3): LayerNorm((32,), eps=1e-05, elementwise_affine=True)\n",
      "        (dropout1): Dropout(p=0.01, inplace=False)\n",
      "        (dropout2): Dropout(p=0.01, inplace=False)\n",
      "        (dropout3): Dropout(p=0.01, inplace=False)\n",
      "      )\n",
      "      (1): TransformerDecoderLayer(\n",
      "        (self_attn): MultiheadAttention(\n",
      "          (out_proj): NonDynamicallyQuantizableLinear(in_features=32, out_features=32, bias=True)\n",
      "        )\n",
      "        (multihead_attn): MultiheadAttention(\n",
      "          (out_proj): NonDynamicallyQuantizableLinear(in_features=32, out_features=32, bias=True)\n",
      "        )\n",
      "        (linear1): Linear(in_features=32, out_features=32, bias=True)\n",
      "        (dropout): Dropout(p=0.01, inplace=False)\n",
      "        (linear2): Linear(in_features=32, out_features=32, bias=True)\n",
      "        (norm1): LayerNorm((32,), eps=1e-05, elementwise_affine=True)\n",
      "        (norm2): LayerNorm((32,), eps=1e-05, elementwise_affine=True)\n",
      "        (norm3): LayerNorm((32,), eps=1e-05, elementwise_affine=True)\n",
      "        (dropout1): Dropout(p=0.01, inplace=False)\n",
      "        (dropout2): Dropout(p=0.01, inplace=False)\n",
      "        (dropout3): Dropout(p=0.01, inplace=False)\n",
      "      )\n",
      "    )\n",
      "  )\n",
      "  (decoder_resize): Linear(in_features=32, out_features=32, bias=True)\n",
      "  (decoder_resize2): Linear(in_features=32, out_features=4, bias=True)\n",
      ")\n"
     ]
    }
   ],
   "source": [
    "print(\"Using : \", process.memory_info().rss // 1000000)  # in megabytes\n",
    "print(\"Losses : \", len(losses) // 2)\n",
    "print(\"Model : \", model)"
   ]
  },
  {
   "cell_type": "code",
   "execution_count": 8,
   "metadata": {},
   "outputs": [],
   "source": [
    "#might want to investigate AdamP \n",
    "optimizer = AdamP(model.parameters(), lr=1e-3, betas=(0.9, 0.999), eps=1e-8, weight_decay=5e-3, delta=0.1, wd_ratio=0.1, nesterov=True)\n",
    "scheduler = CosineAnnealingWarmRestarts(optimizer=optimizer, T_0=10, T_mult=2, eta_min=1e-12)\n",
    "\n",
    "device = torch.device(\"cuda\" if torch.cuda.is_available() else \"cpu\")"
   ]
  },
  {
   "cell_type": "code",
   "execution_count": 9,
   "metadata": {},
   "outputs": [],
   "source": [
    "epochs = 10\n",
    "grapher = GraphingLoss(losses)\n",
    "scheduler.step(len(losses) // 2)\n",
    "\n",
    "#all_params_out, all_params_true = compute_parameters(model.to(device), data_test, device, duration=8)\n",
    "#grapher.plot_params(all_params_out, all_params_true, epoch_to_load)"
   ]
  },
  {
   "cell_type": "code",
   "execution_count": 10,
   "metadata": {},
   "outputs": [
    {
     "name": "stdout",
     "output_type": "stream",
     "text": [
      "Epoch :  11 Test loss :  -4.05306984424591 Test loss recursive :  0.00012045118186506443\n",
      "Epoch :  12 Test loss :  -4.137002840042114 Test loss recursive :  7.941144343931228e-05\n",
      "Epoch :  13 Test loss :  -3.9911684799194336 Test loss recursive :  7.987875474100292e-06\n",
      "Epoch :  14 Test loss :  -4.134133567810059 Test loss recursive :  7.03381255880231e-05\n",
      "Epoch :  15 Test loss :  -4.147267928123474 Test loss recursive :  3.0121827767288777e-05\n",
      "Epoch :  16 Test loss :  -4.128983693122864 Test loss recursive :  1.1522358090587658e-05\n",
      "Epoch :  17 Test loss :  -3.3894046115875245 Test loss recursive :  8.865476302162278e-06\n",
      "Epoch :  18 Test loss :  -3.9101170825958254 Test loss recursive :  0.0002600642156903632\n",
      "Epoch :  19 Test loss :  -4.1473444032669065 Test loss recursive :  3.219815078409738e-05\n",
      "Current probability of recursive training :  tensor(0.4881)\n",
      "Epoch :  20 Test loss :  -4.167894458770752 Test loss recursive :  1.293590574277914e-05\n"
     ]
    }
   ],
   "source": [
    "start(model, optimizer, scheduler, data_train, data_test, device, \\\n",
    "        epochs, len(losses) // 2, grapher=grapher, save=10, save_datasets=False)"
   ]
  }
 ],
 "metadata": {
  "kernelspec": {
   "display_name": "geom",
   "language": "python",
   "name": "python3"
  },
  "language_info": {
   "codemirror_mode": {
    "name": "ipython",
    "version": 3
   },
   "file_extension": ".py",
   "mimetype": "text/x-python",
   "name": "python",
   "nbconvert_exporter": "python",
   "pygments_lexer": "ipython3",
   "version": "3.10.8"
  }
 },
 "nbformat": 4,
 "nbformat_minor": 4
}
