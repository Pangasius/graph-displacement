{
 "cells": [
  {
   "cell_type": "markdown",
   "metadata": {},
   "source": [
    "In this notebook, I will use torch_geometric to predict the developpement of a graph of positions through time"
   ]
  },
  {
   "cell_type": "code",
   "execution_count": 8,
   "metadata": {},
   "outputs": [
    {
     "name": "stdout",
     "output_type": "stream",
     "text": [
      "Using :  2048\n",
      "Available :  14631\n",
      "True\n"
     ]
    }
   ],
   "source": [
    "import torch\n",
    "from torch.optim.lr_scheduler import CosineAnnealingWarmRestarts\n",
    "import torch.nn.functional as F\n",
    "\n",
    "import numpy as np\n",
    "\n",
    "import torch_geometric\n",
    "from torch_geometric.utils import to_networkx, from_networkx\n",
    "from torch_geometric.nn import radius_graph\n",
    "from torch_geometric.data import Data\n",
    "\n",
    "import networkx as nx\n",
    "\n",
    "import pickle\n",
    "\n",
    "import time\n",
    "\n",
    "import sys\n",
    "import os\n",
    "from genericpath import exists\n",
    "\n",
    "import random\n",
    "\n",
    "model_path = \"model.pkl\"\n",
    "loss_path = \"loss.pkl\"\n",
    "\n",
    "from cell_dataset import CellGraphDataset\n",
    "from cell_model import GraphEvolution\n",
    "from cell_utils import GraphingLoss, make_animation\n",
    "from cell_training import train, test, run_single, run_single_recursive\n",
    "\n",
    "import threading\n",
    "import matplotlib.pyplot as plt\n",
    "\n",
    "import os, psutil\n",
    "process = psutil.Process(os.getpid())\n",
    "print(\"Using : \", process.memory_info().rss // 1000000)  # in megabytes \n",
    "print(\"Available : \", process.memory_info().vms  // 1000000)  # in megabytes \n",
    "\n",
    "print(torch.cuda.is_available())\n",
    "\n",
    "#https://github.com/clovaai/AdamP\n",
    "from adamp import AdamP\n",
    "\n",
    "sys.path.append('/home/nstillman/1_sbi_activematter/cpp_model')\n",
    "import allium"
   ]
  },
  {
   "cell_type": "markdown",
   "metadata": {},
   "source": [
    "The data is a graph of cells having their own positions and velocity.\n",
    "\n",
    "In the graph, we will first start by connecting all the edges, then maybe later make radius_graphs to reduce the cost of the pass through the model"
   ]
  },
  {
   "cell_type": "code",
   "execution_count": 9,
   "metadata": {},
   "outputs": [
    {
     "name": "stdout",
     "output_type": "stream",
     "text": [
      "Training data length :  200\n",
      "Test data length :  50\n",
      "Validation data length :  50\n"
     ]
    }
   ],
   "source": [
    "#path = \"data/\" #local\n",
    "path = \"/scratch/users/nstillman/data-cpp/\" #remote\n",
    "\n",
    "data_train = CellGraphDataset(root=path + 'train', max_size=200, rdts=True, inmemory=True, bg_load=True)\n",
    "print(\"Training data length : \", data_train.len())\n",
    "\n",
    "data_test = CellGraphDataset(root=path + 'test', max_size=50, inmemory=True, bg_load=True)\n",
    "print(\"Test data length : \", data_test.len())\n",
    " \n",
    "data_val = CellGraphDataset(root=path + 'valid', max_size=50, inmemory=True, bg_load=True)\n",
    "print(\"Validation data length : \", data_val.len())"
   ]
  },
  {
   "cell_type": "code",
   "execution_count": 10,
   "metadata": {},
   "outputs": [],
   "source": [
    "override = True #make this true to always use the same ones\n",
    "\n",
    "if override :\n",
    "    data_train.save_or_load_if_exists(\"train_paths.pkl\")\n",
    "    data_test.save_or_load_if_exists(\"test_paths.pkl\")\n",
    "    data_val.save_or_load_if_exists(\"val_paths.pkl\")\n"
   ]
  },
  {
   "cell_type": "code",
   "execution_count": 11,
   "metadata": {},
   "outputs": [],
   "source": [
    "#INFO : if bg_load is True, this starts the loading, if skipped, bg_loading will take place as soon as a get is called\n",
    "rval, edge_index, edge_attr, batch_edge, norm_and_std = data_train.get(0)"
   ]
  },
  {
   "cell_type": "code",
   "execution_count": 12,
   "metadata": {},
   "outputs": [
    {
     "name": "stdout",
     "output_type": "stream",
     "text": [
      "tensor([ 0.0531, -0.0232, -0.0011, -0.0007])\n",
      "tensor([1.4129, 1.4271, 0.0219, 0.0194])\n"
     ]
    }
   ],
   "source": [
    "print(rval.mean(dim=(0,1)))\n",
    "print(rval.var(dim=(0,1)))"
   ]
  },
  {
   "cell_type": "markdown",
   "metadata": {},
   "source": [
    "Next we need to define the model that will be used :\n",
    "    > input \n",
    "        (1) Graph at a particular time t (nodes having x,y,dx,dy as attributes)\n",
    "        (2) Graphs up to a particular time [t-a, t] (nodes having x,y as attributes)\n",
    "    > output\n",
    "        (a) Graph at the immediate next time step t+1\n",
    "        (b) Graph [t, t+b]\n",
    "        (c) Graph at t+b\n",
    "    > graph size\n",
    "        (x) Fixed graph size to the most nodes possible (or above)\n",
    "        (y) Unbounded graph size\n",
    "            >> idea : graph walks\n",
    "            >> idea : sampler"
   ]
  },
  {
   "cell_type": "markdown",
   "metadata": {},
   "source": [
    "The following model will do (1ax)"
   ]
  },
  {
   "cell_type": "code",
   "execution_count": 4,
   "metadata": {},
   "outputs": [],
   "source": [
    "global losses\n",
    "losses = []"
   ]
  },
  {
   "cell_type": "code",
   "execution_count": 5,
   "metadata": {},
   "outputs": [],
   "source": [
    "def start(model, optimizer, scheduler, data_train, data_test, device, epoch, offset, save=0, early_stop=False):\n",
    "    for e in range(offset, offset + epoch):\n",
    "        model = train(model, optimizer, scheduler, data_train, device, e, process)\n",
    "            \n",
    "        test_loss = test(model, data_test, device)\n",
    "        \n",
    "        if (e%10 == 0) :\n",
    "            print(\"Epoch : \", e, \"Test loss : \", test_loss, \"                                                         \")\n",
    "        \n",
    "        losses.append(test_loss)\n",
    "        \n",
    "        if early_stop and len(losses) > 30 :\n",
    "            recent_losses = min(len(losses), 30)\n",
    "            y = losses[-recent_losses:]\n",
    "            \n",
    "            axis = np.arange(recent_losses)\n",
    "            A = np.vstack([axis, np.ones(len(axis))]).T\n",
    "            \n",
    "            a = np.linalg.lstsq(A, y, rcond=None)\n",
    "            \n",
    "            if a[0][0] >= -0.002 :\n",
    "                print(\"Early stopping : recent slope at \", a[0][0])\n",
    "                if (save) :\n",
    "                    with open(model_path, 'wb') as f:\n",
    "                        pickle.dump(model, f)\n",
    "                return\n",
    "            else : \n",
    "                print(\"Early stopping passed : current slope at \", a[0][0])\n",
    "        \n",
    "        if (save and (e%save == 0 or e == epoch-1)) :\n",
    "            with open(model_path, 'wb') as f:\n",
    "                pickle.dump(model, f)\n",
    "            with open(loss_path, 'wb') as f:\n",
    "                pickle.dump(losses, f)"
   ]
  },
  {
   "cell_type": "code",
   "execution_count": 6,
   "metadata": {},
   "outputs": [],
   "source": [
    "load = True\n",
    "if (load and exists(model_path)) :\n",
    "    with open(model_path, 'rb') as f:\n",
    "        model = pickle.load(f)\n",
    "    with open(loss_path, 'rb') as f:\n",
    "        losses = pickle.load(f)\n",
    "else :\n",
    "    model = GraphEvolution(in_channels=4, out_channels=4, hidden_channels=32, heads=7, dropout=0.01, edge_dim=len(data_train.attributes))\n",
    "    losses = []\n",
    "    \n",
    "assert isinstance(model, GraphEvolution)\n",
    "\n",
    "#might want to investigate AdamP \n",
    "optimizer = AdamP(model.parameters(), lr=2e-3, betas=(0.9, 0.999), eps=1e-8, weight_decay=5e-3, delta=0.1, wd_ratio=0.1, nesterov=True)\n",
    "scheduler = CosineAnnealingWarmRestarts(optimizer=optimizer, T_0=10, T_mult=2, eta_min=1e-5)"
   ]
  },
  {
   "cell_type": "code",
   "execution_count": null,
   "metadata": {},
   "outputs": [
    {
     "name": "stdout",
     "output_type": "stream",
     "text": [
      "Epoch :  40 Test loss :  0.039442543145269154                                                               \n",
      "Epoch :  50 Test loss :  0.03852382559096441                                                                \n",
      "Epoch :  60 Test loss :  0.0352633522124961                                                                 \n",
      "Epoch :  70 Test loss :  0.038478864203207196                                                               \n",
      "Epoch :  80 Test loss :  0.035006512058898806                                                               \n",
      "Epoch :  90 Test loss :  0.034492358285933736                                                               \n",
      "Epoch :  100 Test loss :  0.033827737369574604                                                              \n",
      "Epoch :  110 Test loss :  0.03475434453226626                                                               \n",
      "Epoch :  120 Test loss :  0.03620127455797047                                                               \n",
      "Epoch :  130 Test loss :  0.03594344271346927                                                               \n",
      "Epoch :  140 Test loss :  0.03554327213438228                                                               \n",
      "Current loss :  0.01969883032143116  ...  88 / 200 . Current memory usage :  10113  MB, loaded  200         \r"
     ]
    }
   ],
   "source": [
    "epochs = 501\n",
    "grapher = GraphingLoss(losses)\n",
    "scheduler.step(len(losses))\n",
    "try :\n",
    "    grapher.gstart(20)\n",
    "    start(model, optimizer, scheduler, data_train, data_test, \"cuda\" if torch.cuda.is_available() else \"cpu\", epochs, len(losses), save=50, early_stop = False)\n",
    "finally :\n",
    "    grapher.gstop()"
   ]
  },
  {
   "cell_type": "code",
   "execution_count": null,
   "metadata": {
    "slideshow": {
     "slide_type": "slide"
    }
   },
   "outputs": [],
   "source": [
    "#things to do :\n",
    "    #make sure this model doesn't use past times (normally should not since the graph is disconnected and it's based on message passing)"
   ]
  }
 ],
 "metadata": {
  "kernelspec": {
   "display_name": "Python [conda env:geom]",
   "language": "python",
   "name": "conda-env-geom-py"
  },
  "language_info": {
   "codemirror_mode": {
    "name": "ipython",
    "version": 3
   },
   "file_extension": ".py",
   "mimetype": "text/x-python",
   "name": "python",
   "nbconvert_exporter": "python",
   "pygments_lexer": "ipython3",
   "version": "3.10.8"
  },
  "vscode": {
   "interpreter": {
    "hash": "c671acb9d3cf87d64ea7277f1f1b7981cda534cb27553b34f82b93fda7c98f17"
   }
  }
 },
 "nbformat": 4,
 "nbformat_minor": 4
}
