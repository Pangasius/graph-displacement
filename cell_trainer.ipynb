{
 "cells": [
  {
   "cell_type": "markdown",
   "metadata": {},
   "source": [
    "In this notebook, I will use torch_geometric to predict the developpement of a graph of positions through time"
   ]
  },
  {
   "cell_type": "code",
   "execution_count": 1,
   "metadata": {},
   "outputs": [
    {
     "data": {
      "text/plain": [
       "'\\nI realized I am leaning towards this approach https://doi.org/10.1016/j.trc.2020.102635\\n'"
      ]
     },
     "execution_count": 1,
     "metadata": {},
     "output_type": "execute_result"
    }
   ],
   "source": [
    "\"\"\"\n",
    "I realized I am leaning towards this approach https://doi.org/10.1016/j.trc.2020.102635\n",
    "\"\"\""
   ]
  },
  {
   "cell_type": "code",
   "execution_count": 2,
   "metadata": {},
   "outputs": [],
   "source": [
    "# import torch\n",
    "# from torch_geometric.nn import knn_graph\n",
    "\n",
    "# import timeit\n",
    "\n",
    "# timeit.timeit(\"knn_graph(torch.randn(1000, 3), k=10)\", setup=\"from __main__ import knn_graph; import torch\", number=10000)"
   ]
  },
  {
   "cell_type": "code",
   "execution_count": 3,
   "metadata": {},
   "outputs": [
    {
     "name": "stdout",
     "output_type": "stream",
     "text": [
      "Using :  496\n",
      "Available :  43791\n",
      "True\n",
      "Cannot import zuko. Continuing without prior\n",
      "No module named 'pycapmd'\n",
      "Cannot import simulator\n"
     ]
    }
   ],
   "source": [
    "import torch\n",
    "from torch.optim.lr_scheduler import CosineAnnealingWarmRestarts\n",
    "\n",
    "import pickle\n",
    "\n",
    "import sys\n",
    "import os\n",
    "from genericpath import exists\n",
    "\n",
    "from cell_dataset import CellGraphDataset, load, single_overfit_dataset\n",
    "from cell_model import Gatv2Predictor, Gatv2PredictorDiscr, ConvPredictor\n",
    "from cell_utils import GraphingLoss, make_animation\n",
    "from cell_training import train, test_single, compute_parameters, run_single_recursive\n",
    "\n",
    "import matplotlib.pyplot as plt\n",
    "\n",
    "import os, psutil\n",
    "process = psutil.Process(os.getpid())\n",
    "print(\"Using : \", process.memory_info().rss // 1000000)  # in megabytes \n",
    "print(\"Available : \", process.memory_info().vms  // 1000000)  # in megabytes \n",
    "\n",
    "print(torch.cuda.is_available())\n",
    "\n",
    "#https://github.com/clovaai/AdamP\n",
    "from adamp import AdamP\n",
    "\n",
    "sys.path.append('/home/nstillman/1_sbi_activematter/cpp_model')\n",
    "try :\n",
    "    import allium\n",
    "except :\n",
    "    print(\"Could not import allium\")"
   ]
  },
  {
   "cell_type": "markdown",
   "metadata": {},
   "source": [
    "The data is a graph of cells having their own positions and velocity.\n",
    "\n",
    "In the graph, we will first start by connecting all the edges, then maybe later make radius_graphs to reduce the cost of the pass through the model"
   ]
  },
  {
   "cell_type": "code",
   "execution_count": 4,
   "metadata": {},
   "outputs": [
    {
     "name": "stdout",
     "output_type": "stream",
     "text": [
      "_open_ht_hv_2_64_relative_laplace\n"
     ]
    }
   ],
   "source": [
    "load_all =  True #load directly from a pickle\n",
    "pre_separated = False #if three subfolders already exist for train test and val\n",
    "\n",
    "override = False #make this true to always use the same ones\n",
    "\n",
    "extension = \"_open_ht_hv\"\n",
    "number_of_messages = 2\n",
    "size_of_messages = 64\n",
    "absolute = 0\n",
    "epochs = 1\n",
    "distrib = \"laplace\"\n",
    "\n",
    "name_complete = extension + \"_\" + str(number_of_messages) + \"_\" + str(size_of_messages) + \"_\" + (\"absolute\" if absolute else \"relative\") + \"_\" + distrib\n",
    "\n",
    "print(name_complete)\n",
    "\n",
    "model_path = \"models/model\" + name_complete\n",
    "loss_path = \"models/loss\" + name_complete"
   ]
  },
  {
   "cell_type": "code",
   "execution_count": 5,
   "metadata": {},
   "outputs": [
    {
     "name": "stdout",
     "output_type": "stream",
     "text": [
      "Validation data not found\n"
     ]
    }
   ],
   "source": [
    "data_train, data_test, data_val = load(load_all, extension, pre_separated, override)"
   ]
  },
  {
   "cell_type": "code",
   "execution_count": 6,
   "metadata": {},
   "outputs": [
    {
     "name": "stdout",
     "output_type": "stream",
     "text": [
      "Is data wrapped ?  False\n",
      "Train size :  900\n"
     ]
    }
   ],
   "source": [
    "#INFO : if bg_load is True, this starts the loading, if skipped, bg_loading will take place as soon as a get is called\n",
    "rval, edge_index, edge_attr, border, params = data_train.get(0)\n",
    "rval, edge_index, edge_attr, border, params = data_test.get(0)\n",
    "\n",
    "print(\"Is data wrapped ? \", data_train.wrap)\n",
    "\n",
    "print(\"Train size : \", data_train.len())"
   ]
  },
  {
   "cell_type": "markdown",
   "metadata": {},
   "source": [
    "Next we need to define the model that will be used :\n",
    "    > input \n",
    "        (1) Graph at a particular time t (nodes having x,y,dx,dy as attributes)\n",
    "        (2) Graphs up to a particular time [t-a, t] (nodes having x,y as attributes)\n",
    "    > output\n",
    "        (a) Graph at the immediate next time step t+1\n",
    "        (b) Graph [t, t+b]\n",
    "        (c) Graph at t+b\n",
    "    > graph size\n",
    "        (x) Fixed graph size to the most nodes possible (or above)\n",
    "        (y) Unbounded graph size\n",
    "            >> idea : graph walks\n",
    "            >> idea : sampler"
   ]
  },
  {
   "cell_type": "markdown",
   "metadata": {},
   "source": [
    "The following model will do (1ax)"
   ]
  },
  {
   "cell_type": "code",
   "execution_count": 7,
   "metadata": {},
   "outputs": [],
   "source": [
    "def start(model : Gatv2Predictor, optimizer : torch.optim.Optimizer, scheduler  : torch.optim.lr_scheduler._LRScheduler,\\\n",
    "          data_train : CellGraphDataset, data_test : CellGraphDataset, device : torch.device, epoch : int, offset : int, grapher : GraphingLoss, save=0, save_datasets=True, relative=True):\n",
    "    \n",
    "    loss_history_train = {\"loss_mean\" : [], \"loss_log\" : [], \"loss\" : []}\n",
    "    loss_history_test_recursive = {\"loss_mean\" : [], \"loss_log\" : [], \"loss\" : []}\n",
    "    for e in range(offset, offset + epoch):\n",
    "        \n",
    "        recursive = True\n",
    "\n",
    "        train(model, optimizer, scheduler, data_train, device, e, process, max_epoch=offset+epoch, recursive=recursive, distrib=distrib, relative=relative)\n",
    "\n",
    "        #model.show_gradients()\n",
    "        \n",
    "        if(e == 0 and save_datasets) :\n",
    "            data_train.thread = None\n",
    "            data_test.thread = None\n",
    "            with open(\"data/training\" + extension + \".pkl\", 'wb') as f:\n",
    "                pickle.dump(data_train, f)\n",
    "            with open(\"data/testing\" + extension + \".pkl\", 'wb') as f:\n",
    "                pickle.dump(data_test, f)\n",
    "            print(\"Saved datasets\")\n",
    "        \n",
    "\n",
    "        train_loss = test_single(model, data_train, device, loss_history_train, duration=0, recursive=False, distrib=distrib, relative=relative)\n",
    "        test_loss_r = test_single(model, data_test, device, loss_history_test_recursive, duration=0, recursive=True, distrib=distrib, relative=relative)\n",
    "\n",
    "        print(\"Epoch : \", e, \"Train Loss\", train_loss, \"Test loss recursive : \", test_loss_r)\n",
    "\n",
    "        grapher.plot_losses(title=\"Training\", data=loss_history_train, length=min(50, len(data_train)), extension=name_complete + \"_\") \n",
    "        grapher.plot_losses(title=\"Testing recursive\", data=loss_history_test_recursive, length=min(50, len(data_test)), extension=name_complete + \"_\") \n",
    "        \n",
    "        if (e%save == 0) :      \n",
    "            all_params_out, all_params_true = compute_parameters(model, data_test, device, duration=-1, distrib=distrib, relative=relative)\n",
    "            grapher.plot_params(all_params_out, all_params_true, e, extension=name_complete)\n",
    "        \n",
    "        if (save and (e%save == 0 or e == epoch-1)) :\n",
    "            torch.save(model.state_dict(), model_path + str(e) + \".pt\")"
   ]
  },
  {
   "cell_type": "code",
   "execution_count": 8,
   "metadata": {},
   "outputs": [],
   "source": [
    "load = False\n",
    "\n",
    "epoch_to_load = 0\n",
    "\n",
    "model = Gatv2Predictor(in_channels=12, out_channels=8, hidden_channels=size_of_messages, dropout=0.1, edge_dim=2, messages=number_of_messages, wrap=data_train.wrap, absolute=absolute)\n",
    "#model = Gatv2Predictor(in_channels=9, out_channels=4, hidden_channels=32, dropout=0.01, edge_dim=2, messages=5, wrap=True)\n",
    "#model = Gatv2PredictorDiscr(in_channels=9, out_channels=4, hidden_channels=16, dropout=0.01, edge_dim=2, messages=5, wrap=True)\n",
    "#model = ConvPredictor(in_channels=16, out_channels=8, hidden_channels=size_of_messages, dropout=0.05, edge_dim=2, messages=number_of_messages, wrap=data_train.wrap, absolute=absolute, heads=4)\n",
    "\n",
    "if exists(model_path + str(epoch_to_load) + \".pt\") and load :\n",
    "    model.load_state_dict(torch.load(model_path + str(epoch_to_load) + \".pt\"))\n",
    "    print(\"Loaded model\")"
   ]
  },
  {
   "cell_type": "code",
   "execution_count": 9,
   "metadata": {},
   "outputs": [],
   "source": [
    "#might want to investigate AdamP \n",
    "optimizer = AdamP(model.parameters(), lr=1e-4, betas=(0.9, 0.999), eps=1e-0, weight_decay=5e-3, delta=0.1, wd_ratio=0.1, nesterov=True)\n",
    "scheduler = CosineAnnealingWarmRestarts(optimizer=optimizer, T_0=10, T_mult=2)\n",
    "\n",
    "device = torch.device(\"cuda\" if torch.cuda.is_available() else \"cpu\")"
   ]
  },
  {
   "cell_type": "code",
   "execution_count": 10,
   "metadata": {},
   "outputs": [],
   "source": [
    "grapher = GraphingLoss()\n",
    "\n",
    "model = model.to(device)\n",
    "\n",
    "#all_params_out, all_params_true = compute_parameters(model.to(device), data_test, device, duration=0)\n",
    "#grapher.plot_params(all_params_out, all_params_true, epoch_to_load, extension=extension)"
   ]
  },
  {
   "cell_type": "code",
   "execution_count": 11,
   "metadata": {},
   "outputs": [
    {
     "name": "stdout",
     "output_type": "stream",
     "text": [
      "Epoch :  0 Train Loss 298.610263671875 Test loss recursive :  1.9397452235221864   \n"
     ]
    }
   ],
   "source": [
    "start(model, optimizer, scheduler, data_train, data_test, device, \\\n",
    "        epochs, epoch_to_load, grapher=grapher, save=10, save_datasets=False, relative=not absolute)"
   ]
  },
  {
   "cell_type": "code",
   "execution_count": 12,
   "metadata": {},
   "outputs": [],
   "source": [
    "epochs = 1"
   ]
  },
  {
   "cell_type": "code",
   "execution_count": 13,
   "metadata": {},
   "outputs": [],
   "source": [
    "#all_params_out, all_params_true = compute_parameters(model, data_test, device, duration=-1, distrib=distrib)\n",
    "#grapher.plot_params(all_params_out, all_params_true, epochs - 1, extension=extension)"
   ]
  },
  {
   "cell_type": "code",
   "execution_count": 14,
   "metadata": {},
   "outputs": [
    {
     "data": {
      "image/png": "[encoded data removed]",
      "text/plain": [
       "<Figure size 640x480 with 1 Axes>"
      ]
     },
     "metadata": {},
     "output_type": "display_data"
    }
   ],
   "source": [
    "loss, out, x = run_single_recursive(model, data_test, 0, device, output=True, distrib=distrib, relative=not absolute)\n",
    "\n",
    "if x == None or out == None :\n",
    "    print(\"No output\")\n",
    "    exit()\n",
    "\n",
    "#make x the size of the output\n",
    "x = x[:out.shape[0], :out.shape[1], :model.out_channels // 2]\n",
    "out = out[:out.shape[0], :out.shape[1], :model.out_channels // 2]\n",
    "\n",
    "out = out.detach().cpu().numpy()\n",
    "x = x.detach().cpu().numpy()\n",
    "\n",
    "\n",
    "result_name = \"models/result_recursive\" + name_complete + \"_\" + str(epochs-1) + \".pkl\"\n",
    "\n",
    "with open(result_name, \"wb\") as f:\n",
    "    pickle.dump((out, x), f)\n",
    "\n",
    "t = 10\n",
    "fig = plt.figure()\n",
    "\n",
    "#now plot the graph as bubbles to show the difference between the two\n",
    "plt.scatter(x[t, :,0],x[t, :,1], s=100, c='b', alpha=0.5)\n",
    "plt.scatter(out[t, :,0],out[t, :,1], s=100, c='r', alpha=0.5)\n",
    "\n",
    "plt.show()\n",
    "plt.close()\n",
    "\n",
    "#animation_name = \"models/animation_recursive\" + name_complete + \"_\" + str(epochs-1) + \".mp4\"\n",
    "#make_animation(result_name, animation_name, show_speed=False)\n"
   ]
  }
 ],
 "metadata": {
  "kernelspec": {
   "display_name": "geom",
   "language": "python",
   "name": "python3"
  },
  "language_info": {
   "codemirror_mode": {
    "name": "ipython",
    "version": 3
   },
   "file_extension": ".py",
   "mimetype": "text/x-python",
   "name": "python",
   "nbconvert_exporter": "python",
   "pygments_lexer": "ipython3",
   "version": "3.10.10"
  }
 },
 "nbformat": 4,
 "nbformat_minor": 4
}
