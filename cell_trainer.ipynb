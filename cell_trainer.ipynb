{
 "cells": [
  {
   "cell_type": "markdown",
   "metadata": {},
   "source": [
    "In this notebook, I will use torch_geometric to predict the developpement of a graph of positions through time"
   ]
  },
  {
   "cell_type": "code",
   "execution_count": 1,
   "metadata": {},
   "outputs": [
    {
     "data": {
      "text/plain": [
       "'\\nI realized I am leaning towards this approach https://doi.org/10.1016/j.trc.2020.102635\\n'"
      ]
     },
     "execution_count": 1,
     "metadata": {},
     "output_type": "execute_result"
    }
   ],
   "source": [
    "\"\"\"\n",
    "I realized I am leaning towards this approach https://doi.org/10.1016/j.trc.2020.102635\n",
    "\"\"\""
   ]
  },
  {
   "cell_type": "code",
   "execution_count": 1,
   "metadata": {},
   "outputs": [
    {
     "name": "stderr",
     "output_type": "stream",
     "text": [
      "c:\\Users\\gille\\miniconda3\\envs\\geom\\lib\\site-packages\\tqdm\\auto.py:22: TqdmWarning: IProgress not found. Please update jupyter and ipywidgets. See https://ipywidgets.readthedocs.io/en/stable/user_install.html\n",
      "  from .autonotebook import tqdm as notebook_tqdm\n"
     ]
    },
    {
     "name": "stdout",
     "output_type": "stream",
     "text": [
      "Using :  293\n",
      "Available :  3271\n",
      "True\n",
      "Could not import allium\n"
     ]
    }
   ],
   "source": [
    "import torch\n",
    "from torch.optim.lr_scheduler import CosineAnnealingWarmRestarts\n",
    "\n",
    "import pickle\n",
    "\n",
    "import sys\n",
    "import os\n",
    "from genericpath import exists\n",
    "\n",
    "from cell_dataset import CellGraphDataset, load, single_overfit_dataset\n",
    "from cell_model import GraphEvolution, GraphEvolutionDiscr\n",
    "from cell_utils import GraphingLoss, make_animation\n",
    "from cell_training import train, test_single, compute_parameters, run_single_recursive\n",
    "\n",
    "import matplotlib.pyplot as plt\n",
    "\n",
    "import os, psutil\n",
    "process = psutil.Process(os.getpid())\n",
    "print(\"Using : \", process.memory_info().rss // 1000000)  # in megabytes \n",
    "print(\"Available : \", process.memory_info().vms  // 1000000)  # in megabytes \n",
    "\n",
    "print(torch.cuda.is_available())\n",
    "\n",
    "#https://github.com/clovaai/AdamP\n",
    "from adamp import AdamP\n",
    "\n",
    "sys.path.append('/home/nstillman/1_sbi_activematter/cpp_model')\n",
    "try :\n",
    "    import allium\n",
    "except :\n",
    "    print(\"Could not import allium\")"
   ]
  },
  {
   "cell_type": "markdown",
   "metadata": {},
   "source": [
    "The data is a graph of cells having their own positions and velocity.\n",
    "\n",
    "In the graph, we will first start by connecting all the edges, then maybe later make radius_graphs to reduce the cost of the pass through the model"
   ]
  },
  {
   "cell_type": "code",
   "execution_count": 2,
   "metadata": {},
   "outputs": [
    {
     "name": "stdout",
     "output_type": "stream",
     "text": [
      "Validation data not found\n"
     ]
    }
   ],
   "source": [
    "load_all =  True #load directly from a pickle\n",
    "pre_separated = False #if three subfolders already exist for train test and val\n",
    "\n",
    "override = False #make this true to always use the same ones\n",
    "\n",
    "extension = \"_open_lt_hv\"\n",
    "number_of_messages = 2\n",
    "size_of_messages = 64\n",
    "absolute = 0\n",
    "epochs = 160\n",
    "\n",
    "model_path = \"models/model\" + extension + \"_\" + str(number_of_messages) + \"_\" + str(size_of_messages) + \"_\" + (\"absolute\" if absolute else \"relative\")\n",
    "loss_path = \"models/loss\" + extension + \"_\" + str(number_of_messages) + \"_\" + str(size_of_messages) + \"_\" + (\"absolute\" if absolute else \"relative\")\n",
    "\n",
    "data_train, data_test, data_val = load(load_all, extension, pre_separated, override)"
   ]
  },
  {
   "cell_type": "code",
   "execution_count": 4,
   "metadata": {},
   "outputs": [
    {
     "name": "stdout",
     "output_type": "stream",
     "text": [
      "Is data wrapped ?  False\n"
     ]
    }
   ],
   "source": [
    "#INFO : if bg_load is True, this starts the loading, if skipped, bg_loading will take place as soon as a get is called\n",
    "rval, edge_index, edge_attr, border, params = data_train.get(0)\n",
    "rval, edge_index, edge_attr, border, params = data_test.get(0)\n",
    "\n",
    "print(\"Is data wrapped ? \", data_train.wrap)"
   ]
  },
  {
   "cell_type": "markdown",
   "metadata": {},
   "source": [
    "Next we need to define the model that will be used :\n",
    "    > input \n",
    "        (1) Graph at a particular time t (nodes having x,y,dx,dy as attributes)\n",
    "        (2) Graphs up to a particular time [t-a, t] (nodes having x,y as attributes)\n",
    "    > output\n",
    "        (a) Graph at the immediate next time step t+1\n",
    "        (b) Graph [t, t+b]\n",
    "        (c) Graph at t+b\n",
    "    > graph size\n",
    "        (x) Fixed graph size to the most nodes possible (or above)\n",
    "        (y) Unbounded graph size\n",
    "            >> idea : graph walks\n",
    "            >> idea : sampler"
   ]
  },
  {
   "cell_type": "markdown",
   "metadata": {},
   "source": [
    "The following model will do (1ax)"
   ]
  },
  {
   "cell_type": "code",
   "execution_count": 5,
   "metadata": {},
   "outputs": [],
   "source": [
    "def start(model : GraphEvolution, optimizer : torch.optim.Optimizer, scheduler  : torch.optim.lr_scheduler._LRScheduler,\\\n",
    "          data_train : CellGraphDataset, data_test : CellGraphDataset, device : torch.device, epoch : int, offset : int, grapher : GraphingLoss, save=0, save_datasets=True):\n",
    "    \n",
    "    loss_history_train = {\"loss_mean\" : [], \"loss_log\" : [], \"loss\" : []}\n",
    "    loss_history_test_recursive = {\"loss_mean\" : [], \"loss_log\" : [], \"loss\" : []}\n",
    "    loss_history_test_single = {\"loss_mean\" : [], \"loss_log\" : [], \"loss\" : []}\n",
    "    for e in range(offset, offset + epoch):\n",
    "        \n",
    "        recursive = epoch > 10\n",
    "\n",
    "        train(model, optimizer, scheduler, data_train, device, e, process, max_epoch=offset+epoch, loss_history = loss_history_train, recursive=recursive)\n",
    "\n",
    "        #model.show_gradients()\n",
    "        \n",
    "        if(e == 0 and save_datasets) :\n",
    "            data_train.thread = None\n",
    "            data_test.thread = None\n",
    "            with open(\"data/training\" + extension + \".pkl\", 'wb') as f:\n",
    "                pickle.dump(data_train, f)\n",
    "            with open(\"data/testing\" + extension + \".pkl\", 'wb') as f:\n",
    "                pickle.dump(data_test, f)\n",
    "            print(\"Saved datasets\")\n",
    "        \n",
    "\n",
    "        test_loss_s = test_single(model, data_test, device, loss_history_test_recursive, duration=16, recursive=False)\n",
    "        test_loss_r = test_single(model, data_test, device, loss_history_test_single, duration=16, recursive=True)\n",
    "\n",
    "        print(\"Epoch : \", e, \"Test loss : \", test_loss_s, \"Test loss recursive : \", test_loss_r)\n",
    "\n",
    "\n",
    "        grapher.plot_losses(title=\"Training\", data=loss_history_train, extension=extension + \"_\" + str(number_of_messages) + \"_\" + str(size_of_messages) + \"_\" + (\"absolute\" if absolute else \"relative\") + \"_\") \n",
    "        grapher.plot_losses(title=\"Testing\", data=loss_history_test_recursive, extension=extension + \"_\" + str(number_of_messages) + \"_\" + str(size_of_messages) + \"_\" + (\"absolute\" if absolute else \"relative\") + \"_\") \n",
    "        grapher.plot_losses(title=\"Testing recursive\", data=loss_history_test_single, extension=extension + \"_\" + str(number_of_messages) + \"_\" + str(size_of_messages) + \"_\" + (\"absolute\" if absolute else \"relative\") + \"_\") \n",
    "        \n",
    "        if (e%save == 0) :      \n",
    "            all_params_out, all_params_true = compute_parameters(model, data_test, device, duration=-1)\n",
    "            grapher.plot_params(all_params_out, all_params_true, e, extension=extension + \"_\" + str(number_of_messages) + \"_\" + str(size_of_messages) + \"_\" + (\"absolute\" if absolute else \"relative\"))\n",
    "        \n",
    "        if (save and (e%save == 0 or e == epoch-1)) :\n",
    "            torch.save(model.state_dict(), model_path + str(e) + \".pt\")"
   ]
  },
  {
   "cell_type": "code",
   "execution_count": 3,
   "metadata": {},
   "outputs": [
    {
     "name": "stdout",
     "output_type": "stream",
     "text": [
      "Loaded model\n"
     ]
    }
   ],
   "source": [
    "load = True\n",
    "\n",
    "epoch_to_load = 100\n",
    "\n",
    "model = GraphEvolution(in_channels=14, out_channels=4, hidden_channels=size_of_messages, dropout=0.05, edge_dim=2, messages=number_of_messages, wrap=data_train.wrap, absolute=absolute)\n",
    "#model = GraphEvolution(in_channels=9, out_channels=4, hidden_channels=32, dropout=0.01, edge_dim=2, messages=5, wrap=True)\n",
    "#model = GraphEvolutionDiscr(in_channels=9, out_channels=4, hidden_channels=16, dropout=0.01, edge_dim=2, messages=5, wrap=True)\n",
    "\n",
    "if exists(model_path + str(epoch_to_load) + \".pt\") and load :\n",
    "    model.load_state_dict(torch.load(model_path + str(epoch_to_load) + \".pt\"))\n",
    "    print(\"Loaded model\")"
   ]
  },
  {
   "cell_type": "code",
   "execution_count": 4,
   "metadata": {},
   "outputs": [],
   "source": [
    "#might want to investigate AdamP \n",
    "optimizer = AdamP(model.parameters(), lr=1e-3, betas=(0.9, 0.999), eps=1e-0, weight_decay=5e-3, delta=0.1, wd_ratio=0.1, nesterov=True)\n",
    "scheduler = CosineAnnealingWarmRestarts(optimizer=optimizer, T_0=10, T_mult=2)\n",
    "\n",
    "device = torch.device(\"cuda\" if torch.cuda.is_available() else \"cpu\")"
   ]
  },
  {
   "cell_type": "code",
   "execution_count": 5,
   "metadata": {},
   "outputs": [],
   "source": [
    "grapher = GraphingLoss()\n",
    "\n",
    "model = model.to(device)\n",
    "\n",
    "#all_params_out, all_params_true = compute_parameters(model.to(device), data_test, device, duration=0)\n",
    "#grapher.plot_params(all_params_out, all_params_true, epoch_to_load, extension=extension)"
   ]
  },
  {
   "cell_type": "code",
   "execution_count": 9,
   "metadata": {},
   "outputs": [
    {
     "name": "stdout",
     "output_type": "stream",
     "text": [
      "Epoch :  0 Test loss :  0.8968114930391312 Test loss recursive :  12.359140548706055\n",
      "Epoch :  1 Test loss :  0.8488066601753235 Test loss recursive :  13.089103775024414\n",
      "Epoch :  2 Test loss :  0.7289852875471116 Test loss recursive :  15.040167455673219\n",
      "Epoch :  3 Test loss :  0.5112697660923005 Test loss recursive :  20.751862773895265\n",
      "Epoch :  4 Test loss :  0.47903104186058043 Test loss recursive :  23.111919269561767\n",
      "Epoch :  5 Test loss :  0.8171311968564987 Test loss recursive :  10.87801082611084\n",
      "Epoch :  6 Test loss :  0.8213048636913299 Test loss recursive :  10.651217889785766\n",
      "Epoch :  7 Test loss :  0.8202185863256455 Test loss recursive :  10.951782236099243\n",
      "Epoch :  8 Test loss :  0.7845721650123596 Test loss recursive :  11.88713062286377\n",
      "Epoch :  9 Test loss :  0.8165939599275589 Test loss recursive :  10.26571530342102\n",
      "Epoch :  10 Test loss :  1.047590582370758 Test loss recursive :  6.689527525901794\n",
      "Epoch :  11 Test loss :  1.0612707018852234 Test loss recursive :  6.4101614665985105\n",
      "Epoch :  12 Test loss :  1.0342507338523865 Test loss recursive :  6.730263824462891\n",
      "Epoch :  13 Test loss :  1.048856475353241 Test loss recursive :  6.342209420204163\n",
      "Epoch :  14 Test loss :  1.010927723646164 Test loss recursive :  6.752373809814453\n",
      "Epoch :  15 Test loss :  1.1883939361572267 Test loss recursive :  4.69746431350708\n",
      "Epoch :  16 Test loss :  1.1599251425266266 Test loss recursive :  4.669032950401306\n",
      "Epoch :  17 Test loss :  1.116137832403183 Test loss recursive :  4.947247619628906\n",
      "Epoch :  18 Test loss :  1.1055424559116362 Test loss recursive :  4.56777027130127\n",
      "Epoch :  19 Test loss :  1.0568254590034485 Test loss recursive :  4.565378570556641\n",
      "Epoch :  20 Test loss :  1.139807344675064 Test loss recursive :  3.7095746922492983\n",
      "Epoch :  21 Test loss :  1.0714694440364838 Test loss recursive :  3.7345902490615845\n",
      "Epoch :  22 Test loss :  1.0177457910776138 Test loss recursive :  3.747469005584717\n",
      "Epoch :  23 Test loss :  0.9391636389493943 Test loss recursive :  3.6128056502342223\n",
      "Epoch :  24 Test loss :  0.8622222161293029 Test loss recursive :  3.4601000213623045\n",
      "Epoch :  25 Test loss :  0.8605124706029892 Test loss recursive :  3.145222792625427\n",
      "Epoch :  26 Test loss :  0.7779395043849945 Test loss recursive :  3.0934365820884704\n",
      "Epoch :  27 Test loss :  0.6820562821626663 Test loss recursive :  3.0383487939834595\n",
      "Epoch :  28 Test loss :  0.588460823893547 Test loss recursive :  3.1289330887794495\n",
      "Epoch :  29 Test loss :  0.5091404151916504 Test loss recursive :  3.0141361260414126\n",
      "Epoch :  30 Test loss :  0.46661473125219344 Test loss recursive :  2.8302536153793336\n",
      "Epoch :  31 Test loss :  0.39231391191482545 Test loss recursive :  2.8565480375289916\n",
      "Epoch :  32 Test loss :  0.3431872594356537 Test loss recursive :  2.8176338863372803\n",
      "Epoch :  33 Test loss :  0.331635522544384 Test loss recursive :  2.913100519180298\n",
      "Epoch :  34 Test loss :  0.28476856350898744 Test loss recursive :  2.8481947064399717\n",
      "Epoch :  35 Test loss :  0.288272340297699 Test loss recursive :  2.7372029495239256\n",
      "Epoch :  36 Test loss :  0.26631286442279817 Test loss recursive :  2.7393730092048645\n",
      "Epoch :  37 Test loss :  0.24840665116906166 Test loss recursive :  2.740553574562073\n",
      "Epoch :  38 Test loss :  0.23026746064424514 Test loss recursive :  2.7518628334999082\n",
      "Epoch :  39 Test loss :  0.22657515734434128 Test loss recursive :  2.7674677896499635\n",
      "Epoch :  40 Test loss :  0.23397218331694603 Test loss recursive :  2.693090980052948\n",
      "Epoch :  41 Test loss :  0.2229659716784954 Test loss recursive :  2.6762376761436464\n",
      "Epoch :  42 Test loss :  0.23729038655757903 Test loss recursive :  2.692820191383362\n",
      "Epoch :  43 Test loss :  0.20650759175419808 Test loss recursive :  2.6964899134635925\n",
      "Epoch :  44 Test loss :  0.20137293070554732 Test loss recursive :  2.6815338587760924\n",
      "Epoch :  45 Test loss :  0.20735236182808875 Test loss recursive :  2.627099046707153\n",
      "Epoch :  46 Test loss :  0.19448753595352172 Test loss recursive :  2.6309072184562683\n",
      "Epoch :  47 Test loss :  0.18850421845912935 Test loss recursive :  2.6388194513320924\n",
      "Epoch :  48 Test loss :  0.1812417921423912 Test loss recursive :  2.6294146537780763\n",
      "Epoch :  49 Test loss :  0.17823940202593802 Test loss recursive :  2.6293376874923706\n",
      "Epoch :  50 Test loss :  0.18241350263357162 Test loss recursive :  2.6026968455314634\n",
      "Epoch :  51 Test loss :  0.16965296298265456 Test loss recursive :  2.6079499650001527\n",
      "Epoch :  52 Test loss :  0.16201445057988167 Test loss recursive :  2.603330898284912\n",
      "Epoch :  53 Test loss :  0.16491537883877755 Test loss recursive :  2.6034690308570863\n",
      "Epoch :  54 Test loss :  0.15528915651142597 Test loss recursive :  2.6069347143173216\n",
      "Epoch :  55 Test loss :  0.1596902894973755 Test loss recursive :  2.594031686782837\n",
      "Epoch :  56 Test loss :  0.15384402818977833 Test loss recursive :  2.584078993797302\n",
      "Epoch :  57 Test loss :  0.14972809620201588 Test loss recursive :  2.586846024990082\n",
      "Epoch :  58 Test loss :  0.1546085039526224 Test loss recursive :  2.580835189819336\n",
      "Epoch :  59 Test loss :  0.15735992923378944 Test loss recursive :  2.5883120608329775\n",
      "Epoch :  60 Test loss :  0.146968809440732 Test loss recursive :  2.5710411071777344\n",
      "Epoch :  61 Test loss :  0.14140123210847377 Test loss recursive :  2.574571626186371\n",
      "Epoch :  62 Test loss :  0.1428272484987974 Test loss recursive :  2.577011377811432\n",
      "Epoch :  63 Test loss :  0.1392862968146801 Test loss recursive :  2.569897632598877\n",
      "Epoch :  64 Test loss :  0.13268473468720912 Test loss recursive :  2.569812595844269\n",
      "Epoch :  65 Test loss :  0.13916789628565313 Test loss recursive :  2.569663782119751\n",
      "Epoch :  66 Test loss :  0.1252408267557621 Test loss recursive :  2.5679582953453064\n",
      "Epoch :  67 Test loss :  0.12531674683094024 Test loss recursive :  2.568666796684265\n",
      "Epoch :  68 Test loss :  0.12939280159771444 Test loss recursive :  2.5678451442718506\n",
      "Epoch :  69 Test loss :  0.11744757905602456 Test loss recursive :  2.5701330590248106\n",
      "Epoch :  70 Test loss :  0.13901805385947227 Test loss recursive :  2.576486792564392\n",
      "Epoch :  71 Test loss :  0.12338528305292129 Test loss recursive :  2.5718042707443236\n",
      "Epoch :  72 Test loss :  0.11690012268722057 Test loss recursive :  2.564803965091705\n",
      "Epoch :  73 Test loss :  0.11448939323425293 Test loss recursive :  2.5683259844779966\n",
      "Epoch :  74 Test loss :  0.11303261272609234 Test loss recursive :  2.567780222892761\n",
      "Epoch :  75 Test loss :  0.11243559822440147 Test loss recursive :  2.5786999678611755\n",
      "Epoch :  76 Test loss :  0.10766798324882984 Test loss recursive :  2.5685337138175965\n",
      "Epoch :  77 Test loss :  0.11392419882118703 Test loss recursive :  2.5798223853111266\n",
      "Epoch :  78 Test loss :  0.11566149093210697 Test loss recursive :  2.5790113854408263\n",
      "Epoch :  79 Test loss :  0.10357820294797421 Test loss recursive :  2.571538174152374\n",
      "Epoch :  80 Test loss :  0.1139927376061678 Test loss recursive :  2.5873135471343995\n",
      "Epoch :  81 Test loss :  0.10844299487769604 Test loss recursive :  2.578690450191498\n",
      "Epoch :  82 Test loss :  0.10504809647798538 Test loss recursive :  2.58732595205307\n",
      "Epoch :  83 Test loss :  0.09968417096883059 Test loss recursive :  2.5808538794517517\n",
      "Epoch :  84 Test loss :  0.10728544343262911 Test loss recursive :  2.580934088230133\n",
      "Epoch :  85 Test loss :  0.09632833063602447 Test loss recursive :  2.585776698589325\n",
      "Epoch :  86 Test loss :  0.09895083218812943 Test loss recursive :  2.5909455394744874\n",
      "Epoch :  87 Test loss :  0.0997970836609602 Test loss recursive :  2.5899911618232725\n",
      "Epoch :  88 Test loss :  0.09993128877133131 Test loss recursive :  2.586833052635193\n",
      "Epoch :  89 Test loss :  0.0926667158678174 Test loss recursive :  2.5921159482002256\n",
      "Epoch :  90 Test loss :  0.09465173352509737 Test loss recursive :  2.597344777584076\n",
      "Epoch :  91 Test loss :  0.10956169366836548 Test loss recursive :  2.600348014831543\n",
      "Epoch :  92 Test loss :  0.08476527672261 Test loss recursive :  2.593376200199127 \n",
      "Epoch :  93 Test loss :  0.09248895067721605 Test loss recursive :  2.600219039916992\n",
      "Epoch :  94 Test loss :  0.09939298812299967 Test loss recursive :  2.6155134797096253\n",
      "Epoch :  95 Test loss :  0.0924116213992238 Test loss recursive :  2.6032438349723814\n",
      "Epoch :  96 Test loss :  0.08978125557303429 Test loss recursive :  2.6187212824821473\n",
      "Epoch :  97 Test loss :  0.09518670719116926 Test loss recursive :  2.6040289664268492\n",
      "Epoch :  98 Test loss :  0.09525727920234203 Test loss recursive :  2.614787845611572\n",
      "Epoch :  99 Test loss :  0.08572954498231411 Test loss recursive :  2.602774810791016\n",
      "Epoch :  100 Test loss :  0.09214143749326467 Test loss recursive :  2.6263108444213867\n",
      "Epoch :  101 Test loss :  0.09617681298404931 Test loss recursive :  2.625131561756134\n",
      "Epoch :  102 Test loss :  0.09011666163802147 Test loss recursive :  2.616534180641174\n",
      "Epoch :  103 Test loss :  0.09220558039844036 Test loss recursive :  2.629251334667206\n",
      "Epoch :  104 Test loss :  0.08625129103660584 Test loss recursive :  2.6093028879165647\n",
      "Epoch :  105 Test loss :  0.09213804744184018 Test loss recursive :  2.639352648258209\n",
      "Epoch :  106 Test loss :  0.08772181514650583 Test loss recursive :  2.636742079257965\n",
      "Epoch :  107 Test loss :  0.0825642179697752 Test loss recursive :  2.6373250126838683\n",
      "Epoch :  108 Test loss :  0.0875116353854537 Test loss recursive :  2.6414936709403993\n",
      "Epoch :  109 Test loss :  0.08794099785387516 Test loss recursive :  2.6443893265724183\n",
      "Epoch :  110 Test loss :  0.09040983848273754 Test loss recursive :  2.6475800275802612\n",
      "Epoch :  111 Test loss :  0.08310527324676514 Test loss recursive :  2.6519192123413085\n",
      "Epoch :  112 Test loss :  0.07881159979850054 Test loss recursive :  2.650995228290558\n",
      "Epoch :  113 Test loss :  0.08795080959796905 Test loss recursive :  2.6480125784873962\n",
      "Epoch :  114 Test loss :  0.08357613436877727 Test loss recursive :  2.6325903391838072\n",
      "Epoch :  115 Test loss :  0.08928839173167943 Test loss recursive :  2.6415336966514587\n",
      "Epoch :  116 Test loss :  0.07947680376470088 Test loss recursive :  2.6559325671195984\n",
      "Epoch :  117 Test loss :  0.08016301993280649 Test loss recursive :  2.6465055656433107\n",
      "Epoch :  118 Test loss :  0.0849070082232356 Test loss recursive :  2.6580904293060303\n",
      "Epoch :  119 Test loss :  0.08551891554147005 Test loss recursive :  2.6643776965141295\n",
      "Epoch :  120 Test loss :  0.08359475634992122 Test loss recursive :  2.661421370506287\n",
      "Epoch :  121 Test loss :  0.08424853999167681 Test loss recursive :  2.6656171178817747\n",
      "Epoch :  122 Test loss :  0.07969611950218677 Test loss recursive :  2.673210909366608\n",
      "Epoch :  123 Test loss :  0.08901926517486572 Test loss recursive :  2.675077142715454\n",
      "Epoch :  124 Test loss :  0.08453966788947583 Test loss recursive :  2.6520873379707335\n",
      "Epoch :  125 Test loss :  0.07999281935393811 Test loss recursive :  2.6770238494873047\n",
      "Epoch :  126 Test loss :  0.07982520796358586 Test loss recursive :  2.6794202756881713\n",
      "Epoch :  127 Test loss :  0.08087591484189033 Test loss recursive :  2.690880835056305\n",
      "Epoch :  128 Test loss :  0.08408920995891095 Test loss recursive :  2.6721401381492615\n",
      "Epoch :  129 Test loss :  0.07481895089149475 Test loss recursive :  2.6575493717193606\n",
      "Epoch :  130 Test loss :  0.0798636569082737 Test loss recursive :  2.6845048117637633\n",
      "Epoch :  131 Test loss :  0.074761893581599 Test loss recursive :  2.6837545943260195\n",
      "Epoch :  132 Test loss :  0.08485514819622039 Test loss recursive :  2.7135669231414794\n",
      "Epoch :  133 Test loss :  0.07744234601035714 Test loss recursive :  2.6898076820373533\n",
      "Epoch :  134 Test loss :  0.07806861663237213 Test loss recursive :  2.7002548241615294\n",
      "Epoch :  135 Test loss :  0.08679008491337299 Test loss recursive :  2.714092288017273\n",
      "Epoch :  136 Test loss :  0.08429424591362476 Test loss recursive :  2.7062437176704406\n",
      "Epoch :  137 Test loss :  0.07928529404103755 Test loss recursive :  2.6963295698165894\n",
      "Epoch :  138 Test loss :  0.07812441699206829 Test loss recursive :  2.709528124332428\n",
      "Epoch :  139 Test loss :  0.0853507174178958 Test loss recursive :  2.7092417597770693\n",
      "Epoch :  140 Test loss :  0.07371741781011223 Test loss recursive :  2.7060985279083254\n",
      "Epoch :  141 Test loss :  0.07673808608204126 Test loss recursive :  2.7219624018669126\n",
      "Epoch :  142 Test loss :  0.08477730397135019 Test loss recursive :  2.735093710422516\n",
      "Current loss : 3.07, ... 82, / 800, Current memory usage : 3323 MB, loaded 800    \r"
     ]
    }
   ],
   "source": [
    "start(model, optimizer, scheduler, data_train, data_test, device, \\\n",
    "        epochs, epoch_to_load, grapher=grapher, save=100, save_datasets=False)"
   ]
  },
  {
   "cell_type": "code",
   "execution_count": 6,
   "metadata": {},
   "outputs": [],
   "source": [
    "epochs = 101"
   ]
  },
  {
   "cell_type": "code",
   "execution_count": null,
   "metadata": {},
   "outputs": [],
   "source": [
    "all_params_out, all_params_true = compute_parameters(model, data_test, device, duration=-1)\n",
    "grapher.plot_params(all_params_out, all_params_true, epochs - 1, extension=extension)"
   ]
  },
  {
   "cell_type": "code",
   "execution_count": 7,
   "metadata": {},
   "outputs": [
    {
     "name": "stdout",
     "output_type": "stream",
     "text": [
      "torch.Size([98, 100, 2])\n",
      "torch.Size([98, 100, 2])\n"
     ]
    },
    {
     "data": {
      "image/png": "[encoded data removed]",
      "text/plain": [
       "<Figure size 640x480 with 1 Axes>"
      ]
     },
     "metadata": {},
     "output_type": "display_data"
    }
   ],
   "source": [
    "loss_history = {'loss_mean' : [], 'loss_log' : [], 'loss' : []}\n",
    "loss, out, x = run_single_recursive(model, data_test, 0, device, loss_history, output=True)\n",
    "\n",
    "if x == None or out == None :\n",
    "    print(\"No output\")\n",
    "    exit()\n",
    "\n",
    "#make x the size of the output\n",
    "x = x[:out.shape[0], :out.shape[1], :out.shape[2]]\n",
    "\n",
    "out = out.detach().cpu().numpy()\n",
    "x = x.detach().cpu().numpy()\n",
    "\n",
    "\n",
    "result_name = \"models/result_recursive\" + extension + \"_\" + str(number_of_messages) + \"_\" + str(size_of_messages) + \"_\" + str(epochs-1) + \".pkl\"\n",
    "\n",
    "with open(result_name, \"wb\") as f:\n",
    "    pickle.dump((out, x), f)\n",
    "\n",
    "t = 10\n",
    "fig = plt.figure()\n",
    "\n",
    "#now plot the graph as bubbles to show the difference between the two\n",
    "plt.scatter(x[t, :,0],x[t, :,1], s=100, c='b', alpha=0.5)\n",
    "plt.scatter(out[t, :,0],out[t, :,1], s=100, c='r', alpha=0.5)\n",
    "\n",
    "plt.show()\n",
    "plt.close()\n",
    "\n",
    "animation_name = \"models/animation_recursive\" + extension + \"_\" + str(number_of_messages) + \"_\" + str(size_of_messages) + \"_\" + str(epochs-1) + \".mp4\"\n",
    "make_animation(result_name, animation_name, show_speed=False)\n"
   ]
  }
 ],
 "metadata": {
  "kernelspec": {
   "display_name": "geom",
   "language": "python",
   "name": "python3"
  },
  "language_info": {
   "codemirror_mode": {
    "name": "ipython",
    "version": 3
   },
   "file_extension": ".py",
   "mimetype": "text/x-python",
   "name": "python",
   "nbconvert_exporter": "python",
   "pygments_lexer": "ipython3",
   "version": "3.10.8"
  }
 },
 "nbformat": 4,
 "nbformat_minor": 4
}
