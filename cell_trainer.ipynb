{
 "cells": [
  {
   "cell_type": "markdown",
   "metadata": {},
   "source": [
    "In this notebook, I will use torch_geometric to predict the developpement of a graph of positions through time"
   ]
  },
  {
   "cell_type": "code",
   "execution_count": 1,
   "metadata": {},
   "outputs": [
    {
     "data": {
      "text/plain": [
       "'\\nI realized I am leaning towards this approach https://doi.org/10.1016/j.trc.2020.102635\\n'"
      ]
     },
     "execution_count": 1,
     "metadata": {},
     "output_type": "execute_result"
    }
   ],
   "source": [
    "\"\"\"\n",
    "I realized I am leaning towards this approach https://doi.org/10.1016/j.trc.2020.102635\n",
    "\"\"\""
   ]
  },
  {
   "cell_type": "code",
   "execution_count": 2,
   "metadata": {},
   "outputs": [],
   "source": [
    "# import torch\n",
    "# from torch_geometric.nn import knn_graph\n",
    "\n",
    "# import timeit\n",
    "\n",
    "# timeit.timeit(\"knn_graph(torch.randn(1000, 3), k=10)\", setup=\"from __main__ import knn_graph; import torch\", number=10000)"
   ]
  },
  {
   "cell_type": "code",
   "execution_count": 3,
   "metadata": {},
   "outputs": [
    {
     "name": "stdout",
     "output_type": "stream",
     "text": [
      "Using :  491\n",
      "Available :  43790\n",
      "True\n",
      "Cannot import zuko. Continuing without prior\n",
      "No module named 'pycapmd'\n",
      "Cannot import simulator\n"
     ]
    }
   ],
   "source": [
    "import torch\n",
    "from torch.optim.lr_scheduler import CosineAnnealingWarmRestarts\n",
    "\n",
    "import pickle\n",
    "\n",
    "import sys\n",
    "import os\n",
    "from genericpath import exists\n",
    "\n",
    "from cell_dataset import CellGraphDataset, load, single_overfit_dataset\n",
    "from cell_model import Gatv2Predictor, Gatv2PredictorDiscr, ConvPredictor\n",
    "from cell_utils import GraphingLoss, make_animation\n",
    "from cell_training import train, test_single, compute_parameters, run_single_recursive\n",
    "\n",
    "import matplotlib.pyplot as plt\n",
    "\n",
    "import os, psutil\n",
    "process = psutil.Process(os.getpid())\n",
    "print(\"Using : \", process.memory_info().rss // 1000000)  # in megabytes \n",
    "print(\"Available : \", process.memory_info().vms  // 1000000)  # in megabytes \n",
    "\n",
    "print(torch.cuda.is_available())\n",
    "\n",
    "#https://github.com/clovaai/AdamP\n",
    "from adamp import AdamP\n",
    "\n",
    "sys.path.append('/home/nstillman/1_sbi_activematter/cpp_model')\n",
    "try :\n",
    "    import allium\n",
    "except :\n",
    "    print(\"Could not import allium\")"
   ]
  },
  {
   "cell_type": "markdown",
   "metadata": {},
   "source": [
    "The data is a graph of cells having their own positions and velocity.\n",
    "\n",
    "In the graph, we will first start by connecting all the edges, then maybe later make radius_graphs to reduce the cost of the pass through the model"
   ]
  },
  {
   "cell_type": "code",
   "execution_count": 4,
   "metadata": {},
   "outputs": [
    {
     "name": "stdout",
     "output_type": "stream",
     "text": [
      "Validation data not found\n"
     ]
    }
   ],
   "source": [
    "load_all =  True #load directly from a pickle\n",
    "pre_separated = False #if three subfolders already exist for train test and val\n",
    "\n",
    "override = False #make this true to always use the same ones\n",
    "\n",
    "extension = \"_open_ht_hv\"\n",
    "number_of_messages = 2\n",
    "size_of_messages = 128\n",
    "absolute = 0\n",
    "epochs = 600\n",
    "distrib = \"laplace\"\n",
    "\n",
    "name_complete = extension + \"_\" + str(number_of_messages) + \"_\" + str(size_of_messages) + \"_\" + (\"absolute\" if absolute else \"relative\") + \"_\" + distrib\n",
    "\n",
    "model_path = \"models/model\" + name_complete\n",
    "loss_path = \"models/loss\" + name_complete\n",
    "\n",
    "data_train, data_test, data_val = load(load_all, extension, pre_separated, override)"
   ]
  },
  {
   "cell_type": "code",
   "execution_count": 5,
   "metadata": {},
   "outputs": [
    {
     "name": "stdout",
     "output_type": "stream",
     "text": [
      "Is data wrapped ?  False\n",
      "Train size :  900\n"
     ]
    }
   ],
   "source": [
    "#INFO : if bg_load is True, this starts the loading, if skipped, bg_loading will take place as soon as a get is called\n",
    "rval, edge_index, edge_attr, border, params = data_train.get(0)\n",
    "rval, edge_index, edge_attr, border, params = data_test.get(0)\n",
    "\n",
    "print(\"Is data wrapped ? \", data_train.wrap)\n",
    "\n",
    "print(\"Train size : \", data_train.len())"
   ]
  },
  {
   "cell_type": "markdown",
   "metadata": {},
   "source": [
    "Next we need to define the model that will be used :\n",
    "    > input \n",
    "        (1) Graph at a particular time t (nodes having x,y,dx,dy as attributes)\n",
    "        (2) Graphs up to a particular time [t-a, t] (nodes having x,y as attributes)\n",
    "    > output\n",
    "        (a) Graph at the immediate next time step t+1\n",
    "        (b) Graph [t, t+b]\n",
    "        (c) Graph at t+b\n",
    "    > graph size\n",
    "        (x) Fixed graph size to the most nodes possible (or above)\n",
    "        (y) Unbounded graph size\n",
    "            >> idea : graph walks\n",
    "            >> idea : sampler"
   ]
  },
  {
   "cell_type": "markdown",
   "metadata": {},
   "source": [
    "The following model will do (1ax)"
   ]
  },
  {
   "cell_type": "code",
   "execution_count": 6,
   "metadata": {},
   "outputs": [],
   "source": [
    "def start(model : Gatv2Predictor, optimizer : torch.optim.Optimizer, scheduler  : torch.optim.lr_scheduler._LRScheduler,\\\n",
    "          data_train : CellGraphDataset, data_test : CellGraphDataset, device : torch.device, epoch : int, offset : int, grapher : GraphingLoss, save=0, save_datasets=True):\n",
    "    \n",
    "    loss_history_train = {\"loss_mean\" : [], \"loss_log\" : [], \"loss\" : []}\n",
    "    loss_history_test_recursive = {\"loss_mean\" : [], \"loss_log\" : [], \"loss\" : []}\n",
    "    for e in range(offset, offset + epoch):\n",
    "        \n",
    "        recursive = True\n",
    "\n",
    "        train(model, optimizer, scheduler, data_train, device, e, process, max_epoch=offset+epoch, recursive=recursive, distrib=distrib)\n",
    "\n",
    "        #model.show_gradients()\n",
    "        \n",
    "        if(e == 0 and save_datasets) :\n",
    "            data_train.thread = None\n",
    "            data_test.thread = None\n",
    "            with open(\"data/training\" + extension + \".pkl\", 'wb') as f:\n",
    "                pickle.dump(data_train, f)\n",
    "            with open(\"data/testing\" + extension + \".pkl\", 'wb') as f:\n",
    "                pickle.dump(data_test, f)\n",
    "            print(\"Saved datasets\")\n",
    "        \n",
    "\n",
    "        train_loss = test_single(model, data_train, device, loss_history_train, duration=10, recursive=False, distrib=distrib)\n",
    "        test_loss_r = test_single(model, data_test, device, loss_history_test_recursive, duration=10, recursive=True, distrib=distrib)\n",
    "\n",
    "        print(\"Epoch : \", e, \"Train Loss\", train_loss, \"Test loss recursive : \", test_loss_r)\n",
    "\n",
    "        grapher.plot_losses(title=\"Training\", data=loss_history_train, length=min(50, len(data_train)), extension=name_complete + \"_\") \n",
    "        grapher.plot_losses(title=\"Testing recursive\", data=loss_history_test_recursive, length=min(50, len(data_test)), extension=name_complete + \"_\") \n",
    "        \n",
    "        if (e!=0 and e%save == 0) :      \n",
    "            all_params_out, all_params_true = compute_parameters(model, data_test, device, duration=-1, distrib=distrib)\n",
    "            grapher.plot_params(all_params_out, all_params_true, e, extension=name_complete)\n",
    "        \n",
    "        if (save and (e%save == 0 or e == epoch-1)) :\n",
    "            torch.save(model.state_dict(), model_path + str(e) + \".pt\")"
   ]
  },
  {
   "cell_type": "code",
   "execution_count": 7,
   "metadata": {},
   "outputs": [
    {
     "name": "stdout",
     "output_type": "stream",
     "text": [
      "Loaded model\n"
     ]
    }
   ],
   "source": [
    "load = True\n",
    "\n",
    "epoch_to_load = 260\n",
    "\n",
    "model = Gatv2Predictor(in_channels=12, out_channels=8, hidden_channels=size_of_messages, dropout=0.1, edge_dim=2, messages=number_of_messages, wrap=data_train.wrap, absolute=absolute)\n",
    "#model = Gatv2Predictor(in_channels=9, out_channels=4, hidden_channels=32, dropout=0.01, edge_dim=2, messages=5, wrap=True)\n",
    "#model = Gatv2PredictorDiscr(in_channels=9, out_channels=4, hidden_channels=16, dropout=0.01, edge_dim=2, messages=5, wrap=True)\n",
    "#model = ConvPredictor(in_channels=16, out_channels=8, hidden_channels=size_of_messages, dropout=0.05, edge_dim=2, messages=number_of_messages, wrap=data_train.wrap, absolute=absolute, heads=4)\n",
    "\n",
    "if exists(model_path + str(epoch_to_load) + \".pt\") and load :\n",
    "    model.load_state_dict(torch.load(model_path + str(epoch_to_load) + \".pt\"))\n",
    "    print(\"Loaded model\")"
   ]
  },
  {
   "cell_type": "code",
   "execution_count": 8,
   "metadata": {},
   "outputs": [],
   "source": [
    "#might want to investigate AdamP \n",
    "optimizer = AdamP(model.parameters(), lr=1e-9, betas=(0.9, 0.999), eps=1e-6, weight_decay=5e-3, delta=0.1, wd_ratio=0.1, nesterov=True)\n",
    "scheduler = CosineAnnealingWarmRestarts(optimizer=optimizer, T_0=10, T_mult=2)\n",
    "\n",
    "device = torch.device(\"cuda\" if torch.cuda.is_available() else \"cpu\")"
   ]
  },
  {
   "cell_type": "code",
   "execution_count": 9,
   "metadata": {},
   "outputs": [],
   "source": [
    "grapher = GraphingLoss()\n",
    "\n",
    "model = model.to(device)\n",
    "\n",
    "#all_params_out, all_params_true = compute_parameters(model.to(device), data_test, device, duration=0)\n",
    "#grapher.plot_params(all_params_out, all_params_true, epoch_to_load, extension=extension)"
   ]
  },
  {
   "cell_type": "code",
   "execution_count": 10,
   "metadata": {},
   "outputs": [
    {
     "name": "stdout",
     "output_type": "stream",
     "text": [
      "Epoch :  260 Train Loss 0.05561247514353858 Test loss recursive :  24.958077201843263\n",
      "Epoch :  261 Train Loss 0.055814089907540214 Test loss recursive :  24.464444427490236\n",
      "Epoch :  262 Train Loss 0.05582831197314792 Test loss recursive :  24.182930183410644\n",
      "Epoch :  263 Train Loss 0.05600735392835405 Test loss recursive :  24.767659645080567\n",
      "Epoch :  264 Train Loss 0.0562022238307529 Test loss recursive :  23.836671829223633\n",
      "Epoch :  265 Train Loss 0.05636941472689311 Test loss recursive :  24.43132350921631\n",
      "Epoch :  266 Train Loss 0.05623321493466695 Test loss recursive :  25.145120010375976\n",
      "Epoch :  267 Train Loss 0.056461706426408555 Test loss recursive :  24.849764709472655\n",
      "Epoch :  268 Train Loss 0.05666499574979146 Test loss recursive :  24.65831027984619\n",
      "Epoch :  269 Train Loss 0.056871645119455125 Test loss recursive :  24.422093315124513\n",
      "Epoch :  270 Train Loss 0.05704538298977746 Test loss recursive :  24.867033004760742\n",
      "Epoch :  271 Train Loss 0.05688428295983208 Test loss recursive :  24.43966411590576\n",
      "Epoch :  272 Train Loss 0.05723344180319044 Test loss recursive :  24.92161163330078\n",
      "Epoch :  273 Train Loss 0.057382825613021854 Test loss recursive :  24.906712226867675\n",
      "Epoch :  274 Train Loss 0.05736702971988254 Test loss recursive :  24.291600379943848\n",
      "Epoch :  275 Train Loss 0.05772395677036709 Test loss recursive :  25.187239990234374\n",
      "Epoch :  276 Train Loss 0.05771398663520813 Test loss recursive :  24.467143173217774\n",
      "Epoch :  277 Train Loss 0.05795448144276937 Test loss recursive :  24.410780715942384\n",
      "Epoch :  278 Train Loss 0.05787990132967631 Test loss recursive :  24.23465976715088\n",
      "Epoch :  279 Train Loss 0.0582318111260732 Test loss recursive :  24.556674041748046\n",
      "Epoch :  280 Train Loss 0.05835232641961839 Test loss recursive :  24.524076347351073\n",
      "Epoch :  281 Train Loss 0.058736534118652345 Test loss recursive :  24.31509647369385\n",
      "Epoch :  282 Train Loss 0.05872859014405145 Test loss recursive :  24.0484175491333 \n",
      "Epoch :  283 Train Loss 0.05884075747595893 Test loss recursive :  24.146388969421388\n",
      "Epoch :  284 Train Loss 0.05891945746209886 Test loss recursive :  24.6450146484375 \n",
      "Epoch :  285 Train Loss 0.059166591432359486 Test loss recursive :  23.640419845581054\n",
      "Epoch :  286 Train Loss 0.05934937689039442 Test loss recursive :  23.94832862854004\n",
      "Epoch :  287 Train Loss 0.05941304643948873 Test loss recursive :  24.697288589477537\n",
      "Epoch :  288 Train Loss 0.059599226050906715 Test loss recursive :  24.181381340026856\n",
      "Epoch :  289 Train Loss 0.06004491024547153 Test loss recursive :  24.495146713256837\n",
      "Epoch :  290 Train Loss 0.05989254037539164 Test loss recursive :  23.68707695007324\n",
      "Epoch :  291 Train Loss 0.060221731530295475 Test loss recursive :  23.617262687683105\n",
      "Epoch :  292 Train Loss 0.06033522301250034 Test loss recursive :  24.426441078186034\n",
      "Epoch :  293 Train Loss 0.06056509402063158 Test loss recursive :  24.995158462524415\n",
      "Epoch :  294 Train Loss 0.06071598768234253 Test loss recursive :  24.460687561035158\n",
      "Epoch :  295 Train Loss 0.06089394781324599 Test loss recursive :  24.61056427001953\n",
      "Epoch :  296 Train Loss 0.06104844927787781 Test loss recursive :  23.969160690307618\n",
      "Epoch :  297 Train Loss 0.06122555878427294 Test loss recursive :  24.185487060546876\n",
      "Epoch :  298 Train Loss 0.06154876099692451 Test loss recursive :  24.557671661376954\n",
      "Epoch :  299 Train Loss 0.061542694171269736 Test loss recursive :  24.58481689453125\n",
      "Epoch :  300 Train Loss 0.061701565583546954 Test loss recursive :  24.31912437438965\n",
      "Epoch :  301 Train Loss 0.061994882424672444 Test loss recursive :  24.287084312438964\n",
      "Epoch :  302 Train Loss 0.062057113647460936 Test loss recursive :  24.51806526184082\n",
      "Epoch :  303 Train Loss 0.062178736130396525 Test loss recursive :  23.719001960754394\n",
      "Epoch :  304 Train Loss 0.06253821717368233 Test loss recursive :  25.003598785400392\n",
      "Epoch :  305 Train Loss 0.06254883262846204 Test loss recursive :  24.255856857299804\n",
      "Epoch :  306 Train Loss 0.06277412838406032 Test loss recursive :  24.439121818542482\n",
      "Epoch :  307 Train Loss 0.06292337523566352 Test loss recursive :  23.96057098388672\n",
      "Epoch :  308 Train Loss 0.06301478995217218 Test loss recursive :  24.15645992279053\n",
      "Epoch :  309 Train Loss 0.06325667182604472 Test loss recursive :  25.084257011413573\n",
      "Epoch :  310 Train Loss 0.0633079919550154 Test loss recursive :  24.930895805358887\n",
      "Epoch :  311 Train Loss 0.06363163312276204 Test loss recursive :  24.579160232543945\n",
      "Epoch :  312 Train Loss 0.06380445003509522 Test loss recursive :  24.78590637207031\n",
      "Epoch :  313 Train Loss 0.06401113669077556 Test loss recursive :  24.181212921142578\n",
      "Epoch :  314 Train Loss 0.0640998845630222 Test loss recursive :  24.846342964172365\n",
      "Epoch :  315 Train Loss 0.06419393221537271 Test loss recursive :  24.79903968811035\n",
      "Epoch :  316 Train Loss 0.06448159509234959 Test loss recursive :  24.955201034545897\n",
      "Epoch :  317 Train Loss 0.06460333598984612 Test loss recursive :  25.092538795471192\n",
      "Epoch :  318 Train Loss 0.06484148078494602 Test loss recursive :  23.989414520263672\n",
      "Epoch :  319 Train Loss 0.06486835678418477 Test loss recursive :  24.09626106262207\n",
      "Epoch :  320 Train Loss 0.06511977367930942 Test loss recursive :  24.155430564880373\n",
      "Epoch :  321 Train Loss 0.0653066799375746 Test loss recursive :  24.907022857666014\n",
      "Epoch :  322 Train Loss 0.06553774952888489 Test loss recursive :  23.96750072479248\n",
      "Epoch :  323 Train Loss 0.06555970907211303 Test loss recursive :  24.619416732788086\n",
      "Epoch :  324 Train Loss 0.06568483153978984 Test loss recursive :  25.121280059814453\n",
      "Epoch :  325 Train Loss 0.0659892631901635 Test loss recursive :  24.654298248291017\n",
      "Epoch :  326 Train Loss 0.06600315093994141 Test loss recursive :  24.065638160705568\n",
      "Epoch :  327 Train Loss 0.06615927894910177 Test loss recursive :  25.128396682739258\n",
      "Epoch :  328 Train Loss 0.06640596230824788 Test loss recursive :  24.222954139709472\n",
      "Epoch :  329 Train Loss 0.06666530900531345 Test loss recursive :  24.631460762023927\n",
      "Epoch :  330 Train Loss 0.06678777840402392 Test loss recursive :  24.3005814743042 \n",
      "Epoch :  331 Train Loss 0.06692375077141656 Test loss recursive :  24.662490158081056\n",
      "Epoch :  332 Train Loss 0.0671936908033159 Test loss recursive :  25.24760509490967 \n",
      "Epoch :  333 Train Loss 0.06737544298171998 Test loss recursive :  25.007410202026367\n",
      "Epoch :  334 Train Loss 0.06746692564752367 Test loss recursive :  25.100352935791015\n",
      "Epoch :  335 Train Loss 0.0676730818218655 Test loss recursive :  24.35849006652832 \n",
      "Epoch :  336 Train Loss 0.0678282982773251 Test loss recursive :  24.845647430419923\n",
      "Epoch :  337 Train Loss 0.06801192098193698 Test loss recursive :  24.79468376159668\n",
      "Epoch :  338 Train Loss 0.06814164638519288 Test loss recursive :  24.951086311340333\n",
      "Epoch :  339 Train Loss 0.06835164427757263 Test loss recursive :  25.352060508728027\n",
      "Epoch :  340 Train Loss 0.06844318283928766 Test loss recursive :  24.628491516113282\n",
      "Epoch :  341 Train Loss 0.06858751720852323 Test loss recursive :  24.36368667602539\n",
      "Epoch :  342 Train Loss 0.06876601457595825 Test loss recursive :  25.022869491577147\n",
      "Epoch :  343 Train Loss 0.06893035570780436 Test loss recursive :  23.987668571472167\n",
      "Epoch :  344 Train Loss 0.06919815566804674 Test loss recursive :  24.64554683685303\n",
      "Epoch :  345 Train Loss 0.06924753215577867 Test loss recursive :  25.01031059265137\n",
      "Epoch :  346 Train Loss 0.0694996280140347 Test loss recursive :  25.11174228668213 \n",
      "Epoch :  347 Train Loss 0.06971577684084575 Test loss recursive :  24.589862098693846\n",
      "Epoch :  348 Train Loss 0.06966837220721775 Test loss recursive :  24.93245059967041\n",
      "Epoch :  349 Train Loss 0.07001370045873855 Test loss recursive :  24.696798248291017\n",
      "Epoch :  350 Train Loss 0.07016237682766384 Test loss recursive :  24.892746238708497\n",
      "Epoch :  351 Train Loss 0.07042951358689202 Test loss recursive :  24.902870178222656\n",
      "Epoch :  352 Train Loss 0.0705636715888977 Test loss recursive :  24.37273265838623 \n",
      "Epoch :  353 Train Loss 0.07070219145880804 Test loss recursive :  24.743763465881347\n",
      "Epoch :  354 Train Loss 0.07071466988987393 Test loss recursive :  25.42696147918701\n",
      "Epoch :  355 Train Loss 0.0710470434029897 Test loss recursive :  25.081555252075194\n",
      "Epoch :  356 Train Loss 0.07124058153894212 Test loss recursive :  24.737000617980957\n",
      "Epoch :  357 Train Loss 0.07126431849267748 Test loss recursive :  26.001465454101563\n",
      "Epoch :  358 Train Loss 0.07152289655473497 Test loss recursive :  24.631278495788575\n",
      "Epoch :  359 Train Loss 0.07167968299653794 Test loss recursive :  25.769621276855467\n",
      "Epoch :  360 Train Loss 0.0719194769859314 Test loss recursive :  24.630750846862792\n",
      "Epoch :  361 Train Loss 0.07208810740047031 Test loss recursive :  25.84542636871338\n",
      "Epoch :  362 Train Loss 0.07220457196235656 Test loss recursive :  25.567014541625976\n",
      "Epoch :  363 Train Loss 0.07246142440372043 Test loss recursive :  24.989167442321776\n",
      "Epoch :  364 Train Loss 0.07252571410602994 Test loss recursive :  25.0662890625    \n",
      "Epoch :  365 Train Loss 0.07274055573675367 Test loss recursive :  25.446352767944337\n",
      "Epoch :  366 Train Loss 0.07287991073396471 Test loss recursive :  25.30214614868164\n",
      "Epoch :  367 Train Loss 0.07303177926275466 Test loss recursive :  25.79469970703125\n",
      "Epoch :  368 Train Loss 0.07320510798030429 Test loss recursive :  24.801832542419433\n",
      "Epoch :  369 Train Loss 0.07334872086842854 Test loss recursive :  24.214999542236328\n",
      "Epoch :  370 Train Loss 0.07351235628128051 Test loss recursive :  25.963508758544922\n",
      "Epoch :  371 Train Loss 0.0737158030933804 Test loss recursive :  25.110104179382326\n",
      "Epoch :  372 Train Loss 0.073925392097897 Test loss recursive :  25.29464344024658   \n",
      "Epoch :  373 Train Loss 0.07406771633360121 Test loss recursive :  25.397383460998537\n",
      "Epoch :  374 Train Loss 0.07420951777034336 Test loss recursive :  24.877756309509277\n",
      "Epoch :  375 Train Loss 0.07448845704396566 Test loss recursive :  24.880299263000488\n",
      "Epoch :  376 Train Loss 0.07457068085670471 Test loss recursive :  25.882398529052736\n",
      "Epoch :  377 Train Loss 0.07476490550571017 Test loss recursive :  24.063519859313963\n",
      "Epoch :  378 Train Loss 0.07492526570955912 Test loss recursive :  25.848278465270997\n",
      "Epoch :  379 Train Loss 0.07506756557358636 Test loss recursive :  25.723144187927247\n",
      "Epoch :  380 Train Loss 0.07532707505755955 Test loss recursive :  26.30131904602051\n",
      "Epoch :  381 Train Loss 0.07546587665875752 Test loss recursive :  25.66663066864014\n",
      "Epoch :  382 Train Loss 0.07560821639166938 Test loss recursive :  24.905710716247558\n",
      "Epoch :  383 Train Loss 0.07581510861714681 Test loss recursive :  24.853385124206543\n",
      "Epoch :  384 Train Loss 0.07590968608856201 Test loss recursive :  26.83023468017578\n",
      "Epoch :  385 Train Loss 0.0761060459083981 Test loss recursive :  26.126395378112793\n",
      "Epoch :  386 Train Loss 0.07626825756496854 Test loss recursive :  25.8510298538208 \n",
      "Epoch :  387 Train Loss 0.07647052221828037 Test loss recursive :  25.52451519012451\n",
      "Epoch :  388 Train Loss 0.07656326638327704 Test loss recursive :  25.434106674194336\n",
      "Epoch :  389 Train Loss 0.07673803210258484 Test loss recursive :  25.055040855407714\n",
      "Epoch :  390 Train Loss 0.07693413800663418 Test loss recursive :  26.357417488098143\n",
      "Epoch :  391 Train Loss 0.07711431198649936 Test loss recursive :  25.510850028991698\n",
      "Epoch :  392 Train Loss 0.07725525935490926 Test loss recursive :  27.318419609069824\n",
      "Epoch :  393 Train Loss 0.07745926472875807 Test loss recursive :  25.954364585876466\n",
      "Epoch :  394 Train Loss 0.07753443810674879 Test loss recursive :  26.789700927734376\n",
      "Epoch :  395 Train Loss 0.07781096723344591 Test loss recursive :  26.20880138397217\n",
      "Epoch :  396 Train Loss 0.0778734360800849 Test loss recursive :  25.877449531555175\n",
      "Epoch :  397 Train Loss 0.07807020717196994 Test loss recursive :  26.09056526184082\n",
      "Epoch :  398 Train Loss 0.07820058239830865 Test loss recursive :  26.221561737060547\n",
      "Epoch :  399 Train Loss 0.0784256664911906 Test loss recursive :  26.546197509765626\n",
      "Epoch :  400 Train Loss 0.07866948617829217 Test loss recursive :  25.15298370361328\n",
      "Epoch :  401 Train Loss 0.07891965442233616 Test loss recursive :  26.154245109558104\n",
      "Epoch :  402 Train Loss 0.07900606513023377 Test loss recursive :  26.661741027832033\n",
      "Epoch :  403 Train Loss 0.07925629748238458 Test loss recursive :  25.406971626281738\n",
      "Epoch :  404 Train Loss 0.07942952858077156 Test loss recursive :  26.38732452392578\n",
      "Epoch :  405 Train Loss 0.07954453388849894 Test loss recursive :  25.870514068603516\n",
      "Epoch :  406 Train Loss 0.079737356238895 Test loss recursive :  25.098324661254882  \n",
      "Epoch :  407 Train Loss 0.07986269699202643 Test loss recursive :  27.14904109954834\n",
      "Epoch :  408 Train Loss 0.08010191202163697 Test loss recursive :  27.611298027038575\n",
      "Epoch :  409 Train Loss 0.0802732002735138 Test loss recursive :  26.75271884918213 \n",
      "Epoch :  410 Train Loss 0.08040152523252699 Test loss recursive :  26.067534027099608\n",
      "Epoch :  411 Train Loss 0.08060347318649291 Test loss recursive :  26.512508850097657\n",
      "Epoch :  412 Train Loss 0.08079195261001587 Test loss recursive :  27.4593936920166 \n",
      "Epoch :  413 Train Loss 0.08089827948146396 Test loss recursive :  25.93133270263672\n",
      "Epoch :  414 Train Loss 0.0810989929570092 Test loss recursive :  25.814512062072755 \n",
      "Epoch :  415 Train Loss 0.08125699785020617 Test loss recursive :  26.573134994506837\n",
      "Epoch :  416 Train Loss 0.08146604365772671 Test loss recursive :  27.56108989715576\n",
      "Epoch :  417 Train Loss 0.08157167143291898 Test loss recursive :  27.34733745574951\n",
      "Epoch :  418 Train Loss 0.08179918050765991 Test loss recursive :  26.681120719909668\n",
      "Epoch :  419 Train Loss 0.08203158034218683 Test loss recursive :  26.70865837097168 \n",
      "Epoch :  420 Train Loss 0.08219726085662842 Test loss recursive :  26.650812187194823\n",
      "Epoch :  421 Train Loss 0.08235109686851501 Test loss recursive :  25.732125244140626\n",
      "Epoch :  422 Train Loss 0.08249778601858351 Test loss recursive :  25.850793685913086\n",
      "Epoch :  423 Train Loss 0.0826799742380778 Test loss recursive :  26.49061378479004  \n",
      "Epoch :  424 Train Loss 0.08285344150331285 Test loss recursive :  27.087980537414552\n",
      "Epoch :  425 Train Loss 0.08302664756774902 Test loss recursive :  27.74742908477783\n",
      "Epoch :  426 Train Loss 0.08320289625061883 Test loss recursive :  26.283445777893068\n",
      "Epoch :  427 Train Loss 0.08339198999934726 Test loss recursive :  27.92149215698242 \n",
      "Epoch :  428 Train Loss 0.08360995372136434 Test loss recursive :  26.189404067993163\n",
      "Epoch :  429 Train Loss 0.08377870890829298 Test loss recursive :  27.53324375152588\n",
      "Epoch :  430 Train Loss 0.08397732959853278 Test loss recursive :  26.893109283447266\n",
      "Epoch :  431 Train Loss 0.08402976089053683 Test loss recursive :  28.540873985290528\n",
      "Epoch :  432 Train Loss 0.08426046782069736 Test loss recursive :  26.87399803161621\n",
      "Epoch :  433 Train Loss 0.08444548196262784 Test loss recursive :  27.002884063720703\n",
      "Epoch :  434 Train Loss 0.08454117947154575 Test loss recursive :  27.747296180725098\n",
      "Epoch :  435 Train Loss 0.0848437590069241 Test loss recursive :  27.08401752471924 \n",
      "Epoch :  436 Train Loss 0.08502131621042887 Test loss recursive :  27.843074760437013\n",
      "Epoch :  437 Train Loss 0.08514271140098571 Test loss recursive :  26.019916305541994\n",
      "Epoch :  438 Train Loss 0.08528471178478665 Test loss recursive :  27.266816596984864\n",
      "Epoch :  439 Train Loss 0.08548836469650269 Test loss recursive :  27.444015159606934\n",
      "Epoch :  440 Train Loss 0.08567216144667732 Test loss recursive :  27.752402420043946\n",
      "Epoch :  441 Train Loss 0.0858776130941179 Test loss recursive :  27.235443954467772 \n",
      "Epoch :  442 Train Loss 0.08608827630678813 Test loss recursive :  28.519598388671874\n",
      "Current loss : 28.82, ... 303, / 900, Current memory usage : 7463 MB, loaded 900    \r"
     ]
    }
   ],
   "source": [
    "start(model, optimizer, scheduler, data_train, data_test, device, \\\n",
    "        epochs, epoch_to_load, grapher=grapher, save=10, save_datasets=False)"
   ]
  },
  {
   "cell_type": "code",
   "execution_count": null,
   "metadata": {},
   "outputs": [],
   "source": []
  },
  {
   "cell_type": "code",
   "execution_count": null,
   "metadata": {},
   "outputs": [],
   "source": [
    "epochs = 20"
   ]
  },
  {
   "cell_type": "code",
   "execution_count": null,
   "metadata": {},
   "outputs": [],
   "source": [
    "all_params_out, all_params_true = compute_parameters(model, data_test, device, duration=-1, distrib=distrib)\n",
    "grapher.plot_params(all_params_out, all_params_true, epochs - 1, extension=extension)"
   ]
  },
  {
   "cell_type": "code",
   "execution_count": null,
   "metadata": {},
   "outputs": [
    {
     "data": {
      "image/png": "[encoded data removed]",
      "text/plain": [
       "<Figure size 640x480 with 1 Axes>"
      ]
     },
     "metadata": {},
     "output_type": "display_data"
    }
   ],
   "source": [
    "loss, out, x = run_single_recursive(model, data_test, 0, device, output=True)\n",
    "\n",
    "if x == None or out == None :\n",
    "    print(\"No output\")\n",
    "    exit()\n",
    "\n",
    "#make x the size of the output\n",
    "x = x[:out.shape[0], :out.shape[1], :out.shape[2]]\n",
    "\n",
    "out = out.detach().cpu().numpy()\n",
    "x = x.detach().cpu().numpy()\n",
    "\n",
    "\n",
    "result_name = \"models/result_recursive\" + name_complete + \"_\" + str(epochs-1) + \".pkl\"\n",
    "\n",
    "with open(result_name, \"wb\") as f:\n",
    "    pickle.dump((out, x), f)\n",
    "\n",
    "t = 10\n",
    "fig = plt.figure()\n",
    "\n",
    "#now plot the graph as bubbles to show the difference between the two\n",
    "plt.scatter(x[t, :,0],x[t, :,1], s=100, c='b', alpha=0.5)\n",
    "plt.scatter(out[t, :,0],out[t, :,1], s=100, c='r', alpha=0.5)\n",
    "\n",
    "plt.show()\n",
    "plt.close()\n",
    "\n",
    "animation_name = \"models/animation_recursive\" + name_complete + \"_\" + str(epochs-1) + \".mp4\"\n",
    "make_animation(result_name, animation_name, show_speed=False)\n"
   ]
  }
 ],
 "metadata": {
  "kernelspec": {
   "display_name": "geom",
   "language": "python",
   "name": "python3"
  },
  "language_info": {
   "codemirror_mode": {
    "name": "ipython",
    "version": 3
   },
   "file_extension": ".py",
   "mimetype": "text/x-python",
   "name": "python",
   "nbconvert_exporter": "python",
   "pygments_lexer": "ipython3",
   "version": "3.10.10"
  }
 },
 "nbformat": 4,
 "nbformat_minor": 4
}
