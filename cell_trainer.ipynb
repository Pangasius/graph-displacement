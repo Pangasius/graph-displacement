{
 "cells": [
  {
   "cell_type": "markdown",
   "metadata": {},
   "source": [
    "In this notebook, I will use torch_geometric to predict the developpement of a graph of positions through time"
   ]
  },
  {
   "cell_type": "code",
   "execution_count": 1,
   "metadata": {},
   "outputs": [
    {
     "data": {
      "text/plain": [
       "'\\nI realized I am leaning towards this approach https://doi.org/10.1016/j.trc.2020.102635\\n'"
      ]
     },
     "execution_count": 1,
     "metadata": {},
     "output_type": "execute_result"
    }
   ],
   "source": [
    "\"\"\"\n",
    "I realized I am leaning towards this approach https://doi.org/10.1016/j.trc.2020.102635\n",
    "\"\"\""
   ]
  },
  {
   "cell_type": "code",
   "execution_count": 2,
   "metadata": {},
   "outputs": [
    {
     "name": "stderr",
     "output_type": "stream",
     "text": [
      "c:\\Users\\gille\\miniconda3\\envs\\geom\\lib\\site-packages\\tqdm\\auto.py:22: TqdmWarning: IProgress not found. Please update jupyter and ipywidgets. See https://ipywidgets.readthedocs.io/en/stable/user_install.html\n",
      "  from .autonotebook import tqdm as notebook_tqdm\n"
     ]
    },
    {
     "name": "stdout",
     "output_type": "stream",
     "text": [
      "Using :  290\n",
      "Available :  3270\n",
      "True\n",
      "Could not import allium\n"
     ]
    }
   ],
   "source": [
    "import torch\n",
    "from torch.optim.lr_scheduler import CosineAnnealingWarmRestarts\n",
    "\n",
    "import pickle\n",
    "\n",
    "import sys\n",
    "import os\n",
    "from genericpath import exists\n",
    "\n",
    "from cell_dataset import CellGraphDataset, load, single_overfit_dataset\n",
    "from cell_model import GraphEvolution, GraphEvolutionDiscr\n",
    "from cell_utils import GraphingLoss, make_animation\n",
    "from cell_training import train, test_single, compute_parameters, run_single_recursive\n",
    "\n",
    "import matplotlib.pyplot as plt\n",
    "\n",
    "import os, psutil\n",
    "process = psutil.Process(os.getpid())\n",
    "print(\"Using : \", process.memory_info().rss // 1000000)  # in megabytes \n",
    "print(\"Available : \", process.memory_info().vms  // 1000000)  # in megabytes \n",
    "\n",
    "print(torch.cuda.is_available())\n",
    "\n",
    "#https://github.com/clovaai/AdamP\n",
    "from adamp import AdamP\n",
    "\n",
    "sys.path.append('/home/nstillman/1_sbi_activematter/cpp_model')\n",
    "try :\n",
    "    import allium\n",
    "except :\n",
    "    print(\"Could not import allium\")"
   ]
  },
  {
   "cell_type": "markdown",
   "metadata": {},
   "source": [
    "The data is a graph of cells having their own positions and velocity.\n",
    "\n",
    "In the graph, we will first start by connecting all the edges, then maybe later make radius_graphs to reduce the cost of the pass through the model"
   ]
  },
  {
   "cell_type": "code",
   "execution_count": 3,
   "metadata": {},
   "outputs": [
    {
     "name": "stderr",
     "output_type": "stream",
     "text": [
      "usage: ipykernel_launcher.py [-h] [--extension EXTENSION]\n",
      "                             [--number_of_messages NUMBER_OF_MESSAGES]\n",
      "                             [--size_of_messages SIZE_OF_MESSAGES]\n",
      "                             [--epochs EPOCHS]\n",
      "ipykernel_launcher.py: error: unrecognized arguments: --ip=127.0.0.1 --stdin=9028 --control=9026 --hb=9025 --Session.signature_scheme=\"hmac-sha256\" --Session.key=b\"4eaf3f6b-5834-431e-91f0-78ec19ebd1c6\" --shell=9027 --transport=\"tcp\" --iopub=9029 --f=c:\\Users\\gille\\AppData\\Roaming\\jupyter\\runtime\\kernel-v2-22552oqZBFgO978RR.json\n"
     ]
    },
    {
     "ename": "SystemExit",
     "evalue": "2",
     "output_type": "error",
     "traceback": [
      "An exception has occurred, use %tb to see the full traceback.\n",
      "\u001b[1;31mSystemExit\u001b[0m\u001b[1;31m:\u001b[0m 2\n"
     ]
    },
    {
     "name": "stderr",
     "output_type": "stream",
     "text": [
      "c:\\Users\\gille\\miniconda3\\envs\\geom\\lib\\site-packages\\IPython\\core\\interactiveshell.py:3450: UserWarning: To exit: use 'exit', 'quit', or Ctrl-D.\n",
      "  warn(\"To exit: use 'exit', 'quit', or Ctrl-D.\", stacklevel=1)\n"
     ]
    }
   ],
   "source": [
    "load_all =  True #load directly from a pickle\n",
    "pre_separated = False #if three subfolders already exist for train test and val\n",
    "\n",
    "override = False #make this true to always use the same ones\n",
    "\n",
    "extension = \"_random_sample\"\n",
    "number_of_messages = 2\n",
    "size_of_messages = 128\n",
    "epochs = 200\n",
    "\n",
    "model_path = \"models/model\" + extension + \"_\" + str(number_of_messages) + \"_\" + str(size_of_messages) + \"_\"\n",
    "loss_path = \"models/loss\" + extension + \"_\" + str(number_of_messages) + \"_\" + str(size_of_messages) + \"_\"\n",
    "\n",
    "data_train, data_test, data_val = load(load_all, extension, pre_separated, override)"
   ]
  },
  {
   "cell_type": "code",
   "execution_count": null,
   "metadata": {},
   "outputs": [
    {
     "name": "stdout",
     "output_type": "stream",
     "text": [
      "Is data wrapped ?  False\n"
     ]
    }
   ],
   "source": [
    "#INFO : if bg_load is True, this starts the loading, if skipped, bg_loading will take place as soon as a get is called\n",
    "rval, edge_index, edge_attr, batch_edge, border, params = data_train.get(0)\n",
    "rval, edge_index, edge_attr, batch_edge, border, params = data_test.get(0)\n",
    "\n",
    "print(\"Is data wrapped ? \", data_train.wrap)"
   ]
  },
  {
   "cell_type": "markdown",
   "metadata": {},
   "source": [
    "Next we need to define the model that will be used :\n",
    "    > input \n",
    "        (1) Graph at a particular time t (nodes having x,y,dx,dy as attributes)\n",
    "        (2) Graphs up to a particular time [t-a, t] (nodes having x,y as attributes)\n",
    "    > output\n",
    "        (a) Graph at the immediate next time step t+1\n",
    "        (b) Graph [t, t+b]\n",
    "        (c) Graph at t+b\n",
    "    > graph size\n",
    "        (x) Fixed graph size to the most nodes possible (or above)\n",
    "        (y) Unbounded graph size\n",
    "            >> idea : graph walks\n",
    "            >> idea : sampler"
   ]
  },
  {
   "cell_type": "markdown",
   "metadata": {},
   "source": [
    "The following model will do (1ax)"
   ]
  },
  {
   "cell_type": "code",
   "execution_count": null,
   "metadata": {},
   "outputs": [],
   "source": [
    "def start(model : GraphEvolution, optimizer : torch.optim.Optimizer, scheduler  : torch.optim.lr_scheduler._LRScheduler,\\\n",
    "          data_train : CellGraphDataset, data_test : CellGraphDataset, device : torch.device, epoch : int, offset : int, grapher : GraphingLoss, save=0, save_datasets=True):\n",
    "    \n",
    "    loss_history_train = {\"loss_mean\" : [], \"loss_log\" : [], \"loss\" : []}\n",
    "    loss_history_test_recursive = {\"loss_mean\" : [], \"loss_log\" : [], \"loss\" : []}\n",
    "    loss_history_test_single = {\"loss_mean\" : [], \"loss_log\" : [], \"loss\" : []}\n",
    "    for e in range(offset, offset + epoch):\n",
    "        \n",
    "        recursive = epoch > 10\n",
    "\n",
    "        train(model, optimizer, scheduler, data_train, device, e, process, max_epoch=offset+epoch, loss_history = loss_history_train, recursive=recursive)\n",
    "\n",
    "        #model.show_gradients()\n",
    "        \n",
    "        if(e == 0 and save_datasets) :\n",
    "            data_train.thread = None\n",
    "            data_test.thread = None\n",
    "            with open(\"data/training\" + extension + \".pkl\", 'wb') as f:\n",
    "                pickle.dump(data_train, f)\n",
    "            with open(\"data/testing \" + extension + \".pkl\", 'wb') as f:\n",
    "                pickle.dump(data_test, f)\n",
    "            print(\"Saved datasets\")\n",
    "        \n",
    "\n",
    "        test_loss_s = test_single(model, data_test, device, loss_history_test_recursive, duration=16, recursive=False)\n",
    "        test_loss_r = test_single(model, data_test, device, loss_history_test_single, duration=16, recursive=True)\n",
    "\n",
    "        print(\"Epoch : \", e, \"Test loss : \", test_loss_s, \"Test loss recursive : \", test_loss_r)\n",
    "\n",
    "\n",
    "        grapher.plot_losses(title=\"Training\", data=loss_history_train, extension=extension)\n",
    "        grapher.plot_losses(title=\"Testing\", data=loss_history_test_recursive, extension=extension)\n",
    "        grapher.plot_losses(title=\"Testing recursive\", data=loss_history_test_single, extension=extension)\n",
    "        \n",
    "        if (e%save == 0) :      \n",
    "            all_params_out, all_params_true = compute_parameters(model, data_test, device, duration=-1)\n",
    "            grapher.plot_params(all_params_out, all_params_true, e, extension=extension + \"_\" + str(number_of_messages) + \"_\" + str(size_of_messages))\n",
    "        \n",
    "        if (save and (e%save == 0 or e == epoch-1)) :\n",
    "            torch.save(model.state_dict(), model_path + str(e) + \".pt\")"
   ]
  },
  {
   "cell_type": "code",
   "execution_count": null,
   "metadata": {},
   "outputs": [],
   "source": [
    "load = False\n",
    "\n",
    "epoch_to_load = 0\n",
    "\n",
    "model = GraphEvolution(in_channels=14, out_channels=4, hidden_channels=size_of_messages, dropout=0.05, edge_dim=2, messages=number_of_messages, wrap=data_train.wrap)\n",
    "#model = GraphEvolution(in_channels=9, out_channels=4, hidden_channels=32, dropout=0.01, edge_dim=2, messages=5, wrap=True)\n",
    "#model = GraphEvolutionDiscr(in_channels=9, out_channels=4, hidden_channels=16, dropout=0.01, edge_dim=2, messages=5, wrap=True)\n",
    "\n",
    "if exists(model_path + str(epoch_to_load) + \".pt\") and load :\n",
    "    model.load_state_dict(torch.load(model_path + str(epoch_to_load) + \".pt\"))\n",
    "    print(\"Loaded model\")"
   ]
  },
  {
   "cell_type": "code",
   "execution_count": null,
   "metadata": {},
   "outputs": [],
   "source": [
    "#might want to investigate AdamP \n",
    "optimizer = AdamP(model.parameters(), lr=1e-6, betas=(0.9, 0.999), eps=1e-2, weight_decay=5e-3, delta=0.1, wd_ratio=0.1, nesterov=True)\n",
    "scheduler = CosineAnnealingWarmRestarts(optimizer=optimizer, T_0=10, T_mult=2)\n",
    "\n",
    "device = torch.device(\"cuda\" if torch.cuda.is_available() else \"cpu\")"
   ]
  },
  {
   "cell_type": "code",
   "execution_count": null,
   "metadata": {},
   "outputs": [],
   "source": [
    "grapher = GraphingLoss()\n",
    "\n",
    "model = model.to(device)\n",
    "\n",
    "#all_params_out, all_params_true = compute_parameters(model.to(device), data_test, device, duration=0)\n",
    "#grapher.plot_params(all_params_out, all_params_true, epoch_to_load, extension=extension)"
   ]
  },
  {
   "cell_type": "code",
   "execution_count": null,
   "metadata": {},
   "outputs": [
    {
     "name": "stdout",
     "output_type": "stream",
     "text": [
      "Epoch :  0 Test loss :  -2.1069615650177003 Test loss recursive :  -0.9906594228744506\n",
      "Epoch :  1 Test loss :  -2.251949644088745 Test loss recursive :  -0.2048444102704525\n",
      "Epoch :  2 Test loss :  -2.1761285495758056 Test loss recursive :  -0.6364783757925033\n",
      "Epoch :  3 Test loss :  -2.238973898887634 Test loss recursive :  -0.8994378328323365\n",
      "Epoch :  4 Test loss :  -2.283373351097107 Test loss recursive :  -0.7177179384231568\n",
      "Epoch :  5 Test loss :  -2.3149898624420167 Test loss recursive :  -0.6506040704250335\n",
      "Epoch :  6 Test loss :  -2.3500864934921264 Test loss recursive :  -0.6619565379619599\n",
      "Epoch :  7 Test loss :  -2.3815457153320314 Test loss recursive :  -0.5244788485765457\n",
      "Epoch :  8 Test loss :  -2.4072992277145384 Test loss recursive :  -0.5395064222812652\n",
      "Epoch :  9 Test loss :  -2.4462832260131835 Test loss recursive :  -0.24821364313364028\n",
      "Epoch :  10 Test loss :  -2.3353039407730103 Test loss recursive :  -0.6292577916383744\n",
      "Epoch :  11 Test loss :  -2.3541408443450926 Test loss recursive :  -0.6416684103012085\n",
      "Epoch :  12 Test loss :  -2.3839302110671996 Test loss recursive :  -0.520368595123291\n",
      "Epoch :  13 Test loss :  -2.3919616603851317 Test loss recursive :  -0.6046178531646729\n",
      "Epoch :  14 Test loss :  -2.4186357498168944 Test loss recursive :  -0.4919068247079849\n",
      "Epoch :  15 Test loss :  -2.433378190994263 Test loss recursive :  -0.32235887289047244\n",
      "Epoch :  16 Test loss :  -2.453915524482727 Test loss recursive :  -0.1666771272663027\n",
      "Epoch :  17 Test loss :  -2.464299268722534 Test loss recursive :  -0.15882837305776776\n",
      "Epoch :  18 Test loss :  -2.476565160751343 Test loss recursive :  0.03843361385166645\n",
      "Epoch :  19 Test loss :  -2.500021414756775 Test loss recursive :  -0.18870228722691537\n",
      "Epoch :  20 Test loss :  -2.386738886833191 Test loss recursive :  -0.5947950911521912\n",
      "Epoch :  21 Test loss :  -2.3900055122375488 Test loss recursive :  -0.4280660480260849\n",
      "Epoch :  22 Test loss :  -2.414196004867554 Test loss recursive :  -0.500586388707161\n",
      "Epoch :  23 Test loss :  -2.4212674617767336 Test loss recursive :  -0.5627493464946747\n",
      "Epoch :  24 Test loss :  -2.436562223434448 Test loss recursive :  -0.5244033598899841\n",
      "Epoch :  25 Test loss :  -2.440380878448486 Test loss recursive :  -0.511765331029892\n",
      "Epoch :  26 Test loss :  -2.4553078842163085 Test loss recursive :  -0.3374492293596268\n",
      "Epoch :  27 Test loss :  -2.4565843963623046 Test loss recursive :  -0.46756195813417434\n",
      "Epoch :  28 Test loss :  -2.4694121932983397 Test loss recursive :  -0.4537068945169449\n",
      "Epoch :  29 Test loss :  -2.48043438911438 Test loss recursive :  -0.41179713189601896\n",
      "Epoch :  30 Test loss :  -2.482403793334961 Test loss recursive :  -0.3772236356139183\n",
      "Epoch :  31 Test loss :  -2.488737850189209 Test loss recursive :  -0.37988372027873996\n",
      "Epoch :  32 Test loss :  -2.5058209896087646 Test loss recursive :  -0.31597526848316193\n",
      "Epoch :  33 Test loss :  -2.507765016555786 Test loss recursive :  -0.2510128546319902\n",
      "Epoch :  34 Test loss :  -2.5135112190246582 Test loss recursive :  -0.24857233867049217\n",
      "Epoch :  35 Test loss :  -2.5277848482131957 Test loss recursive :  -0.18732278047595174\n",
      "Epoch :  36 Test loss :  -2.5294896078109743 Test loss recursive :  0.06882863208651542\n",
      "Epoch :  37 Test loss :  -2.539903540611267 Test loss recursive :  -0.19616459861397742\n",
      "Epoch :  38 Test loss :  -2.540625410079956 Test loss recursive :  -0.06375780936330556\n",
      "Epoch :  39 Test loss :  -2.5532624197006224 Test loss recursive :  -0.22901762234047054\n",
      "Epoch :  40 Test loss :  -2.560485072135925 Test loss recursive :  -0.1250020476616919\n",
      "Epoch :  41 Test loss :  -2.5584516096115113 Test loss recursive :  -0.14721608201041816\n",
      "Epoch :  42 Test loss :  -2.5592671537399294 Test loss recursive :  -0.04551250509452075\n",
      "Epoch :  43 Test loss :  -2.5683345413208007 Test loss recursive :  -0.08325411657046061\n",
      "Epoch :  44 Test loss :  -2.5786495447158813 Test loss recursive :  -0.14916179683525116\n",
      "Epoch :  45 Test loss :  -2.580391273498535 Test loss recursive :  -0.08843208722770214\n",
      "Epoch :  46 Test loss :  -2.589213671684265 Test loss recursive :  -0.08178490650840103\n",
      "Epoch :  47 Test loss :  -2.600077338218689 Test loss recursive :  0.014942196309566497\n",
      "Epoch :  48 Test loss :  -2.591742296218872 Test loss recursive :  -0.10801882305881008\n",
      "Epoch :  49 Test loss :  -2.602249193191528 Test loss recursive :  -0.08076659753918648\n",
      "Epoch :  50 Test loss :  -2.4909649801254274 Test loss recursive :  -0.4403155595064163\n",
      "Epoch :  51 Test loss :  -2.482124910354614 Test loss recursive :  -0.5324356007575989\n",
      "Epoch :  52 Test loss :  -2.487812623977661 Test loss recursive :  -0.495290265083313\n",
      "Epoch :  53 Test loss :  -2.50286602973938 Test loss recursive :  -0.43642135709524155\n",
      "Epoch :  54 Test loss :  -2.502945861816406 Test loss recursive :  -0.42464320853352544\n",
      "Epoch :  55 Test loss :  -2.501086039543152 Test loss recursive :  -0.5653932222723961\n",
      "Epoch :  56 Test loss :  -2.5125354433059695 Test loss recursive :  -0.4185676299035549\n",
      "Epoch :  57 Test loss :  -2.5205358123779296 Test loss recursive :  -0.49596348151564595\n",
      "Epoch :  58 Test loss :  -2.5250758361816406 Test loss recursive :  -0.5051786056160927\n",
      "Epoch :  59 Test loss :  -2.519474744796753 Test loss recursive :  -0.3694372382183792\n",
      "Epoch :  60 Test loss :  -2.5287408113479612 Test loss recursive :  -0.5204914668947458\n",
      "Epoch :  61 Test loss :  -2.534009532928467 Test loss recursive :  -0.4994548450410366\n",
      "Epoch :  62 Test loss :  -2.538003783226013 Test loss recursive :  -0.42349848529323936\n",
      "Epoch :  63 Test loss :  -2.529259214401245 Test loss recursive :  -0.4355236850958317\n",
      "Epoch :  64 Test loss :  -2.542630910873413 Test loss recursive :  -0.46070605935528874\n",
      "Epoch :  65 Test loss :  -2.5364480781555176 Test loss recursive :  -0.25931098584085704\n",
      "Epoch :  66 Test loss :  -2.5497225522994995 Test loss recursive :  -0.45786008298397063\n",
      "Epoch :  67 Test loss :  -2.5550068044662475 Test loss recursive :  -0.4454075933620334\n",
      "Epoch :  68 Test loss :  -2.5500190782547 Test loss recursive :  -0.5807344774901867\n",
      "Epoch :  69 Test loss :  -2.5644591569900514 Test loss recursive :  -0.44027064079418776\n",
      "Epoch :  70 Test loss :  -2.559158902168274 Test loss recursive :  -0.507938928976655\n",
      "Epoch :  71 Test loss :  -2.5632875394821166 Test loss recursive :  -0.4453768282756209\n",
      "Epoch :  72 Test loss :  -2.5651711559295656 Test loss recursive :  -0.43742679685354235\n",
      "Epoch :  73 Test loss :  -2.5709751319885252 Test loss recursive :  -0.6028398178517819\n",
      "Epoch :  74 Test loss :  -2.5703940534591676 Test loss recursive :  -0.5025601927097887\n",
      "Epoch :  75 Test loss :  -2.5764346981048583 Test loss recursive :  -0.47427024256438016\n",
      "Epoch :  76 Test loss :  -2.5795018529891967 Test loss recursive :  -0.620807854924351\n",
      "Epoch :  77 Test loss :  -2.5807353496551513 Test loss recursive :  -0.685542064756155\n",
      "Epoch :  78 Test loss :  -2.5894348192214967 Test loss recursive :  -0.5103191892802715\n",
      "Epoch :  79 Test loss :  -2.5878729581832887 Test loss recursive :  -0.5354796119034291\n",
      "Epoch :  80 Test loss :  -2.5878173685073853 Test loss recursive :  -0.39651367177255453\n",
      "Epoch :  81 Test loss :  -2.6058992671966554 Test loss recursive :  -0.3109325983934104\n",
      "Epoch :  82 Test loss :  -2.6011199855804445 Test loss recursive :  -0.4790196576528251\n",
      "Epoch :  83 Test loss :  -2.612129945755005 Test loss recursive :  -0.4565682322354405\n",
      "Epoch :  84 Test loss :  -2.613245477676392 Test loss recursive :  -0.593815488750115\n",
      "Epoch :  85 Test loss :  -2.6280576372146607 Test loss recursive :  -0.48835142273455856\n",
      "Epoch :  86 Test loss :  -2.6149309396743776 Test loss recursive :  -0.5692824365943671\n",
      "Epoch :  87 Test loss :  -2.624132251739502 Test loss recursive :  -0.6349745189212262\n",
      "Epoch :  88 Test loss :  -2.614319167137146 Test loss recursive :  -0.49199601739645005\n",
      "Epoch :  89 Test loss :  -2.6273166131973267 Test loss recursive :  -0.5642097774893046\n",
      "Epoch :  90 Test loss :  -2.635043754577637 Test loss recursive :  -0.7593149203201756\n",
      "Epoch :  91 Test loss :  -2.640107274055481 Test loss recursive :  -0.6653027774207294\n",
      "Epoch :  92 Test loss :  -2.6481930589675904 Test loss recursive :  -0.625286706276238\n",
      "Epoch :  93 Test loss :  -2.639569053649902 Test loss recursive :  -0.6361611170321703\n",
      "Epoch :  94 Test loss :  -2.6542908143997193 Test loss recursive :  -0.5049428248842014\n",
      "Epoch :  95 Test loss :  -2.6407748317718505 Test loss recursive :  -0.7207879779487848\n",
      "Epoch :  96 Test loss :  -2.657572021484375 Test loss recursive :  -0.4266480343043804\n",
      "Epoch :  97 Test loss :  -2.6570644760131836 Test loss recursive :  -0.5858305710554123\n",
      "Epoch :  98 Test loss :  -2.6613128566741944 Test loss recursive :  -0.7012894600629807\n",
      "Epoch :  99 Test loss :  -2.653241596221924 Test loss recursive :  -0.739020194709301\n"
     ]
    }
   ],
   "source": [
    "start(model, optimizer, scheduler, data_train, data_test, device, \\\n",
    "        epochs, epoch_to_load, grapher=grapher, save=100, save_datasets=False)"
   ]
  },
  {
   "cell_type": "code",
   "execution_count": null,
   "metadata": {},
   "outputs": [],
   "source": [
    "all_params_out, all_params_true = compute_parameters(model, data_test, device, duration=-1)\n",
    "grapher.plot_params(all_params_out, all_params_true, epochs - 1, extension=extension)"
   ]
  },
  {
   "cell_type": "code",
   "execution_count": null,
   "metadata": {},
   "outputs": [
    {
     "data": {
      "image/png": "[encoded data removed]",
      "text/plain": [
       "<Figure size 640x480 with 1 Axes>"
      ]
     },
     "metadata": {},
     "output_type": "display_data"
    }
   ],
   "source": [
    "loss_history = {'loss_mean' : [], 'loss_log' : [], 'loss' : []}\n",
    "loss, out, x = run_single_recursive(model, data_test, 0, device, loss_history, output=True)\n",
    "\n",
    "if out == None or x == None :\n",
    "    raise Exception(\"No output\")\n",
    "\n",
    "result_name = \"models/result_recursive\" + extension + \"_\" + str(number_of_messages) + \"_\" + str(size_of_messages) + \"_\" + str(epochs-1) + \".pkl\"\n",
    "\n",
    "with open(result_name, \"wb\") as f:\n",
    "    pickle.dump((out, x), f)\n",
    "\n",
    "t = 10\n",
    "fig = plt.figure()\n",
    "\n",
    "#now plot the graph as bubbles to show the difference between the two\n",
    "plt.scatter(x[t, :,0],x[t, :,1], s=100, c='b', alpha=0.5)\n",
    "plt.scatter(out[t, :,0],out[t, :,1], s=100, c='r', alpha=0.5)\n",
    "\n",
    "plt.show()\n",
    "plt.close()\n",
    "\n",
    "animation_name = \"models/animation_recursive\" + extension + \"_\" + str(number_of_messages) + \"_\" + str(size_of_messages) + \"_\" + str(epochs-1) + \".mp4\"\n",
    "make_animation(result_name, animation_name, show_speed=False)\n"
   ]
  }
 ],
 "metadata": {
  "kernelspec": {
   "display_name": "geom",
   "language": "python",
   "name": "python3"
  },
  "language_info": {
   "codemirror_mode": {
    "name": "ipython",
    "version": 3
   },
   "file_extension": ".py",
   "mimetype": "text/x-python",
   "name": "python",
   "nbconvert_exporter": "python",
   "pygments_lexer": "ipython3",
   "version": "3.10.8"
  }
 },
 "nbformat": 4,
 "nbformat_minor": 4
}
