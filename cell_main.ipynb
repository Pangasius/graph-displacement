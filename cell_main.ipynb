{
 "cells": [
  {
   "cell_type": "markdown",
   "metadata": {},
   "source": [
    "In this notebook, I will use torch_geometric to predict the developpement of a graph of positions through time"
   ]
  },
  {
   "cell_type": "code",
   "execution_count": 1,
   "metadata": {},
   "outputs": [
    {
     "name": "stdout",
     "output_type": "stream",
     "text": [
      "No module named 'pycapmd'\n",
      "Cannot import simulator\n"
     ]
    }
   ],
   "source": [
    "import torch\n",
    "from torch.optim.lr_scheduler import CosineAnnealingWarmRestarts\n",
    "import torch.nn.functional as F\n",
    "\n",
    "import numpy as np\n",
    "\n",
    "import torch_geometric\n",
    "from torch_geometric.utils import to_networkx, from_networkx\n",
    "from torch_geometric.nn import radius_graph\n",
    "from torch_geometric.data import Data\n",
    "\n",
    "import networkx as nx\n",
    "\n",
    "import pickle\n",
    "\n",
    "import time\n",
    "\n",
    "import sys\n",
    "import os\n",
    "from genericpath import exists\n",
    "\n",
    "import random\n",
    "\n",
    "sys.path.append('/home/nstillman/1_sbi_activematter/cpp_model')\n",
    "import allium\n",
    "\n",
    "model_path = \"model.pkl\"\n",
    "\n",
    "from .cell_dataset import CellGraphDataset\n",
    "from .cell_model import GraphEvolution\n",
    "\n",
    "import threading\n",
    "import matplotlib.pyplot as plt"
   ]
  },
  {
   "cell_type": "markdown",
   "metadata": {},
   "source": [
    "The data is a graph of cells having their own positions and velocity.\n",
    "\n",
    "In the graph, we will first start by connecting all the edges, then maybe later make radius_graphs to reduce the cost of the pass through the model"
   ]
  },
  {
   "cell_type": "code",
   "execution_count": 3,
   "metadata": {},
   "outputs": [
    {
     "name": "stdout",
     "output_type": "stream",
     "text": [
      "Training data length :  50\n",
      "Test data length :  15\n",
      "Validation data length :  15\n"
     ]
    }
   ],
   "source": [
    "#path = \"data/\" #local\n",
    "path = \"/scratch/users/nstillman/data-cpp/\" #remote\n",
    "\n",
    "data_train = CellGraphDataset(root=path + 'train', max_size=50, rdts=True, inmemory=True)\n",
    "print(\"Training data length : \", data_train.len())\n",
    "\n",
    "data_test = CellGraphDataset(root=path + 'test', max_size=15, inmemory=True)\n",
    "print(\"Test data length : \", data_test.len())\n",
    " \n",
    "data_val = CellGraphDataset(root=path + 'valid', max_size=15, inmemory=True)\n",
    "print(\"Validation data length : \", data_val.len())"
   ]
  },
  {
   "cell_type": "code",
   "execution_count": 4,
   "metadata": {},
   "outputs": [],
   "source": [
    "if \"sources\" not in os.listdir():\n",
    "    os.mkdir(\"sources\")\n",
    "    \n",
    "override = True #make this true to always use the same ones\n",
    "if override :\n",
    "    if \"train_paths.pkl\" not in os.listdir(\"sources\"):\n",
    "        #first time running, dump the paths to a pickle file\n",
    "        data_train.dump_source(\"sources/train_paths.pkl\")\n",
    "    else :\n",
    "        #overwrite the paths to the previous configuration\n",
    "        data_train.overwrite_source(\"sources/train_paths.pkl\")\n",
    "\n",
    "    if \"test_paths.pkl\" not in os.listdir(\"sources\"):\n",
    "        data_test.dump_source(\"sources/test_paths.pkl\")\n",
    "    else :\n",
    "        data_test.overwrite_source(\"sources/test_paths.pkl\")\n",
    "\n",
    "    if \"val_paths.pkl\" not in os.listdir(\"sources\"):\n",
    "        data_val.dump_source(\"sources/val_paths.pkl\")\n",
    "    else :\n",
    "        data_val.overwrite_source(\"sources/val_paths.pkl\")"
   ]
  },
  {
   "cell_type": "code",
   "execution_count": 5,
   "metadata": {},
   "outputs": [],
   "source": [
    "rval, edge_index, edge_attr, batch_edge = data_train.get(0)\n",
    "#print(rval, edge_index, edges_attr, batch_edge)"
   ]
  },
  {
   "cell_type": "markdown",
   "metadata": {},
   "source": [
    "Next we need to define the model that will be used :\n",
    "    > input \n",
    "        (1) Graph at a particular time t (nodes having x,y,dx,dy as attributes)\n",
    "        (2) Graphs up to a particular time [t-a, t] (nodes having x,y as attributes)\n",
    "    > output\n",
    "        (a) Graph at the immediate next time step t+1\n",
    "        (b) Graph [t, t+b]\n",
    "        (c) Graph at t+b\n",
    "    > graph size\n",
    "        (x) Fixed graph size to the most nodes possible (or above)\n",
    "        (y) Unbounded graph size\n",
    "            >> idea : graph walks\n",
    "            >> idea : sampler"
   ]
  },
  {
   "cell_type": "markdown",
   "metadata": {},
   "source": [
    "The following model will do (1ax)"
   ]
  },
  {
   "cell_type": "code",
   "execution_count": 7,
   "metadata": {},
   "outputs": [],
   "source": [
    "global losses\n",
    "losses = []"
   ]
  },
  {
   "cell_type": "code",
   "execution_count": 8,
   "metadata": {},
   "outputs": [],
   "source": [
    "def test(model, data, device) :\n",
    "    model.eval()\n",
    "    model = model.to(device)\n",
    "    with torch.no_grad():\n",
    "        loss_sum = 0\n",
    "        for i in range(data.len()):\n",
    "            x, edge_index, edge_attr, batch_edges = data.get(i)\n",
    "            \n",
    "            random_number = random.randint(1, x.shape[0]-2)\n",
    "            \n",
    "            xshape = x.shape\n",
    "            \n",
    "            edge_index = edge_index - batch_edges * xshape[1]\n",
    "            \n",
    "            y = x[random_number+1].to(device)\n",
    "            x = x[random_number].to(device)\n",
    "            \n",
    "            mask = batch_edges == random_number\n",
    "            \n",
    "            out = model(x.unsqueeze(0), edge_index[:, mask].to(device), edge_attr[mask].to(device))\n",
    "            \n",
    "            loss = F.mse_loss(out, y.unsqueeze(0))\n",
    "            \n",
    "            loss_sum = loss_sum + loss.item()\n",
    "            \n",
    "        return loss_sum / data.len()"
   ]
  },
  {
   "cell_type": "code",
   "execution_count": 9,
   "metadata": {},
   "outputs": [],
   "source": [
    "def train(model, optimizer, scheduler, data, device, epoch) :\n",
    "    model.train()\n",
    "    model = model.to(device)\n",
    "    for i in range(data.len()):\n",
    "        optimizer.zero_grad()\n",
    "        \n",
    "        x, edge_index, edge_attr, batch_edges = data.get(i)\n",
    "        \n",
    "        xshape = x.shape\n",
    "        \n",
    "        x = x.to(device)\n",
    "        edge_index = edge_index.to(device)\n",
    "        edge_attr = edge_attr.to(device)\n",
    "        batch_edges = batch_edges.to(device)\n",
    "        \n",
    "        edge_index = edge_index - batch_edges * xshape[1]\n",
    "        \n",
    "        #we don't want to predict the last step since we wouldn't have the data for the loss\n",
    "        #and for the first point we don't have the velocity\n",
    "        mask = torch.logical_and(batch_edges > 0, \\\n",
    "                                 batch_edges < xshape[0] - 1)\n",
    "        out = model(x[1:-1], edge_index[:, mask] , edge_attr[mask])\n",
    "        \n",
    "        loss = F.mse_loss(out, x[2:])\n",
    "        loss.backward()\n",
    "        \n",
    "        optimizer.step()\n",
    "        \n",
    "        scheduler.step(epoch + i / data.len())\n",
    "        \n",
    "        \n",
    "        print(\"Current loss : \" + str(loss.item()) + \" ... \" + str(i) + \"/\" + str(data.len()) + \"         \", end=\"\\r\")\n",
    "        \n",
    "    return model"
   ]
  },
  {
   "cell_type": "code",
   "execution_count": 10,
   "metadata": {},
   "outputs": [],
   "source": [
    "def start(model, optimizer, scheduler, data_train, data_test, device, epoch, save=0, early_stop=False):\n",
    "    for e in range(epoch):\n",
    "        model = train(model, optimizer, scheduler, data_train, device, e)\n",
    "            \n",
    "        test_loss = test(model, data_test, device)\n",
    "        \n",
    "        print(\"Epoch : \", e, \"Test loss : \", test_loss, \"      \")\n",
    "        \n",
    "        losses.append(test_loss)\n",
    "        \n",
    "        if early_stop and len(losses) > 15 :\n",
    "            recent_losses = min(len(losses), 30)\n",
    "            y = losses[-recent_losses:]\n",
    "            \n",
    "            axis = np.arange(recent_losses)\n",
    "            A = np.vstack([axis, np.ones(len(axis))]).T\n",
    "            \n",
    "            a = np.linalg.lstsq(A, y, rcond=None)\n",
    "            \n",
    "            if a[0][0] >= -0.002 :\n",
    "                print(\"Early stopping : recent slope at \", a[0][0])\n",
    "                if (save) :\n",
    "                    with open(model_path, 'wb') as f:\n",
    "                        pickle.dump(model, f)\n",
    "                return\n",
    "            else : \n",
    "                print(\"Early stopping passed : current slope at \", a[0][0])\n",
    "        \n",
    "        if (save and e%save == 0) :\n",
    "            with open(model_path, 'wb') as f:\n",
    "                pickle.dump(model, f)"
   ]
  },
  {
   "cell_type": "code",
   "execution_count": 11,
   "metadata": {},
   "outputs": [],
   "source": [
    "\n",
    "load = False\n",
    "if (load and exists(model_path)) :\n",
    "    with open(model_path, 'rb') as f:\n",
    "        model = pickle.load(f)\n",
    "else :\n",
    "    model = GraphEvolution(4, 4, 32, 8, 0.0, edge_dim=len(data_train.attributes));\n",
    "    \n",
    "assert isinstance(model, GraphEvolution)\n",
    "    \n",
    "optimizer = torch.optim.AdamW(model.parameters(), lr=0.001)\n",
    "scheduler = CosineAnnealingWarmRestarts(optimizer=optimizer, T_0=10, T_mult=2)"
   ]
  },
  {
   "cell_type": "code",
   "execution_count": 12,
   "metadata": {},
   "outputs": [],
   "source": [
    "class GraphingLoss():\n",
    "    def __init__(self):\n",
    "        self.losses = []\n",
    "        self.stop = False\n",
    "        self.timer = 0\n",
    "        self.last_len = 0\n",
    "        self.fig = None\n",
    "        self.ax = None\n",
    "\n",
    "    def plot_and_reschedule(self):\n",
    "        if not self.stop:\n",
    "            if (self.last_len != len(losses)) :\n",
    "                if self.fig is None :\n",
    "                    self.fig = plt.figure()\n",
    "                    self.ax = self.fig.add_subplot(111)\n",
    "                \n",
    "                self.ax.clear() # type: ignore\n",
    "                self.ax.plot(losses) # type: ignore\n",
    "                self.fig.show()\n",
    "                self.fig.canvas.draw()\n",
    "                self.last_len = len(losses)\n",
    "                \n",
    "                plt.savefig(\"Losses.pdf\", format=\"pdf\")\n",
    "\n",
    "            threading.Timer(self.timer, self.plot_and_reschedule).start()\n",
    "            \n",
    "    def gstop(self):\n",
    "        self.stop = True\n",
    "        \n",
    "    def gstart(self, timer=10):\n",
    "        self.timer = timer\n",
    "        if (not self.timer or self.timer != int(self.timer)):\n",
    "            raise ValueError(\"timer must be a positive integer\")\n",
    "        \n",
    "        threading.Timer(self.timer, self.plot_and_reschedule).start()"
   ]
  },
  {
   "cell_type": "code",
   "execution_count": 13,
   "metadata": {},
   "outputs": [
    {
     "name": "stdout",
     "output_type": "stream",
     "text": [
      "Epoch :  0 Test loss :  3.0424984067057568            \n",
      "Epoch :  1 Test loss :  3.5483325531706216            \n",
      "Epoch :  2 Test loss :  2.4284801803529263            \n",
      "Epoch :  3 Test loss :  1.3993390306209526            \n",
      "Epoch :  4 Test loss :  2.2380443626393873            \n",
      "Epoch :  5 Test loss :  2.1763801138537624            \n",
      "Epoch :  6 Test loss :  2.9198967424531777            \n",
      "Epoch :  7 Test loss :  2.183614840482672             \n",
      "Epoch :  8 Test loss :  2.758412264318516              \n",
      "Epoch :  9 Test loss :  2.440041671693325             \n",
      "Epoch :  10 Test loss :  2.606260228405396            \n",
      "Epoch :  11 Test loss :  1.4932343466207385           \n",
      "Epoch :  12 Test loss :  2.4522141091525556           \n",
      "Epoch :  13 Test loss :  2.7347176893924674           \n",
      "Epoch :  14 Test loss :  1.6923476057748              \n",
      "Epoch :  15 Test loss :  2.4131549259026843           \n",
      "Early stopping passed : current slope at  -0.03625368463204194\n",
      "Epoch :  16 Test loss :  2.6952677929773925          \n",
      "Early stopping passed : current slope at  -0.024577438644227814\n",
      "Epoch :  17 Test loss :  1.4105095923567812           \n",
      "Early stopping passed : current slope at  -0.038492016231312556\n",
      "Epoch :  18 Test loss :  1.5967201160887876           \n",
      "Early stopping passed : current slope at  -0.04490398955738394\n",
      "Epoch :  19 Test loss :  2.0828122018525996           \n",
      "Early stopping passed : current slope at  -0.041989911904647265\n",
      "Epoch :  20 Test loss :  2.5800578905269504           \n",
      "Early stopping passed : current slope at  -0.03282967779055656\n",
      "Epoch :  21 Test loss :  2.2310209409023325           \n",
      "Early stopping passed : current slope at  -0.029699943932157247\n",
      "Epoch :  22 Test loss :  2.4596418707941967           \n",
      "Early stopping passed : current slope at  -0.024510789107027083\n",
      "Epoch :  23 Test loss :  3.2584090124815703           \n",
      "Early stopping passed : current slope at  -0.01228236058373278\n",
      "Epoch :  24 Test loss :  3.677302235737443            \n",
      "Early stopping : recent slope at  0.001217083009843429\n"
     ]
    },
    {
     "data": {
      "image/png": "[encoded data removed]",
      "text/plain": [
       "<Figure size 640x480 with 1 Axes>"
      ]
     },
     "metadata": {},
     "output_type": "display_data"
    }
   ],
   "source": [
    "epochs = 501\n",
    "grapher = GraphingLoss()\n",
    "try :\n",
    "    grapher.gstart(10)\n",
    "    start(model, optimizer, scheduler, data_train, data_test, \"cuda\" if torch.cuda.is_available() else \"cpu\", epochs, save=10, early_stop = True)\n",
    "finally :\n",
    "    grapher.gstop()"
   ]
  },
  {
   "cell_type": "code",
   "execution_count": 14,
   "metadata": {},
   "outputs": [],
   "source": [
    "#things to do :\n",
    "    #normalize the inputs \n",
    "    #preload the inputs\n",
    "    #test on GPU\n",
    "    #make sure this model doesn't use past times (normally should not since the graph is disconnected and it's based on message passing)\n",
    "    #maybe add even more statistics to edges but idk what to put\n",
    "    #show the results\n",
    "    "
   ]
  }
 ],
 "metadata": {
  "kernelspec": {
   "display_name": "geom",
   "language": "python",
   "name": "python3"
  },
  "language_info": {
   "codemirror_mode": {
    "name": "ipython",
    "version": 3
   },
   "file_extension": ".py",
   "mimetype": "text/x-python",
   "name": "python",
   "nbconvert_exporter": "python",
   "pygments_lexer": "ipython3",
   "version": "3.10.8 | packaged by conda-forge | (main, Nov 22 2022, 08:16:33) [MSC v.1929 64 bit (AMD64)]"
  },
  "vscode": {
   "interpreter": {
    "hash": "c671acb9d3cf87d64ea7277f1f1b7981cda534cb27553b34f82b93fda7c98f17"
   }
  }
 },
 "nbformat": 4,
 "nbformat_minor": 4
}
