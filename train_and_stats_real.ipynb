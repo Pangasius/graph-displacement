{
 "cells": [
  {
   "cell_type": "code",
   "execution_count": 1,
   "metadata": {},
   "outputs": [
    {
     "name": "stdout",
     "output_type": "stream",
     "text": [
      "Cannot import zuko. Continuing without prior\n",
      "No module named 'pycapmd'\n",
      "Cannot import simulator\n",
      "_2_64_normal_h4_leave0\n",
      "models/real/normal/h4/model_2_64_normal_h4_leave0\n",
      "Found paths:  ['/mnt/c/users/gille/Desktop/graph-displacement/data/cell_data/cell_data/tracks_18.h5', '/mnt/c/users/gille/Desktop/graph-displacement/data/cell_data/cell_data/tracks_12.h5', '/mnt/c/users/gille/Desktop/graph-displacement/data/cell_data/cell_data/tracks_25.h5', '/mnt/c/users/gille/Desktop/graph-displacement/data/cell_data/cell_data/tracks_72.h5']\n",
      "Leaving out:  /mnt/c/users/gille/Desktop/graph-displacement/data/cell_data/cell_data/tracks_18.h5\n",
      "Length:  4\n",
      "Pathes for training :\n",
      "['/mnt/c/users/gille/Desktop/graph-displacement/data/cell_data/cell_data/tracks_12.h5', '/mnt/c/users/gille/Desktop/graph-displacement/data/cell_data/cell_data/tracks_25.h5', '/mnt/c/users/gille/Desktop/graph-displacement/data/cell_data/cell_data/tracks_72.h5']\n",
      "Pathes for testing :\n",
      "['/mnt/c/users/gille/Desktop/graph-displacement/data/cell_data/cell_data/tracks_18.h5']\n",
      "\n",
      "Data loaded\n",
      "\n"
     ]
    },
    {
     "name": "stderr",
     "output_type": "stream",
     "text": [
      "[INFO][2023/08/16 07:28:27 PM] Opening HDF file: /mnt/c/users/gille/Desktop/graph-displacement/data/cell_data/cell_data/tracks_18.h5...\n",
      "[INFO][2023/08/16 07:28:27 PM] Loading tracks/obj_type_1\n",
      "[INFO][2023/08/16 07:28:27 PM] Loading objects/obj_type_1 (3647, 5) (3647 filtered: None)\n",
      "[INFO][2023/08/16 07:28:27 PM] Closing HDF file: /mnt/c/users/gille/Desktop/graph-displacement/data/cell_data/cell_data/tracks_18.h5\n"
     ]
    },
    {
     "name": "stdout",
     "output_type": "stream",
     "text": [
      "Loaded model\n",
      "\n",
      "Finished training\n",
      "\n",
      "Found 296 cells\n",
      "Found 224 cells without gaps\n",
      "Found  2235  valid values\n",
      "Filling rate :  0.19955357142857144\n",
      "Done\n",
      "_2_64_normal_h4_leave1\n",
      "models/real/normal/h4/model_2_64_normal_h4_leave1\n",
      "Found paths:  ['/mnt/c/users/gille/Desktop/graph-displacement/data/cell_data/cell_data/tracks_18.h5', '/mnt/c/users/gille/Desktop/graph-displacement/data/cell_data/cell_data/tracks_12.h5', '/mnt/c/users/gille/Desktop/graph-displacement/data/cell_data/cell_data/tracks_25.h5', '/mnt/c/users/gille/Desktop/graph-displacement/data/cell_data/cell_data/tracks_72.h5']\n",
      "Leaving out:  /mnt/c/users/gille/Desktop/graph-displacement/data/cell_data/cell_data/tracks_12.h5\n",
      "Length:  4\n",
      "Pathes for training :\n",
      "['/mnt/c/users/gille/Desktop/graph-displacement/data/cell_data/cell_data/tracks_18.h5', '/mnt/c/users/gille/Desktop/graph-displacement/data/cell_data/cell_data/tracks_25.h5', '/mnt/c/users/gille/Desktop/graph-displacement/data/cell_data/cell_data/tracks_72.h5']\n",
      "Pathes for testing :\n",
      "['/mnt/c/users/gille/Desktop/graph-displacement/data/cell_data/cell_data/tracks_12.h5']\n",
      "\n",
      "Data loaded\n",
      "\n",
      "Loaded model\n"
     ]
    },
    {
     "name": "stderr",
     "output_type": "stream",
     "text": [
      "[INFO][2023/08/16 07:28:43 PM] Opening HDF file: /mnt/c/users/gille/Desktop/graph-displacement/data/cell_data/cell_data/tracks_12.h5...\n",
      "[INFO][2023/08/16 07:28:43 PM] Loading tracks/obj_type_1\n",
      "[INFO][2023/08/16 07:28:43 PM] Loading objects/obj_type_1 (855, 5) (855 filtered: None)\n",
      "[INFO][2023/08/16 07:28:43 PM] Closing HDF file: /mnt/c/users/gille/Desktop/graph-displacement/data/cell_data/cell_data/tracks_12.h5\n"
     ]
    },
    {
     "name": "stdout",
     "output_type": "stream",
     "text": [
      "\n",
      "Finished training\n",
      "\n",
      "Found 19 cells\n",
      "Found 17 cells without gaps\n",
      "Found  694  valid values\n",
      "Filling rate :  0.8164705882352942\n"
     ]
    },
    {
     "name": "stderr",
     "output_type": "stream",
     "text": [
      "[INFO][2023/08/16 07:28:58 PM] Opening HDF file: /mnt/c/users/gille/Desktop/graph-displacement/data/cell_data/cell_data/tracks_25.h5...\n",
      "[INFO][2023/08/16 07:28:58 PM] Loading tracks/obj_type_1\n"
     ]
    },
    {
     "name": "stdout",
     "output_type": "stream",
     "text": [
      "Done\n",
      "_2_64_normal_h4_leave2\n",
      "models/real/normal/h4/model_2_64_normal_h4_leave2\n",
      "Found paths:  ['/mnt/c/users/gille/Desktop/graph-displacement/data/cell_data/cell_data/tracks_18.h5', '/mnt/c/users/gille/Desktop/graph-displacement/data/cell_data/cell_data/tracks_12.h5', '/mnt/c/users/gille/Desktop/graph-displacement/data/cell_data/cell_data/tracks_25.h5', '/mnt/c/users/gille/Desktop/graph-displacement/data/cell_data/cell_data/tracks_72.h5']\n",
      "Leaving out:  /mnt/c/users/gille/Desktop/graph-displacement/data/cell_data/cell_data/tracks_25.h5\n",
      "Length:  4\n",
      "Pathes for training :\n",
      "['/mnt/c/users/gille/Desktop/graph-displacement/data/cell_data/cell_data/tracks_18.h5', '/mnt/c/users/gille/Desktop/graph-displacement/data/cell_data/cell_data/tracks_12.h5', '/mnt/c/users/gille/Desktop/graph-displacement/data/cell_data/cell_data/tracks_72.h5']\n",
      "Pathes for testing :\n",
      "['/mnt/c/users/gille/Desktop/graph-displacement/data/cell_data/cell_data/tracks_25.h5']\n",
      "\n",
      "Data loaded\n",
      "\n",
      "Loaded model\n",
      "\n",
      "Finished training\n",
      "\n"
     ]
    },
    {
     "name": "stderr",
     "output_type": "stream",
     "text": [
      "[INFO][2023/08/16 07:28:58 PM] Loading objects/obj_type_1 (3005, 5) (3005 filtered: None)\n",
      "[INFO][2023/08/16 07:28:58 PM] Closing HDF file: /mnt/c/users/gille/Desktop/graph-displacement/data/cell_data/cell_data/tracks_25.h5\n"
     ]
    },
    {
     "name": "stdout",
     "output_type": "stream",
     "text": [
      "Found 109 cells\n",
      "Found 81 cells without gaps\n",
      "Found  1966  valid values\n",
      "Filling rate :  0.4854320987654321\n"
     ]
    },
    {
     "name": "stderr",
     "output_type": "stream",
     "text": [
      "[INFO][2023/08/16 07:29:14 PM] Opening HDF file: /mnt/c/users/gille/Desktop/graph-displacement/data/cell_data/cell_data/tracks_72.h5...\n",
      "[INFO][2023/08/16 07:29:14 PM] Loading tracks/obj_type_1\n",
      "[INFO][2023/08/16 07:29:14 PM] Loading objects/obj_type_1 (2527, 5) (2527 filtered: None)\n",
      "[INFO][2023/08/16 07:29:14 PM] Closing HDF file: /mnt/c/users/gille/Desktop/graph-displacement/data/cell_data/cell_data/tracks_72.h5\n"
     ]
    },
    {
     "name": "stdout",
     "output_type": "stream",
     "text": [
      "Done\n",
      "_2_64_normal_h4_leave3\n",
      "models/real/normal/h4/model_2_64_normal_h4_leave3\n",
      "Found paths:  ['/mnt/c/users/gille/Desktop/graph-displacement/data/cell_data/cell_data/tracks_18.h5', '/mnt/c/users/gille/Desktop/graph-displacement/data/cell_data/cell_data/tracks_12.h5', '/mnt/c/users/gille/Desktop/graph-displacement/data/cell_data/cell_data/tracks_25.h5', '/mnt/c/users/gille/Desktop/graph-displacement/data/cell_data/cell_data/tracks_72.h5']\n",
      "Leaving out:  /mnt/c/users/gille/Desktop/graph-displacement/data/cell_data/cell_data/tracks_72.h5\n",
      "Length:  4\n",
      "Pathes for training :\n",
      "['/mnt/c/users/gille/Desktop/graph-displacement/data/cell_data/cell_data/tracks_18.h5', '/mnt/c/users/gille/Desktop/graph-displacement/data/cell_data/cell_data/tracks_12.h5', '/mnt/c/users/gille/Desktop/graph-displacement/data/cell_data/cell_data/tracks_25.h5']\n",
      "Pathes for testing :\n",
      "['/mnt/c/users/gille/Desktop/graph-displacement/data/cell_data/cell_data/tracks_72.h5']\n",
      "\n",
      "Data loaded\n",
      "\n",
      "Loaded model\n",
      "\n",
      "Finished training\n",
      "\n",
      "Found 81 cells\n",
      "Found 68 cells without gaps\n",
      "Found  2007  valid values\n",
      "Filling rate :  0.5902941176470589\n",
      "Done\n"
     ]
    }
   ],
   "source": [
    "from train_and_stats_real import run\n",
    "\n",
    "number_of_messages = 2\n",
    "size_of_messages = 64\n",
    "epochs = 0\n",
    "distrib = \"normal\"\n",
    "horizon = 4\n",
    "leave_out = [0,1,2,3]\n",
    "\n",
    "for leave in leave_out:\n",
    "    run(number_of_messages, size_of_messages, epochs, distrib, horizon, leave, many_many=False)"
   ]
  }
 ],
 "metadata": {
  "kernelspec": {
   "display_name": "wsl_geom",
   "language": "python",
   "name": "python3"
  },
  "language_info": {
   "codemirror_mode": {
    "name": "ipython",
    "version": 3
   },
   "file_extension": ".py",
   "mimetype": "text/x-python",
   "name": "python",
   "nbconvert_exporter": "python",
   "pygments_lexer": "ipython3",
   "version": "3.10.10"
  },
  "orig_nbformat": 4
 },
 "nbformat": 4,
 "nbformat_minor": 2
}
