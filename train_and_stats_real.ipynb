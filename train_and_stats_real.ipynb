{
 "cells": [
  {
   "cell_type": "code",
   "execution_count": 1,
   "metadata": {},
   "outputs": [
    {
     "name": "stdout",
     "output_type": "stream",
     "text": [
      "Cannot import zuko. Continuing without prior\n",
      "No module named 'pycapmd'\n",
      "Cannot import simulator\n",
      "_2_128_normal_h6_leave0\n",
      "models/real/normal/h6/model_2_128_normal_h6_leave0\n",
      "Found paths:  ['/mnt/c/Users/gille/Desktop/graph-displacement/data/cell_data/cell_data/tracks_12.h5', '/mnt/c/Users/gille/Desktop/graph-displacement/data/cell_data/cell_data/tracks_72.h5', '/mnt/c/Users/gille/Desktop/graph-displacement/data/cell_data/cell_data/tracks_18.h5', '/mnt/c/Users/gille/Desktop/graph-displacement/data/cell_data/cell_data/tracks_25.h5']\n",
      "Leaving out:  /mnt/c/Users/gille/Desktop/graph-displacement/data/cell_data/cell_data/tracks_12.h5\n",
      "Length:  4\n",
      "Pathes for training :\n",
      "['/mnt/c/Users/gille/Desktop/graph-displacement/data/cell_data/cell_data/tracks_72.h5', '/mnt/c/Users/gille/Desktop/graph-displacement/data/cell_data/cell_data/tracks_18.h5', '/mnt/c/Users/gille/Desktop/graph-displacement/data/cell_data/cell_data/tracks_25.h5']\n",
      "Pathes for testing :\n",
      "['/mnt/c/Users/gille/Desktop/graph-displacement/data/cell_data/cell_data/tracks_12.h5']\n",
      "\n",
      "Data loaded\n",
      "\n"
     ]
    },
    {
     "name": "stderr",
     "output_type": "stream",
     "text": [
      "[INFO][2023/07/28 04:37:08 PM] Opening HDF file: /mnt/c/Users/gille/Desktop/graph-displacement/data/cell_data/cell_data/tracks_72.h5...\n",
      "[INFO][2023/07/28 04:37:08 PM] Loading tracks/obj_type_1\n",
      "[INFO][2023/07/28 04:37:08 PM] Loading objects/obj_type_1 (2527, 5) (2527 filtered: None)\n",
      "[INFO][2023/07/28 04:37:08 PM] Closing HDF file: /mnt/c/Users/gille/Desktop/graph-displacement/data/cell_data/cell_data/tracks_72.h5\n"
     ]
    },
    {
     "name": "stdout",
     "output_type": "stream",
     "text": [
      "Found 81 cells\n",
      "Found 68 cells without gaps\n",
      "Found  2007  valid values\n",
      "Filling rate :  0.5902941176470589\n"
     ]
    },
    {
     "name": "stderr",
     "output_type": "stream",
     "text": [
      "[INFO][2023/07/28 04:37:09 PM] Opening HDF file: /mnt/c/Users/gille/Desktop/graph-displacement/data/cell_data/cell_data/tracks_18.h5...\n",
      "[INFO][2023/07/28 04:37:09 PM] Loading tracks/obj_type_1\n",
      "[INFO][2023/07/28 04:37:09 PM] Loading objects/obj_type_1 (3647, 5) (3647 filtered: None)\n",
      "[INFO][2023/07/28 04:37:09 PM] Closing HDF file: /mnt/c/Users/gille/Desktop/graph-displacement/data/cell_data/cell_data/tracks_18.h5\n"
     ]
    },
    {
     "name": "stdout",
     "output_type": "stream",
     "text": [
      "Found 296 cells1.92, ... 0, / 3, Current memory usage : 3323 MB, loaded 1    \n",
      "Found 224 cells without gaps\n",
      "Found  2235  valid values\n",
      "Filling rate :  0.19955357142857144\n"
     ]
    },
    {
     "name": "stderr",
     "output_type": "stream",
     "text": [
      "[INFO][2023/07/28 04:37:10 PM] Opening HDF file: /mnt/c/Users/gille/Desktop/graph-displacement/data/cell_data/cell_data/tracks_25.h5...\n",
      "[INFO][2023/07/28 04:37:10 PM] Loading tracks/obj_type_1\n",
      "[INFO][2023/07/28 04:37:10 PM] Loading objects/obj_type_1 (3005, 5) (3005 filtered: None)\n",
      "[INFO][2023/07/28 04:37:10 PM] Closing HDF file: /mnt/c/Users/gille/Desktop/graph-displacement/data/cell_data/cell_data/tracks_25.h5\n"
     ]
    },
    {
     "name": "stdout",
     "output_type": "stream",
     "text": [
      "Found 109 cells1431.82, ... 1, / 3, Current memory usage : 3330 MB, loaded 2    \n",
      "Found 81 cells without gaps\n",
      "Found  1966  valid values\n",
      "Filling rate :  0.4854320987654321\n",
      "Current loss : 1.85, ... 2, / 3, Current memory usage : 3332 MB, loaded 3      \r"
     ]
    },
    {
     "name": "stderr",
     "output_type": "stream",
     "text": [
      "[INFO][2023/07/28 04:37:27 PM] Opening HDF file: /mnt/c/Users/gille/Desktop/graph-displacement/data/cell_data/cell_data/tracks_12.h5...\n",
      "[INFO][2023/07/28 04:37:27 PM] Loading tracks/obj_type_1\n",
      "[INFO][2023/07/28 04:37:27 PM] Loading objects/obj_type_1 (855, 5) (855 filtered: None)\n",
      "[INFO][2023/07/28 04:37:27 PM] Closing HDF file: /mnt/c/Users/gille/Desktop/graph-displacement/data/cell_data/cell_data/tracks_12.h5\n"
     ]
    },
    {
     "name": "stdout",
     "output_type": "stream",
     "text": [
      "Found 19 cells\n",
      "Found 17 cells without gaps\n",
      "Found  694  valid values\n",
      "Filling rate :  0.8164705882352942\n",
      "Epoch :  0 Test loss recursive :  4.342160701751709\n",
      "Epoch :  1 Test loss recursive :  2.2607691287994385e : 3349 MB, loaded 3     \n",
      "Epoch :  2 Test loss recursive :  2.041595697402954ge : 3356 MB, loaded 3    \n",
      "Epoch :  3 Test loss recursive :  2.19390606880188age : 3360 MB, loaded 3    \n",
      "Epoch :  4 Test loss recursive :  1.9512170553207397e : 3365 MB, loaded 3    \n",
      "Epoch :  5 Test loss recursive :  1.9535108804702759e : 3370 MB, loaded 3     \n",
      "Epoch :  6 Test loss recursive :  2.058401107788086ge : 3374 MB, loaded 3    \n",
      "Epoch :  7 Test loss recursive :  2.0877256393432617e : 3379 MB, loaded 3    \n",
      "Epoch :  8 Test loss recursive :  1.9381381273269653e : 3383 MB, loaded 3    \n",
      "Epoch :  9 Test loss recursive :  1.7475166320800781e : 3388 MB, loaded 3    \n",
      "Epoch :  10 Test loss recursive :  1.643280267715454e : 3392 MB, loaded 3    \n",
      "Epoch :  11 Test loss recursive :  1.756664514541626e : 3396 MB, loaded 3    \n",
      "Epoch :  12 Test loss recursive :  1.7797448635101318 : 3401 MB, loaded 3    \n",
      "Epoch :  13 Test loss recursive :  1.6988155841827393 : 3406 MB, loaded 3    \n",
      "Epoch :  14 Test loss recursive :  1.5760871171951294 : 3410 MB, loaded 3    \n",
      "Epoch :  15 Test loss recursive :  1.5862610340118408 : 3415 MB, loaded 3    \n",
      "Epoch :  16 Test loss recursive :  1.6368356943130493 : 3419 MB, loaded 3    \n",
      "Epoch :  17 Test loss recursive :  1.580299735069275e : 3424 MB, loaded 3    \n",
      "Epoch :  18 Test loss recursive :  1.5902985334396362 : 3428 MB, loaded 3    \n",
      "\n",
      "Finished training\n",
      "\n"
     ]
    },
    {
     "name": "stderr",
     "output_type": "stream",
     "text": [
      "[INFO][2023/07/28 04:46:39 PM] Opening HDF file: /mnt/c/Users/gille/Desktop/graph-displacement/data/cell_data/cell_data/tracks_12.h5...\n",
      "[INFO][2023/07/28 04:46:39 PM] Loading tracks/obj_type_1\n",
      "[INFO][2023/07/28 04:46:39 PM] Loading objects/obj_type_1 (855, 5) (855 filtered: None)\n",
      "[INFO][2023/07/28 04:46:39 PM] Closing HDF file: /mnt/c/Users/gille/Desktop/graph-displacement/data/cell_data/cell_data/tracks_12.h5\n"
     ]
    },
    {
     "name": "stdout",
     "output_type": "stream",
     "text": [
      "Done\n",
      "_2_128_normal_h6_leave1\n",
      "models/real/normal/h6/model_2_128_normal_h6_leave1\n",
      "Found paths:  ['/mnt/c/Users/gille/Desktop/graph-displacement/data/cell_data/cell_data/tracks_12.h5', '/mnt/c/Users/gille/Desktop/graph-displacement/data/cell_data/cell_data/tracks_72.h5', '/mnt/c/Users/gille/Desktop/graph-displacement/data/cell_data/cell_data/tracks_18.h5', '/mnt/c/Users/gille/Desktop/graph-displacement/data/cell_data/cell_data/tracks_25.h5']\n",
      "Leaving out:  /mnt/c/Users/gille/Desktop/graph-displacement/data/cell_data/cell_data/tracks_72.h5\n",
      "Length:  4\n",
      "Pathes for training :\n",
      "['/mnt/c/Users/gille/Desktop/graph-displacement/data/cell_data/cell_data/tracks_12.h5', '/mnt/c/Users/gille/Desktop/graph-displacement/data/cell_data/cell_data/tracks_18.h5', '/mnt/c/Users/gille/Desktop/graph-displacement/data/cell_data/cell_data/tracks_25.h5']\n",
      "Pathes for testing :\n",
      "['/mnt/c/Users/gille/Desktop/graph-displacement/data/cell_data/cell_data/tracks_72.h5']\n",
      "\n",
      "Data loaded\n",
      "\n",
      "Found 19 cells\n",
      "Found 17 cells without gaps\n",
      "Found  694  valid values\n",
      "Filling rate :  0.8164705882352942\n"
     ]
    },
    {
     "name": "stderr",
     "output_type": "stream",
     "text": [
      "[INFO][2023/07/28 04:46:39 PM] Opening HDF file: /mnt/c/Users/gille/Desktop/graph-displacement/data/cell_data/cell_data/tracks_18.h5...\n",
      "[INFO][2023/07/28 04:46:39 PM] Loading tracks/obj_type_1\n",
      "[INFO][2023/07/28 04:46:39 PM] Loading objects/obj_type_1 (3647, 5) (3647 filtered: None)\n"
     ]
    },
    {
     "name": "stdout",
     "output_type": "stream",
     "text": [
      "Current loss : 181.39, ... 0, / 3, Current memory usage : 3472 MB, loaded 1    \r"
     ]
    },
    {
     "name": "stderr",
     "output_type": "stream",
     "text": [
      "[INFO][2023/07/28 04:46:39 PM] Closing HDF file: /mnt/c/Users/gille/Desktop/graph-displacement/data/cell_data/cell_data/tracks_18.h5\n"
     ]
    },
    {
     "name": "stdout",
     "output_type": "stream",
     "text": [
      "Found 296 cells\n",
      "Found 224 cells without gaps\n",
      "Found  2235  valid values\n",
      "Filling rate :  0.19955357142857144\n"
     ]
    },
    {
     "name": "stderr",
     "output_type": "stream",
     "text": [
      "[INFO][2023/07/28 04:46:40 PM] Opening HDF file: /mnt/c/Users/gille/Desktop/graph-displacement/data/cell_data/cell_data/tracks_25.h5...\n",
      "[INFO][2023/07/28 04:46:40 PM] Loading tracks/obj_type_1\n",
      "[INFO][2023/07/28 04:46:40 PM] Loading objects/obj_type_1 (3005, 5) (3005 filtered: None)\n",
      "[INFO][2023/07/28 04:46:40 PM] Closing HDF file: /mnt/c/Users/gille/Desktop/graph-displacement/data/cell_data/cell_data/tracks_25.h5\n"
     ]
    },
    {
     "name": "stdout",
     "output_type": "stream",
     "text": [
      "Found 109 cells8378.30, ... 1, / 3, Current memory usage : 3474 MB, loaded 2    \n",
      "Found 81 cells without gaps\n",
      "Found  1966  valid values\n",
      "Filling rate :  0.4854320987654321\n",
      "Current loss : 1.87, ... 1, / 3, Current memory usage : 3474 MB, loaded 3      \r"
     ]
    },
    {
     "name": "stderr",
     "output_type": "stream",
     "text": [
      "[INFO][2023/07/28 04:46:57 PM] Opening HDF file: /mnt/c/Users/gille/Desktop/graph-displacement/data/cell_data/cell_data/tracks_72.h5...\n"
     ]
    },
    {
     "name": "stdout",
     "output_type": "stream",
     "text": [
      "Current loss : 1.91, ... 2, / 3, Current memory usage : 3474 MB, loaded 3    \r"
     ]
    },
    {
     "name": "stderr",
     "output_type": "stream",
     "text": [
      "[INFO][2023/07/28 04:46:57 PM] Loading tracks/obj_type_1\n",
      "[INFO][2023/07/28 04:46:57 PM] Loading objects/obj_type_1 (2527, 5) (2527 filtered: None)\n",
      "[INFO][2023/07/28 04:46:57 PM] Closing HDF file: /mnt/c/Users/gille/Desktop/graph-displacement/data/cell_data/cell_data/tracks_72.h5\n"
     ]
    },
    {
     "name": "stdout",
     "output_type": "stream",
     "text": [
      "Found 81 cells\n",
      "Found 68 cells without gaps\n",
      "Found  2007  valid values\n",
      "Filling rate :  0.5902941176470589\n",
      "Epoch :  0 Test loss recursive :  7.957873344421387\n",
      "Current loss : 2.10, ... 0, / 3, Current memory usage : 3475 MB, loaded 3     \r"
     ]
    },
    {
     "name": "stdout",
     "output_type": "stream",
     "text": [
      "Current loss : 3.34, ... 2, / 3, Current memory usage : 3475 MB, loaded 3    \r"
     ]
    }
   ],
   "source": [
    "from train_and_stats_real import run\n",
    "\n",
    "number_of_messages = 2\n",
    "size_of_messages = 128\n",
    "epochs = 19\n",
    "distrib = \"normal\"\n",
    "horizon = 6\n",
    "leave_out = [0,1,2,3]\n",
    "\n",
    "for leave in leave_out:\n",
    "    run(number_of_messages, size_of_messages, epochs, distrib, horizon, leave, many_many=False)"
   ]
  }
 ],
 "metadata": {
  "kernelspec": {
   "display_name": "wsl_geom",
   "language": "python",
   "name": "python3"
  },
  "language_info": {
   "codemirror_mode": {
    "name": "ipython",
    "version": 3
   },
   "file_extension": ".py",
   "mimetype": "text/x-python",
   "name": "python",
   "nbconvert_exporter": "python",
   "pygments_lexer": "ipython3",
   "version": "3.10.10"
  },
  "orig_nbformat": 4
 },
 "nbformat": 4,
 "nbformat_minor": 2
}
