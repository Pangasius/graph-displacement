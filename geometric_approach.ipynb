{
 "cells": [
  {
   "attachments": {},
   "cell_type": "markdown",
   "metadata": {},
   "source": [
    "In this notebook, I will use torch_geometric to predict the developpement of a graph of positions through time"
   ]
  },
  {
   "cell_type": "code",
   "execution_count": 66,
   "metadata": {},
   "outputs": [],
   "source": [
    "import torch_geometric\n",
    "import torch\n",
    "\n",
    "import numpy as np\n",
    "\n",
    "from torch_geometric.utils import to_networkx, from_networkx\n",
    "from torch_geometric.nn import radius_graph\n",
    "from torch_geometric.data import Data\n",
    "\n",
    "import networkx as nx\n",
    "\n",
    "import glob\n",
    "\n",
    "import pickle\n",
    "import lzma\n",
    "\n",
    "import time\n",
    "\n",
    "import sys\n",
    "\n",
    "sys.path.append('/home/nstillman/1_sbi_activematter/cpp_model')\n",
    "import allium"
   ]
  },
  {
   "attachments": {},
   "cell_type": "markdown",
   "metadata": {},
   "source": [
    "The data is a graph of cells having their own positions and velocity.\n",
    "\n",
    "In the graph, we will first start by connecting all the edges, then maybe later make radius_graphs to reduce the cost of the pass through the model"
   ]
  },
  {
   "cell_type": "code",
   "execution_count": 67,
   "metadata": {},
   "outputs": [],
   "source": [
    "import os.path as osp\n",
    "\n",
    "from torch_geometric.data import Dataset\n",
    "\n",
    "#find /scratch/users/nstillman/data-cpp/train/ -name \"*fast4p.p\" -type f  | head | xargs du\n",
    "\"\"\"\n",
    "27804   ./p000_r004_sb015_2148010_b039_fast4p.p                                                                         \n",
    "33133   ./p013_r000_sb009_2147623_b071_fast4p.p                                                                         \n",
    "9628    ./p056_r000_sb040_2147623_b132_fast4p.p                                                                         \n",
    "23679   ./p029_r003_sb006_2148010_b038_fast4p.p                                                                         \n",
    "16676   ./p030_r000_sb038_2147623_b119_fast4p.p                                                                         \n",
    "39793   ./p019_r001_sb013_2147250_b028_fast4p.p                                                                         \n",
    "21402   ./p023_r000_sb018_2147623_b131_fast4p.p                                                                         \n",
    "22863   ./p001_r002_sb001_2148010_b026_fast4p.p                                                                         \n",
    "38547   ./p040_r000_sb000_2147623_b082_fast4p.p                                                                         \n",
    "23422   ./p058_r000_sb020_2147623_b134_fast4p.p\n",
    "\"\"\"\n",
    "\n",
    "class CellGraphDataset(Dataset):\n",
    "    def __init__(self, root, transform=None, pre_transform=None, pre_filter=None):\n",
    "        super().__init__(root, transform, pre_transform, pre_filter)\n",
    "        \n",
    "    def _download(self):\n",
    "        pass\n",
    "\n",
    "    def _process(self):\n",
    "        pass\n",
    "\n",
    "    @property\n",
    "    def each_path(self):\n",
    "        relative = [s.replace('\\\\', '/') for s in glob.glob(str(self.root) + '/*fast4p.p*')]\n",
    "        absolute = [osp.abspath(s) for s in relative]\n",
    "        return absolute\n",
    "        \n",
    "    def process_file(self, path):\n",
    "        print(path)\n",
    "        if path.endswith(\".p\") :\n",
    "            with open(path, 'rb') as f:\n",
    "                x = pickle.load(f)\n",
    "                \n",
    "        if path.endswith(\".pz\") :\n",
    "            with lzma.open(path, 'rb') as f:\n",
    "                x = pickle.load(f)\n",
    "                \n",
    "        else :\n",
    "            raise ValueError(\"File type not supported for path: \" + path)\n",
    "            \n",
    "        # Parameters of interest: \n",
    "        #Attraction force: \n",
    "        epsilon = x.param.pairatt[0][0]\n",
    "        # Persistence timescale \n",
    "        tau = x.param.tau[0]\n",
    "        # Active force\n",
    "        v0 = x.param.factive[0]\n",
    "\n",
    "        #cutoff distance defines the interaction radius. You can assume below:\n",
    "        cutoff = 2*(x.param.cutoffZ + 2*x.param.pairatt[0][0])\n",
    "        #Get position data\n",
    "        rval = x.rval\n",
    "        #Get time and number of cells from shape of position data\n",
    "        T = rval.shape[0]\n",
    "        N = rval.shape[1]\n",
    "\n",
    "\n",
    "        #ideally we would like to only have those connections but radius_graph doesn't work on GPU for some reason\n",
    "        #edges = radius_graph(pos, r=cutoff, batch=None, loop=False, max_num_neighbors=100)\n",
    "        \n",
    "        #though for now we will make a completely connected graph\n",
    "        edges = torch.tensor([[i,j] for i in range(N) for j in range(N) if i!=j]).t()\n",
    "        \n",
    "        #distance between nodes where rval[t, i, :] is the position of cell i at time t\n",
    "        edges_attr =  torch.tensor([np.linalg.norm(rval[t, i, :] - rval[t, j, :]) for t in range(T) for i in range(N) for j in range(N) if i!=j]).reshape(T, -1).t()\n",
    "\n",
    "        #construction of the graph\n",
    "        geom = [Data(x=torch.tensor(rval[t, :, :]), edge_index=edges, edge_attr=edges_attr[t, :]) for t in range(T)]\n",
    "\n",
    "        #save the list of graphs\n",
    "        return geom\n",
    "    \n",
    "    def len(self):\n",
    "        return len(self.each_path)\n",
    "\n",
    "    def get(self, idx):\n",
    "        data = self.process_file(self.each_path[idx])"
   ]
  },
  {
   "cell_type": "code",
   "execution_count": 68,
   "metadata": {},
   "outputs": [
    {
     "name": "stdout",
     "output_type": "stream",
     "text": [
      "Training data length :  36\n",
      "Test data length :  10\n",
      "Validation data length :  9\n"
     ]
    }
   ],
   "source": [
    "#data = CellGraphDataset(root='/scratch/users/nstillman/data-cpp/train/')\n",
    "data_train = CellGraphDataset(root='../data/train/')\n",
    "print(\"Training data length : \", data_train.len())\n",
    "\n",
    "data_test = CellGraphDataset(root='../data/test/')\n",
    "print(\"Test data length : \", data_test.len())\n",
    " \n",
    "data_val = CellGraphDataset(root='../data/valid/')\n",
    "print(\"Validation data length : \", data_val.len())"
   ]
  },
  {
   "cell_type": "code",
   "execution_count": 69,
   "metadata": {},
   "outputs": [
    {
     "name": "stdout",
     "output_type": "stream",
     "text": [
      "c:\\Users\\gille\\Desktop\\data\\train\\p000_r000_sb000_2147955_b045_fast4p.p\n"
     ]
    },
    {
     "ename": "ModuleNotFoundError",
     "evalue": "No module named 'allium'",
     "output_type": "error",
     "traceback": [
      "\u001b[1;31m---------------------------------------------------------------------------\u001b[0m",
      "\u001b[1;31mModuleNotFoundError\u001b[0m                       Traceback (most recent call last)",
      "Cell \u001b[1;32mIn[69], line 1\u001b[0m\n\u001b[1;32m----> 1\u001b[0m data \u001b[39m=\u001b[39m data_train\u001b[39m.\u001b[39;49mget(\u001b[39m0\u001b[39;49m)\n",
      "Cell \u001b[1;32mIn[67], line 84\u001b[0m, in \u001b[0;36mCellGraphDataset.get\u001b[1;34m(self, idx)\u001b[0m\n\u001b[0;32m     83\u001b[0m \u001b[39mdef\u001b[39;00m \u001b[39mget\u001b[39m(\u001b[39mself\u001b[39m, idx):\n\u001b[1;32m---> 84\u001b[0m     data \u001b[39m=\u001b[39m \u001b[39mself\u001b[39;49m\u001b[39m.\u001b[39;49mprocess_file(\u001b[39mself\u001b[39;49m\u001b[39m.\u001b[39;49meach_path[idx])\n",
      "Cell \u001b[1;32mIn[67], line 39\u001b[0m, in \u001b[0;36mCellGraphDataset.process_file\u001b[1;34m(self, path)\u001b[0m\n\u001b[0;32m     37\u001b[0m \u001b[39mif\u001b[39;00m path\u001b[39m.\u001b[39mendswith(\u001b[39m\"\u001b[39m\u001b[39m.p\u001b[39m\u001b[39m\"\u001b[39m) :\n\u001b[0;32m     38\u001b[0m     \u001b[39mwith\u001b[39;00m \u001b[39mopen\u001b[39m(path, \u001b[39m'\u001b[39m\u001b[39mrb\u001b[39m\u001b[39m'\u001b[39m) \u001b[39mas\u001b[39;00m f:\n\u001b[1;32m---> 39\u001b[0m         x \u001b[39m=\u001b[39m pickle\u001b[39m.\u001b[39;49mload(f, fix_imports\u001b[39m=\u001b[39;49m\u001b[39mTrue\u001b[39;49;00m)\n\u001b[0;32m     41\u001b[0m \u001b[39mif\u001b[39;00m path\u001b[39m.\u001b[39mendswith(\u001b[39m\"\u001b[39m\u001b[39m.pz\u001b[39m\u001b[39m\"\u001b[39m) :\n\u001b[0;32m     42\u001b[0m     \u001b[39mwith\u001b[39;00m lzma\u001b[39m.\u001b[39mopen(path, \u001b[39m'\u001b[39m\u001b[39mrb\u001b[39m\u001b[39m'\u001b[39m) \u001b[39mas\u001b[39;00m f:\n",
      "\u001b[1;31mModuleNotFoundError\u001b[0m: No module named 'allium'"
     ]
    }
   ],
   "source": [
    "data = data_train.get(0)\n"
   ]
  }
 ],
 "metadata": {
  "kernelspec": {
   "display_name": "geom",
   "language": "python",
   "name": "python3"
  },
  "language_info": {
   "codemirror_mode": {
    "name": "ipython",
    "version": 3
   },
   "file_extension": ".py",
   "mimetype": "text/x-python",
   "name": "python",
   "nbconvert_exporter": "python",
   "pygments_lexer": "ipython3",
   "version": "3.10.8 | packaged by conda-forge | (main, Nov 22 2022, 08:16:33) [MSC v.1929 64 bit (AMD64)]"
  },
  "orig_nbformat": 4,
  "vscode": {
   "interpreter": {
    "hash": "c671acb9d3cf87d64ea7277f1f1b7981cda534cb27553b34f82b93fda7c98f17"
   }
  }
 },
 "nbformat": 4,
 "nbformat_minor": 2
}
