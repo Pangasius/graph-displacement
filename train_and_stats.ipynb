{
 "cells": [
  {
   "cell_type": "code",
   "execution_count": 1,
   "metadata": {},
   "outputs": [
    {
     "name": "stdout",
     "output_type": "stream",
     "text": [
      "Cannot import zuko. Continuing without prior\n",
      "No module named 'pycapmd'\n",
      "Cannot import simulator\n",
      "_open_lt_lv_2_256_laplace_8_h7\n",
      "models/new_model/out_8_eps_-4/laplace/lt_lv/h7/model_open_lt_lv_2_256_laplace_8_h7\n",
      "\n",
      "Data loaded\n",
      "\n",
      "Epoch :  0 Test loss recursive :  -1.5454498219490052usage : 6643 MB, loaded 900    \n",
      "Current loss : -1.52, ... 18, / 900, Current memory usage : 6654 MB, loaded 900    \r"
     ]
    },
    {
     "name": "stdout",
     "output_type": "stream",
     "text": [
      "Current loss : -1.54, ... 26, / 900, Current memory usage : 6654 MB, loaded 900    \r"
     ]
    }
   ],
   "source": [
    "from train_and_stats import run\n",
    "\n",
    "\n",
    "load_all =  True #load directly from a pickle and bypasses the preprocessing\n",
    "pre_separated = False #if three subfolders already exist for train test and val\n",
    "override = False #make this true to always use the same ones\n",
    "\n",
    "extensions = [\"_open_lt_lv\"]#, \"_open_lt_hv\", \"_open_lt_lv\", \"_open_ht_lv\"]\n",
    "number_of_messages = [2]#[1,2,3,4]\n",
    "size_of_messages = [256]#[64, 128]\n",
    "epochs = 51\n",
    "distribs = [\"laplace\"]#[\"laplace\", \"normal\"]\n",
    "outs = [8]#[4,8]\n",
    "horizon = 7\n",
    "\n",
    "for extension in extensions:\n",
    "    for number_of_message in number_of_messages:\n",
    "        for size_of_message in size_of_messages:\n",
    "            for distrib in distribs:\n",
    "                for out in outs:\n",
    "                    run(load_all, pre_separated, override, extension, number_of_message, size_of_message, epochs, distrib, out, horizon, validation=False, many_many=False)"
   ]
  }
 ],
 "metadata": {
  "kernelspec": {
   "display_name": "wsl_geom",
   "language": "python",
   "name": "python3"
  },
  "language_info": {
   "codemirror_mode": {
    "name": "ipython",
    "version": 3
   },
   "file_extension": ".py",
   "mimetype": "text/x-python",
   "name": "python",
   "nbconvert_exporter": "python",
   "pygments_lexer": "ipython3",
   "version": "3.10.10"
  },
  "orig_nbformat": 4
 },
 "nbformat": 4,
 "nbformat_minor": 2
}
