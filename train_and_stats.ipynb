{
 "cells": [
  {
   "cell_type": "code",
   "execution_count": 1,
   "metadata": {},
   "outputs": [
    {
     "name": "stdout",
     "output_type": "stream",
     "text": [
      "Using :  550\n",
      "Available :  43959\n",
      "True\n",
      "Cannot import zuko. Continuing without prior\n",
      "No module named 'pycapmd'\n",
      "Cannot import simulator\n",
      "_open_ht_hv_2_64_relative_laplace_mean\n",
      "models/out_8_eps_-2/laplace/ht_hv/model_open_ht_hv_2_64_relative_laplace_mean\n",
      "Validation data not found\n",
      "\n",
      "Data loaded\n",
      "\n",
      "Loaded model\n",
      "Explaining...\n",
      "Done\n",
      "_open_ht_hv_2_64_relative_normal_mean\n",
      "models/out_8_eps_-2/normal/ht_hv/model_open_ht_hv_2_64_relative_normal_mean\n"
     ]
    },
    {
     "ename": "",
     "evalue": "",
     "output_type": "error",
     "traceback": [
      "\u001b[1;31mCanceled future for execute_request message before replies were done"
     ]
    },
    {
     "ename": "",
     "evalue": "",
     "output_type": "error",
     "traceback": [
      "\u001b[1;31mThe Kernel crashed while executing code in the the current cell or a previous cell. Please review the code in the cell(s) to identify a possible cause of the failure. Click <a href='https://aka.ms/vscodeJupyterKernelCrash'>here</a> for more info. View Jupyter <a href='command:jupyter.viewOutput'>log</a> for further details."
     ]
    }
   ],
   "source": [
    "from train_and_stats import run\n",
    "\n",
    "\n",
    "load_all =  True #load directly from a pickle\n",
    "pre_separated = False #if three subfolders already exist for train test and val\n",
    "override = False #make this true to always use the same ones\n",
    "\n",
    "extensions = [\"_open_ht_hv\", \"_open_lt_hv\", \"_open_lt_lv\", \"_open_ht_lv\"]\n",
    "number_of_messages = 2\n",
    "size_of_messages = 64\n",
    "absolute = 0\n",
    "epochs = 0\n",
    "distribs = [\"laplace\", \"normal\"]\n",
    "aggr = \"mean\"\n",
    "\n",
    "for extension in extensions:\n",
    "    for distrib in distribs:\n",
    "        run(load_all, pre_separated, override, extension, number_of_messages, size_of_messages, absolute, epochs, distrib, aggr)"
   ]
  }
 ],
 "metadata": {
  "kernelspec": {
   "display_name": "wsl_geom",
   "language": "python",
   "name": "python3"
  },
  "language_info": {
   "codemirror_mode": {
    "name": "ipython",
    "version": 3
   },
   "file_extension": ".py",
   "mimetype": "text/x-python",
   "name": "python",
   "nbconvert_exporter": "python",
   "pygments_lexer": "ipython3",
   "version": "3.10.10"
  },
  "orig_nbformat": 4
 },
 "nbformat": 4,
 "nbformat_minor": 2
}
