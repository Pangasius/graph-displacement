{
 "cells": [
  {
   "cell_type": "code",
   "execution_count": 1,
   "metadata": {},
   "outputs": [
    {
     "name": "stdout",
     "output_type": "stream",
     "text": [
      "Using :  552\n",
      "Available :  43949\n",
      "True\n",
      "Cannot import zuko. Continuing without prior\n",
      "No module named 'pycapmd'\n",
      "Cannot import simulator\n",
      "_open_ht_lv_4_512_laplace_8_h1\n",
      "models/new_model/out_8_eps_-4/laplace/ht_lv/h1/model_open_ht_lv_4_512_laplace_8_h1\n",
      "\n",
      "Data loaded\n",
      "\n",
      "Epoch :  0 Test loss recursive :  -1.4943816828727723usage : 6636 MB, loaded 900    \n",
      "Epoch :  1 Test loss recursive :  -1.717532935142517 usage : 6654 MB, loaded 900    \n",
      "Epoch :  2 Test loss recursive :  -1.8933689045906066usage : 6657 MB, loaded 900    \n",
      "Epoch :  3 Test loss recursive :  -1.8964411568641664usage : 6658 MB, loaded 900    \n",
      "Epoch :  4 Test loss recursive :  -2.1468064975738526usage : 6659 MB, loaded 900    \n",
      "Epoch :  5 Test loss recursive :  -2.193675603866577 usage : 6661 MB, loaded 900    \n",
      "Epoch :  6 Test loss recursive :  -2.2018200540542603usage : 6662 MB, loaded 900    \n",
      "Epoch :  7 Test loss recursive :  -2.2067702770233155usage : 6663 MB, loaded 900    \n",
      "Epoch :  8 Test loss recursive :  -2.1859759378433226usage : 6664 MB, loaded 900    \n",
      "Epoch :  9 Test loss recursive :  -2.205649724006653 usage : 6666 MB, loaded 900    \n",
      "Epoch :  10 Test loss recursive :  -2.21838529586792 usage : 6667 MB, loaded 900    \n",
      "Epoch :  11 Test loss recursive :  -2.2048367643356324sage : 6669 MB, loaded 900    \n",
      "Epoch :  12 Test loss recursive :  -2.2059383535385133sage : 6670 MB, loaded 900    \n",
      "Epoch :  13 Test loss recursive :  -2.185233588218689usage : 6673 MB, loaded 900    \n",
      "Epoch :  14 Test loss recursive :  -2.2280616331100465sage : 6676 MB, loaded 900    \n",
      "Epoch :  15 Test loss recursive :  -2.209535822868347usage : 6681 MB, loaded 900    \n",
      "Epoch :  16 Test loss recursive :  -2.2078968286514282sage : 6686 MB, loaded 900    \n",
      "Epoch :  17 Test loss recursive :  -2.2201403474807737sage : 6691 MB, loaded 900    \n",
      "Epoch :  18 Test loss recursive :  -2.2159638833999633sage : 6696 MB, loaded 900    \n",
      "Epoch :  19 Test loss recursive :  -2.2046325635910033sage : 6701 MB, loaded 900    \n",
      "Epoch :  20 Test loss recursive :  -2.2104653310775757sage : 6706 MB, loaded 900    \n",
      "Epoch :  21 Test loss recursive :  -2.2208865594863894sage : 6710 MB, loaded 900    \n",
      "Epoch :  22 Test loss recursive :  -2.228409504890442usage : 6716 MB, loaded 900    \n",
      "Epoch :  23 Test loss recursive :  -2.2193562602996826sage : 6720 MB, loaded 900    \n",
      "Current loss : -2.32, ... 363, / 900, Current memory usage : 6726 MB, loaded 900    \r"
     ]
    },
    {
     "name": "stdout",
     "output_type": "stream",
     "text": [
      "Current loss : -2.24, ... 368, / 900, Current memory usage : 6726 MB, loaded 900    \r"
     ]
    }
   ],
   "source": [
    "from train_and_stats import run\n",
    "\n",
    "\n",
    "load_all =  True #load directly from a pickle and bypasses the preprocessing\n",
    "pre_separated = False #if three subfolders already exist for train test and val\n",
    "override = False #make this true to always use the same ones\n",
    "\n",
    "extensions = [\"_open_ht_lv\"]#[\"_open_ht_hv\", \"_open_lt_hv\", \"_open_lt_lv\", \"_open_ht_lv\"]\n",
    "number_of_messages = [4]#[1,2,3,4]\n",
    "size_of_messages = [512]#[64, 128]\n",
    "epochs = 51\n",
    "distribs = [\"laplace\"]#[\"laplace\", \"normal\"]\n",
    "outs = [8]#[4,8]\n",
    "horizon = 1\n",
    "\n",
    "for extension in extensions:\n",
    "    for number_of_message in number_of_messages:\n",
    "        for size_of_message in size_of_messages:\n",
    "            for distrib in distribs:\n",
    "                for out in outs:\n",
    "                    run(load_all, pre_separated, override, extension, number_of_message, size_of_message, epochs, distrib, out, horizon)"
   ]
  }
 ],
 "metadata": {
  "kernelspec": {
   "display_name": "wsl_geom",
   "language": "python",
   "name": "python3"
  },
  "language_info": {
   "codemirror_mode": {
    "name": "ipython",
    "version": 3
   },
   "file_extension": ".py",
   "mimetype": "text/x-python",
   "name": "python",
   "nbconvert_exporter": "python",
   "pygments_lexer": "ipython3",
   "version": "3.10.10"
  },
  "orig_nbformat": 4
 },
 "nbformat": 4,
 "nbformat_minor": 2
}
