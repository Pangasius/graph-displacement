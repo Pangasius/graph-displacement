{
 "cells": [
  {
   "cell_type": "code",
   "execution_count": 1,
   "metadata": {},
   "outputs": [
    {
     "name": "stdout",
     "output_type": "stream",
     "text": [
      "Using :  492\n",
      "Available :  43791\n",
      "True\n",
      "Cannot import zuko. Continuing without prior\n",
      "No module named 'pycapmd'\n",
      "Cannot import simulator\n",
      "_open_ht_hv_2_128_relative_laplace_mean\n"
     ]
    },
    {
     "ename": "KeyboardInterrupt",
     "evalue": "",
     "output_type": "error",
     "traceback": [
      "\u001b[0;31m---------------------------------------------------------------------------\u001b[0m",
      "\u001b[0;31mKeyboardInterrupt\u001b[0m                         Traceback (most recent call last)",
      "Cell \u001b[0;32mIn[1], line 16\u001b[0m\n\u001b[1;32m     13\u001b[0m distrib \u001b[39m=\u001b[39m \u001b[39m\"\u001b[39m\u001b[39mlaplace\u001b[39m\u001b[39m\"\u001b[39m\n\u001b[1;32m     14\u001b[0m aggr \u001b[39m=\u001b[39m \u001b[39m\"\u001b[39m\u001b[39mmean\u001b[39m\u001b[39m\"\u001b[39m\n\u001b[0;32m---> 16\u001b[0m run(load_all, pre_separated, override, extension, number_of_messages, size_of_messages, absolute, epochs, distrib, aggr)\n",
      "File \u001b[0;32m/mnt/c/users/gille/Desktop/graph-displacement/train_and_stats.py:75\u001b[0m, in \u001b[0;36mrun\u001b[0;34m(load_all, pre_separated, override, extension, number_of_messages, size_of_messages, absolute, epochs, distrib, aggr)\u001b[0m\n\u001b[1;32m     71\u001b[0m \u001b[39mprint\u001b[39m(name_complete)\n\u001b[1;32m     73\u001b[0m model_path \u001b[39m=\u001b[39m \u001b[39m\"\u001b[39m\u001b[39mmodels/model\u001b[39m\u001b[39m\"\u001b[39m \u001b[39m+\u001b[39m name_complete\n\u001b[0;32m---> 75\u001b[0m data_train, data_test, data_val \u001b[39m=\u001b[39m load(load_all, extension, pre_separated, override)\n\u001b[1;32m     77\u001b[0m \u001b[39mprint\u001b[39m(\u001b[39m\"\u001b[39m\u001b[39m\\n\u001b[39;00m\u001b[39mData loaded\u001b[39m\u001b[39m\\n\u001b[39;00m\u001b[39m\"\u001b[39m)\n\u001b[1;32m     79\u001b[0m \u001b[39mdef\u001b[39;00m \u001b[39mstart\u001b[39m(model : Gatv2Predictor, optimizer : torch\u001b[39m.\u001b[39moptim\u001b[39m.\u001b[39mOptimizer, scheduler  : torch\u001b[39m.\u001b[39moptim\u001b[39m.\u001b[39mlr_scheduler\u001b[39m.\u001b[39m_LRScheduler,\\\n\u001b[1;32m     80\u001b[0m         data_train : CellGraphDataset, data_test : CellGraphDataset, device : torch\u001b[39m.\u001b[39mdevice, epoch : \u001b[39mint\u001b[39m, offset : \u001b[39mint\u001b[39m, grapher : GraphingLoss, save\u001b[39m=\u001b[39m\u001b[39m0\u001b[39m, save_datasets\u001b[39m=\u001b[39m\u001b[39mTrue\u001b[39;00m):\n",
      "File \u001b[0;32m/mnt/c/users/gille/Desktop/graph-displacement/cell_dataset.py:312\u001b[0m, in \u001b[0;36mload\u001b[0;34m(load_all, suffix, pre_separated, override)\u001b[0m\n\u001b[1;32m    310\u001b[0m \u001b[39mif\u001b[39;00m os\u001b[39m.\u001b[39mpath\u001b[39m.\u001b[39mexists(\u001b[39m\"\u001b[39m\u001b[39mdata/training\u001b[39m\u001b[39m\"\u001b[39m \u001b[39m+\u001b[39m suffix \u001b[39m+\u001b[39m \u001b[39m\"\u001b[39m\u001b[39m.pkl\u001b[39m\u001b[39m\"\u001b[39m) :\n\u001b[1;32m    311\u001b[0m     \u001b[39mwith\u001b[39;00m \u001b[39mopen\u001b[39m(\u001b[39m\"\u001b[39m\u001b[39mdata/training\u001b[39m\u001b[39m\"\u001b[39m \u001b[39m+\u001b[39m suffix \u001b[39m+\u001b[39m \u001b[39m\"\u001b[39m\u001b[39m.pkl\u001b[39m\u001b[39m\"\u001b[39m, \u001b[39m\"\u001b[39m\u001b[39mrb\u001b[39m\u001b[39m\"\u001b[39m) \u001b[39mas\u001b[39;00m f:\n\u001b[0;32m--> 312\u001b[0m         data_train \u001b[39m=\u001b[39m pickle\u001b[39m.\u001b[39;49mload(f)\n\u001b[1;32m    313\u001b[0m \u001b[39melse\u001b[39;00m :\n\u001b[1;32m    314\u001b[0m     \u001b[39mprint\u001b[39m(\u001b[39m\"\u001b[39m\u001b[39mTraining data not found\u001b[39m\u001b[39m\"\u001b[39m)\n",
      "File \u001b[0;32m~/miniconda3/envs/wsl_geom/lib/python3.10/site-packages/torch/storage.py:240\u001b[0m, in \u001b[0;36m_load_from_bytes\u001b[0;34m(b)\u001b[0m\n\u001b[1;32m    236\u001b[0m     \u001b[39m@property\u001b[39m\n\u001b[1;32m    237\u001b[0m     \u001b[39mdef\u001b[39;00m \u001b[39mis_cuda\u001b[39m(\u001b[39mself\u001b[39m):\n\u001b[1;32m    238\u001b[0m         \u001b[39mreturn\u001b[39;00m \u001b[39mself\u001b[39m\u001b[39m.\u001b[39mdevice\u001b[39m.\u001b[39mtype \u001b[39m==\u001b[39m \u001b[39m'\u001b[39m\u001b[39mcuda\u001b[39m\u001b[39m'\u001b[39m\n\u001b[0;32m--> 240\u001b[0m \u001b[39mdef\u001b[39;00m \u001b[39m_load_from_bytes\u001b[39m(b):\n\u001b[1;32m    241\u001b[0m     \u001b[39mreturn\u001b[39;00m torch\u001b[39m.\u001b[39mload(io\u001b[39m.\u001b[39mBytesIO(b))\n\u001b[1;32m    244\u001b[0m _StorageBase\u001b[39m.\u001b[39mtype \u001b[39m=\u001b[39m _type  \u001b[39m# type: ignore[assignment]\u001b[39;00m\n",
      "\u001b[0;31mKeyboardInterrupt\u001b[0m: "
     ]
    }
   ],
   "source": [
    "from train_and_stats import run\n",
    "\n",
    "\n",
    "load_all =  True #load directly from a pickle\n",
    "pre_separated = False #if three subfolders already exist for train test and val\n",
    "override = False #make this true to always use the same ones\n",
    "\n",
    "extension = \"_open_ht_hv\"\n",
    "number_of_messages = 2\n",
    "size_of_messages = 128\n",
    "absolute = 0\n",
    "epochs = 21\n",
    "distrib = \"laplace\"\n",
    "aggr = \"mean\"\n",
    "\n",
    "run(load_all, pre_separated, override, extension, number_of_messages, size_of_messages, absolute, epochs, distrib, aggr)"
   ]
  }
 ],
 "metadata": {
  "kernelspec": {
   "display_name": "wsl_geom",
   "language": "python",
   "name": "python3"
  },
  "language_info": {
   "codemirror_mode": {
    "name": "ipython",
    "version": 3
   },
   "file_extension": ".py",
   "mimetype": "text/x-python",
   "name": "python",
   "nbconvert_exporter": "python",
   "pygments_lexer": "ipython3",
   "version": "3.10.10"
  },
  "orig_nbformat": 4
 },
 "nbformat": 4,
 "nbformat_minor": 2
}
