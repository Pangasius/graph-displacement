{
 "cells": [
  {
   "cell_type": "code",
   "execution_count": null,
   "metadata": {},
   "outputs": [],
   "source": [
    "import sys\n",
    "\n",
    "sys.path.append('/home/nstillman/1_sbi_activematter/cpp_model')\n",
    "try :\n",
    "    import allium\n",
    "    import remake_ss\n",
    "    from allium.summstats\n",
    "except :\n",
    "    print(\"Could not import allium\")\n",
    "    import local_allium.summstats\n",
    "    import local_allium.remake_ss\n",
    "\n",
    "from cell_dataset import load"
   ]
  },
  {
   "cell_type": "code",
   "execution_count": null,
   "metadata": {},
   "outputs": [],
   "source": [
    "load_all =  True #load directly from a pickle\n",
    "pre_separated = False #if three subfolders already exist for train test and val\n",
    "\n",
    "override = False #make this true to always use the same ones\n",
    "\n",
    "extension = \"_open_ht_hv\"\n",
    "\n",
    "data_train, data_test, data_val = load(load_all, extension, pre_separated, override)"
   ]
  },
  {
   "cell_type": "code",
   "execution_count": null,
   "metadata": {},
   "outputs": [],
   "source": [
    "#given a file, construct_ssdata will construct and plot the summary statistics\n",
    "\n",
    "test_file = data_test.paths.fget()[0]\n",
    "\n",
    "construct_ssdata(test_file, plot = True)"
   ]
  }
 ],
 "metadata": {
  "kernelspec": {
   "display_name": "wsl_geom",
   "language": "python",
   "name": "python3"
  },
  "language_info": {
   "codemirror_mode": {
    "name": "ipython",
    "version": 3
   },
   "file_extension": ".py",
   "mimetype": "text/x-python",
   "name": "python",
   "nbconvert_exporter": "python",
   "pygments_lexer": "ipython3",
   "version": "3.10.10"
  },
  "orig_nbformat": 4
 },
 "nbformat": 4,
 "nbformat_minor": 2
}
