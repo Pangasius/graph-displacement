{
 "cells": [
  {
   "cell_type": "code",
   "execution_count": 1,
   "metadata": {},
   "outputs": [
    {
     "name": "stderr",
     "output_type": "stream",
     "text": [
      "c:\\Users\\gille\\miniconda3\\envs\\geom\\lib\\site-packages\\tqdm\\auto.py:22: TqdmWarning: IProgress not found. Please update jupyter and ipywidgets. See https://ipywidgets.readthedocs.io/en/stable/user_install.html\n",
      "  from .autonotebook import tqdm as notebook_tqdm\n"
     ]
    },
    {
     "name": "stdout",
     "output_type": "stream",
     "text": [
      "Using :  290\n",
      "Available :  3271\n",
      "True\n",
      "Could not import allium\n"
     ]
    }
   ],
   "source": [
    "import torch\n",
    "\n",
    "import pickle\n",
    "\n",
    "import sys\n",
    "import os\n",
    "\n",
    "from cell_dataset import load\n",
    "from cell_utils import  make_animation\n",
    "from cell_training import run_single, run_single_recursive\n",
    "from cell_model import Gatv2Predictor, ConvPredictor\n",
    "\n",
    "import matplotlib.pyplot as plt\n",
    "\n",
    "import os, psutil\n",
    "process = psutil.Process(os.getpid())\n",
    "print(\"Using : \", process.memory_info().rss // 1000000)  # in megabytes \n",
    "print(\"Available : \", process.memory_info().vms  // 1000000)  # in megabytes \n",
    "\n",
    "print(torch.cuda.is_available())\n",
    "\n",
    "from genericpath import exists\n",
    "\n",
    "#https://github.com/clovaai/AdamP\n",
    "from adamp import AdamP\n",
    "\n",
    "sys.path.append('/home/nstillman/1_sbi_activematter/cpp_model')\n",
    "try :\n",
    "    import allium\n",
    "except :\n",
    "    print(\"Could not import allium\")"
   ]
  },
  {
   "cell_type": "code",
   "execution_count": 2,
   "metadata": {},
   "outputs": [
    {
     "name": "stdout",
     "output_type": "stream",
     "text": [
      "models/open_ht_hv/model_open_ht_hv_0\n",
      "Validation data not found\n"
     ]
    }
   ],
   "source": [
    "load_all =  True#load directly from a pickle\n",
    "pre_separated = False #if three subfolders already exist for train test and val\n",
    "\n",
    "extension = \"_open_ht_hv\"\n",
    "epoch = 0\n",
    "\n",
    "model_path = \"models/\" + extension[1:] + \"/model\" + extension + \"_\" + str(epoch)\n",
    "\n",
    "print(model_path)\n",
    "\n",
    "override = False #make this true to always use the same ones\n",
    "\n",
    "data_train, data_test, data_val = load(load_all, extension, pre_separated, override)"
   ]
  },
  {
   "cell_type": "code",
   "execution_count": 3,
   "metadata": {},
   "outputs": [],
   "source": [
    "#INFO : if bg_load is True, this starts the loading, if skipped, bg_loading will take place as soon as a get is called\n",
    "rval, edge_index, edge_attr, border, params = data_test.get(0)"
   ]
  },
  {
   "cell_type": "code",
   "execution_count": 3,
   "metadata": {},
   "outputs": [
    {
     "name": "stdout",
     "output_type": "stream",
     "text": [
      "Loaded model from  models/open_ht_hv/model_open_ht_hv_0\n"
     ]
    },
    {
     "data": {
      "text/plain": [
       "GraphEvolution(\n",
       "  (encoder_resize): Linear(in_features=14, out_features=64, bias=True)\n",
       "  (transformer_encoder): TransformerEncoder(\n",
       "    (layers): ModuleList(\n",
       "      (0): TransformerEncoderLayer(\n",
       "        (self_attn): MultiheadAttention(\n",
       "          (out_proj): NonDynamicallyQuantizableLinear(in_features=64, out_features=64, bias=True)\n",
       "        )\n",
       "        (linear1): Linear(in_features=64, out_features=64, bias=True)\n",
       "        (dropout): Dropout(p=0.05, inplace=False)\n",
       "        (linear2): Linear(in_features=64, out_features=64, bias=True)\n",
       "        (norm1): LayerNorm((64,), eps=1e-05, elementwise_affine=True)\n",
       "        (norm2): LayerNorm((64,), eps=1e-05, elementwise_affine=True)\n",
       "        (dropout1): Dropout(p=0.05, inplace=False)\n",
       "        (dropout2): Dropout(p=0.05, inplace=False)\n",
       "      )\n",
       "      (1): TransformerEncoderLayer(\n",
       "        (self_attn): MultiheadAttention(\n",
       "          (out_proj): NonDynamicallyQuantizableLinear(in_features=64, out_features=64, bias=True)\n",
       "        )\n",
       "        (linear1): Linear(in_features=64, out_features=64, bias=True)\n",
       "        (dropout): Dropout(p=0.05, inplace=False)\n",
       "        (linear2): Linear(in_features=64, out_features=64, bias=True)\n",
       "        (norm1): LayerNorm((64,), eps=1e-05, elementwise_affine=True)\n",
       "        (norm2): LayerNorm((64,), eps=1e-05, elementwise_affine=True)\n",
       "        (dropout1): Dropout(p=0.05, inplace=False)\n",
       "        (dropout2): Dropout(p=0.05, inplace=False)\n",
       "      )\n",
       "      (2): TransformerEncoderLayer(\n",
       "        (self_attn): MultiheadAttention(\n",
       "          (out_proj): NonDynamicallyQuantizableLinear(in_features=64, out_features=64, bias=True)\n",
       "        )\n",
       "        (linear1): Linear(in_features=64, out_features=64, bias=True)\n",
       "        (dropout): Dropout(p=0.05, inplace=False)\n",
       "        (linear2): Linear(in_features=64, out_features=64, bias=True)\n",
       "        (norm1): LayerNorm((64,), eps=1e-05, elementwise_affine=True)\n",
       "        (norm2): LayerNorm((64,), eps=1e-05, elementwise_affine=True)\n",
       "        (dropout1): Dropout(p=0.05, inplace=False)\n",
       "        (dropout2): Dropout(p=0.05, inplace=False)\n",
       "      )\n",
       "      (3): TransformerEncoderLayer(\n",
       "        (self_attn): MultiheadAttention(\n",
       "          (out_proj): NonDynamicallyQuantizableLinear(in_features=64, out_features=64, bias=True)\n",
       "        )\n",
       "        (linear1): Linear(in_features=64, out_features=64, bias=True)\n",
       "        (dropout): Dropout(p=0.05, inplace=False)\n",
       "        (linear2): Linear(in_features=64, out_features=64, bias=True)\n",
       "        (norm1): LayerNorm((64,), eps=1e-05, elementwise_affine=True)\n",
       "        (norm2): LayerNorm((64,), eps=1e-05, elementwise_affine=True)\n",
       "        (dropout1): Dropout(p=0.05, inplace=False)\n",
       "        (dropout2): Dropout(p=0.05, inplace=False)\n",
       "      )\n",
       "    )\n",
       "  )\n",
       "  (gat_resize): Linear(in_features=64, out_features=512, bias=True)\n",
       "  (gatv2s): ModuleList(\n",
       "    (0): GATv2Conv(512, 64, heads=8)\n",
       "    (1): GATv2Conv(512, 64, heads=8)\n",
       "    (2): GATv2Conv(512, 64, heads=8)\n",
       "    (3): GATv2Conv(512, 64, heads=8)\n",
       "    (4): GATv2Conv(512, 64, heads=8)\n",
       "    (5): GATv2Conv(512, 64, heads=8)\n",
       "    (6): GATv2Conv(512, 64, heads=8)\n",
       "    (7): GATv2Conv(512, 64, heads=8)\n",
       "    (8): GATv2Conv(512, 64, heads=8)\n",
       "    (9): GATv2Conv(512, 64, heads=8)\n",
       "  )\n",
       "  (transformer_decoder): TransformerDecoder(\n",
       "    (layers): ModuleList(\n",
       "      (0): TransformerDecoderLayer(\n",
       "        (self_attn): MultiheadAttention(\n",
       "          (out_proj): NonDynamicallyQuantizableLinear(in_features=512, out_features=512, bias=True)\n",
       "        )\n",
       "        (multihead_attn): MultiheadAttention(\n",
       "          (out_proj): NonDynamicallyQuantizableLinear(in_features=512, out_features=512, bias=True)\n",
       "        )\n",
       "        (linear1): Linear(in_features=512, out_features=512, bias=True)\n",
       "        (dropout): Dropout(p=0.05, inplace=False)\n",
       "        (linear2): Linear(in_features=512, out_features=512, bias=True)\n",
       "        (norm1): LayerNorm((512,), eps=1e-05, elementwise_affine=True)\n",
       "        (norm2): LayerNorm((512,), eps=1e-05, elementwise_affine=True)\n",
       "        (norm3): LayerNorm((512,), eps=1e-05, elementwise_affine=True)\n",
       "        (dropout1): Dropout(p=0.05, inplace=False)\n",
       "        (dropout2): Dropout(p=0.05, inplace=False)\n",
       "        (dropout3): Dropout(p=0.05, inplace=False)\n",
       "      )\n",
       "      (1): TransformerDecoderLayer(\n",
       "        (self_attn): MultiheadAttention(\n",
       "          (out_proj): NonDynamicallyQuantizableLinear(in_features=512, out_features=512, bias=True)\n",
       "        )\n",
       "        (multihead_attn): MultiheadAttention(\n",
       "          (out_proj): NonDynamicallyQuantizableLinear(in_features=512, out_features=512, bias=True)\n",
       "        )\n",
       "        (linear1): Linear(in_features=512, out_features=512, bias=True)\n",
       "        (dropout): Dropout(p=0.05, inplace=False)\n",
       "        (linear2): Linear(in_features=512, out_features=512, bias=True)\n",
       "        (norm1): LayerNorm((512,), eps=1e-05, elementwise_affine=True)\n",
       "        (norm2): LayerNorm((512,), eps=1e-05, elementwise_affine=True)\n",
       "        (norm3): LayerNorm((512,), eps=1e-05, elementwise_affine=True)\n",
       "        (dropout1): Dropout(p=0.05, inplace=False)\n",
       "        (dropout2): Dropout(p=0.05, inplace=False)\n",
       "        (dropout3): Dropout(p=0.05, inplace=False)\n",
       "      )\n",
       "      (2): TransformerDecoderLayer(\n",
       "        (self_attn): MultiheadAttention(\n",
       "          (out_proj): NonDynamicallyQuantizableLinear(in_features=512, out_features=512, bias=True)\n",
       "        )\n",
       "        (multihead_attn): MultiheadAttention(\n",
       "          (out_proj): NonDynamicallyQuantizableLinear(in_features=512, out_features=512, bias=True)\n",
       "        )\n",
       "        (linear1): Linear(in_features=512, out_features=512, bias=True)\n",
       "        (dropout): Dropout(p=0.05, inplace=False)\n",
       "        (linear2): Linear(in_features=512, out_features=512, bias=True)\n",
       "        (norm1): LayerNorm((512,), eps=1e-05, elementwise_affine=True)\n",
       "        (norm2): LayerNorm((512,), eps=1e-05, elementwise_affine=True)\n",
       "        (norm3): LayerNorm((512,), eps=1e-05, elementwise_affine=True)\n",
       "        (dropout1): Dropout(p=0.05, inplace=False)\n",
       "        (dropout2): Dropout(p=0.05, inplace=False)\n",
       "        (dropout3): Dropout(p=0.05, inplace=False)\n",
       "      )\n",
       "      (3): TransformerDecoderLayer(\n",
       "        (self_attn): MultiheadAttention(\n",
       "          (out_proj): NonDynamicallyQuantizableLinear(in_features=512, out_features=512, bias=True)\n",
       "        )\n",
       "        (multihead_attn): MultiheadAttention(\n",
       "          (out_proj): NonDynamicallyQuantizableLinear(in_features=512, out_features=512, bias=True)\n",
       "        )\n",
       "        (linear1): Linear(in_features=512, out_features=512, bias=True)\n",
       "        (dropout): Dropout(p=0.05, inplace=False)\n",
       "        (linear2): Linear(in_features=512, out_features=512, bias=True)\n",
       "        (norm1): LayerNorm((512,), eps=1e-05, elementwise_affine=True)\n",
       "        (norm2): LayerNorm((512,), eps=1e-05, elementwise_affine=True)\n",
       "        (norm3): LayerNorm((512,), eps=1e-05, elementwise_affine=True)\n",
       "        (dropout1): Dropout(p=0.05, inplace=False)\n",
       "        (dropout2): Dropout(p=0.05, inplace=False)\n",
       "        (dropout3): Dropout(p=0.05, inplace=False)\n",
       "      )\n",
       "    )\n",
       "  )\n",
       "  (decoder_resize): Linear(in_features=512, out_features=4, bias=True)\n",
       ")"
      ]
     },
     "execution_count": 3,
     "metadata": {},
     "output_type": "execute_result"
    }
   ],
   "source": [
    "model = Gatv2Predictor(in_channels=16, out_channels=4, hidden_channels=64, dropout=0.05, edge_dim=2, messages=10, wrap=data_train.wrap)\n",
    "#model = GraphEvolution(in_channels=9, out_channels=4, hidden_channels=32, dropout=0.01, edge_dim=2, messages=5, wrap=True)\n",
    "if exists(model_path + \".pt\") :\n",
    "    with open(model_path + \".pt\", \"rb\") as f:\n",
    "        model.load_state_dict(torch.load(f))\n",
    "        #since we loaded the state dict, we need to recompile the model\n",
    "        print(\"Loaded model from \", model_path)\n",
    "     \n",
    "\n",
    "device = torch.device(\"cuda\" if torch.cuda.is_available() else \"cpu\")\n",
    "\n",
    "model = model.to(device)\n",
    "model.eval()"
   ]
  },
  {
   "cell_type": "code",
   "execution_count": 4,
   "metadata": {},
   "outputs": [
    {
     "data": {
      "image/png": "[encoded data removed]",
      "text/plain": [
       "<Figure size 640x480 with 1 Axes>"
      ]
     },
     "metadata": {},
     "output_type": "display_data"
    }
   ],
   "source": [
    "loss_history = {'loss_mean' : [], 'loss_log' : []}\n",
    "loss, out, x = run_single_recursive(model, data_test, 0, device, loss_history, output=True)\n",
    "\n",
    "if out == None or x == None :\n",
    "    raise Exception(\"No output\")\n",
    "\n",
    "with open(\"models/\" + extension[1:] + \"/result_recursive_\" + str(epoch) + \".pkl\", \"wb\") as f:\n",
    "    pickle.dump((out, x), f)\n",
    "\n",
    "t = 10\n",
    "fig = plt.figure()\n",
    "\n",
    "#now plot the graph as bubbles to show the difference between the two\n",
    "plt.scatter(x[t, :,0],x[t, :,1], s=100, c='b', alpha=0.5)\n",
    "plt.scatter(out[t, :,0],out[t, :,1], s=100, c='r', alpha=0.5)\n",
    "\n",
    "plt.show()\n",
    "plt.close()\n",
    "\n",
    "#show an arrow for the speed\n",
    "#plt.quiver(x[t, :, 0], x[t, :, 1], x[t, :, 2], x[t, :, 3],color='b', alpha=0.5)\n",
    "#plt.quiver(out[t, :, 0], out[t, :, 1], out[t, :, 2], out[t, :, 3],color='r', alpha=0.5)"
   ]
  },
  {
   "cell_type": "code",
   "execution_count": 6,
   "metadata": {},
   "outputs": [
    {
     "ename": "RuntimeError",
     "evalue": "CUDA out of memory. Tried to allocate 192.00 MiB (GPU 0; 10.00 GiB total capacity; 9.10 GiB already allocated; 0 bytes free; 9.26 GiB reserved in total by PyTorch) If reserved memory is >> allocated memory try setting max_split_size_mb to avoid fragmentation.  See documentation for Memory Management and PYTORCH_CUDA_ALLOC_CONF",
     "output_type": "error",
     "traceback": [
      "\u001b[1;31m---------------------------------------------------------------------------\u001b[0m",
      "\u001b[1;31mRuntimeError\u001b[0m                              Traceback (most recent call last)",
      "Cell \u001b[1;32mIn[6], line 2\u001b[0m\n\u001b[0;32m      1\u001b[0m loss_history \u001b[39m=\u001b[39m {\u001b[39m'\u001b[39m\u001b[39mloss_mean\u001b[39m\u001b[39m'\u001b[39m : [], \u001b[39m'\u001b[39m\u001b[39mloss_log\u001b[39m\u001b[39m'\u001b[39m : []}\n\u001b[1;32m----> 2\u001b[0m loss, out, x \u001b[39m=\u001b[39m run_single(model, data_test, \u001b[39m0\u001b[39;49m, device, loss_history, output\u001b[39m=\u001b[39;49m\u001b[39mTrue\u001b[39;49;00m)\n\u001b[0;32m      4\u001b[0m \u001b[39mif\u001b[39;00m out \u001b[39m==\u001b[39m \u001b[39mNone\u001b[39;00m \u001b[39mor\u001b[39;00m x \u001b[39m==\u001b[39m \u001b[39mNone\u001b[39;00m :\n\u001b[0;32m      5\u001b[0m     \u001b[39mraise\u001b[39;00m \u001b[39mException\u001b[39;00m(\u001b[39m\"\u001b[39m\u001b[39mNo output\u001b[39m\u001b[39m\"\u001b[39m)\n",
      "File \u001b[1;32mc:\\Users\\gille\\Desktop\\graph-displacement\\cell_training.py:105\u001b[0m, in \u001b[0;36mrun_single\u001b[1;34m(model, data, i, device, loss_history, duration, output)\u001b[0m\n\u001b[0;32m    100\u001b[0m mask \u001b[39m=\u001b[39m torch\u001b[39m.\u001b[39mlogical_and(torch\u001b[39m.\u001b[39mdiv(edge_index[\u001b[39m0\u001b[39m, :], xshape[\u001b[39m1\u001b[39m], rounding_mode\u001b[39m=\u001b[39m\u001b[39m'\u001b[39m\u001b[39mfloor\u001b[39m\u001b[39m'\u001b[39m) \u001b[39m>\u001b[39m start_time, \\\n\u001b[0;32m    101\u001b[0m                         torch\u001b[39m.\u001b[39mdiv(edge_index[\u001b[39m0\u001b[39m, :], xshape[\u001b[39m1\u001b[39m], rounding_mode\u001b[39m=\u001b[39m\u001b[39m'\u001b[39m\u001b[39mfloor\u001b[39m\u001b[39m'\u001b[39m) \u001b[39m<\u001b[39m start_time \u001b[39m+\u001b[39m duration \u001b[39m+\u001b[39m \u001b[39m1\u001b[39m)\n\u001b[0;32m    103\u001b[0m edge_index \u001b[39m=\u001b[39m (edge_index[:, mask] \u001b[39m-\u001b[39m xshape[\u001b[39m1\u001b[39m] \u001b[39m*\u001b[39m (start_time \u001b[39m+\u001b[39m \u001b[39m1\u001b[39m))\u001b[39m.\u001b[39mto(device)\n\u001b[1;32m--> 105\u001b[0m out \u001b[39m=\u001b[39m model(x[start_time \u001b[39m+\u001b[39;49m \u001b[39m1\u001b[39;49m:start_time \u001b[39m+\u001b[39;49m duration \u001b[39m+\u001b[39;49m \u001b[39m1\u001b[39;49m], edge_index, edge_attr[mask], params)\n\u001b[0;32m    107\u001b[0m loss, out \u001b[39m=\u001b[39m model\u001b[39m.\u001b[39mloss_direct(out, x[start_time \u001b[39m+\u001b[39m \u001b[39m2\u001b[39m:start_time \u001b[39m+\u001b[39m duration \u001b[39m+\u001b[39m \u001b[39m2\u001b[39m,:, :model\u001b[39m.\u001b[39mout_channels \u001b[39m/\u001b[39m\u001b[39m/\u001b[39m \u001b[39m2\u001b[39m], loss_history)\n\u001b[0;32m    109\u001b[0m \u001b[39mif\u001b[39;00m output :\n",
      "File \u001b[1;32mc:\\Users\\gille\\miniconda3\\envs\\geom\\lib\\site-packages\\torch\\nn\\modules\\module.py:1130\u001b[0m, in \u001b[0;36mModule._call_impl\u001b[1;34m(self, *input, **kwargs)\u001b[0m\n\u001b[0;32m   1126\u001b[0m \u001b[39m# If we don't have any hooks, we want to skip the rest of the logic in\u001b[39;00m\n\u001b[0;32m   1127\u001b[0m \u001b[39m# this function, and just call forward.\u001b[39;00m\n\u001b[0;32m   1128\u001b[0m \u001b[39mif\u001b[39;00m \u001b[39mnot\u001b[39;00m (\u001b[39mself\u001b[39m\u001b[39m.\u001b[39m_backward_hooks \u001b[39mor\u001b[39;00m \u001b[39mself\u001b[39m\u001b[39m.\u001b[39m_forward_hooks \u001b[39mor\u001b[39;00m \u001b[39mself\u001b[39m\u001b[39m.\u001b[39m_forward_pre_hooks \u001b[39mor\u001b[39;00m _global_backward_hooks\n\u001b[0;32m   1129\u001b[0m         \u001b[39mor\u001b[39;00m _global_forward_hooks \u001b[39mor\u001b[39;00m _global_forward_pre_hooks):\n\u001b[1;32m-> 1130\u001b[0m     \u001b[39mreturn\u001b[39;00m forward_call(\u001b[39m*\u001b[39m\u001b[39minput\u001b[39m, \u001b[39m*\u001b[39m\u001b[39m*\u001b[39mkwargs)\n\u001b[0;32m   1131\u001b[0m \u001b[39m# Do not call functions when jit is used\u001b[39;00m\n\u001b[0;32m   1132\u001b[0m full_backward_hooks, non_full_backward_hooks \u001b[39m=\u001b[39m [], []\n",
      "File \u001b[1;32mc:\\Users\\gille\\Desktop\\graph-displacement\\cell_model.py:67\u001b[0m, in \u001b[0;36mGraphEvolution.forward\u001b[1;34m(self, x, edge_index, edge_attr, params)\u001b[0m\n\u001b[0;32m     65\u001b[0m \u001b[39m#here T is treated as a batch dimension\u001b[39;00m\n\u001b[0;32m     66\u001b[0m \u001b[39mfor\u001b[39;00m i \u001b[39min\u001b[39;00m \u001b[39mrange\u001b[39m(\u001b[39mlen\u001b[39m(\u001b[39mself\u001b[39m\u001b[39m.\u001b[39mgatv2s)):\n\u001b[1;32m---> 67\u001b[0m     y \u001b[39m=\u001b[39m y \u001b[39m+\u001b[39m \u001b[39mself\u001b[39;49m\u001b[39m.\u001b[39;49mgatv2s[i](y, edge_index, edge_attr)\n\u001b[0;32m     68\u001b[0m     y \u001b[39m=\u001b[39m F\u001b[39m.\u001b[39mgelu(y)\n\u001b[0;32m     70\u001b[0m y \u001b[39m=\u001b[39m y\u001b[39m.\u001b[39mreshape(xshape[\u001b[39m0\u001b[39m]\u001b[39m*\u001b[39mxshape[\u001b[39m1\u001b[39m], \u001b[39m1\u001b[39m, \u001b[39mself\u001b[39m\u001b[39m.\u001b[39mgat_heads\u001b[39m*\u001b[39m \u001b[39mself\u001b[39m\u001b[39m.\u001b[39mhidden_channels)\n",
      "File \u001b[1;32mc:\\Users\\gille\\miniconda3\\envs\\geom\\lib\\site-packages\\torch\\nn\\modules\\module.py:1130\u001b[0m, in \u001b[0;36mModule._call_impl\u001b[1;34m(self, *input, **kwargs)\u001b[0m\n\u001b[0;32m   1126\u001b[0m \u001b[39m# If we don't have any hooks, we want to skip the rest of the logic in\u001b[39;00m\n\u001b[0;32m   1127\u001b[0m \u001b[39m# this function, and just call forward.\u001b[39;00m\n\u001b[0;32m   1128\u001b[0m \u001b[39mif\u001b[39;00m \u001b[39mnot\u001b[39;00m (\u001b[39mself\u001b[39m\u001b[39m.\u001b[39m_backward_hooks \u001b[39mor\u001b[39;00m \u001b[39mself\u001b[39m\u001b[39m.\u001b[39m_forward_hooks \u001b[39mor\u001b[39;00m \u001b[39mself\u001b[39m\u001b[39m.\u001b[39m_forward_pre_hooks \u001b[39mor\u001b[39;00m _global_backward_hooks\n\u001b[0;32m   1129\u001b[0m         \u001b[39mor\u001b[39;00m _global_forward_hooks \u001b[39mor\u001b[39;00m _global_forward_pre_hooks):\n\u001b[1;32m-> 1130\u001b[0m     \u001b[39mreturn\u001b[39;00m forward_call(\u001b[39m*\u001b[39m\u001b[39minput\u001b[39m, \u001b[39m*\u001b[39m\u001b[39m*\u001b[39mkwargs)\n\u001b[0;32m   1131\u001b[0m \u001b[39m# Do not call functions when jit is used\u001b[39;00m\n\u001b[0;32m   1132\u001b[0m full_backward_hooks, non_full_backward_hooks \u001b[39m=\u001b[39m [], []\n",
      "File \u001b[1;32mc:\\Users\\gille\\miniconda3\\envs\\geom\\lib\\site-packages\\torch_geometric\\nn\\conv\\gatv2_conv.py:236\u001b[0m, in \u001b[0;36mGATv2Conv.forward\u001b[1;34m(self, x, edge_index, edge_attr, return_attention_weights)\u001b[0m\n\u001b[0;32m    230\u001b[0m             \u001b[39mraise\u001b[39;00m \u001b[39mNotImplementedError\u001b[39;00m(\n\u001b[0;32m    231\u001b[0m                 \u001b[39m\"\u001b[39m\u001b[39mThe usage of \u001b[39m\u001b[39m'\u001b[39m\u001b[39medge_attr\u001b[39m\u001b[39m'\u001b[39m\u001b[39m and \u001b[39m\u001b[39m'\u001b[39m\u001b[39madd_self_loops\u001b[39m\u001b[39m'\u001b[39m\u001b[39m \u001b[39m\u001b[39m\"\u001b[39m\n\u001b[0;32m    232\u001b[0m                 \u001b[39m\"\u001b[39m\u001b[39msimultaneously is currently not yet supported for \u001b[39m\u001b[39m\"\u001b[39m\n\u001b[0;32m    233\u001b[0m                 \u001b[39m\"\u001b[39m\u001b[39m'\u001b[39m\u001b[39medge_index\u001b[39m\u001b[39m'\u001b[39m\u001b[39m in a \u001b[39m\u001b[39m'\u001b[39m\u001b[39mSparseTensor\u001b[39m\u001b[39m'\u001b[39m\u001b[39m form\u001b[39m\u001b[39m\"\u001b[39m)\n\u001b[0;32m    235\u001b[0m \u001b[39m# propagate_type: (x: PairTensor, edge_attr: OptTensor)\u001b[39;00m\n\u001b[1;32m--> 236\u001b[0m out \u001b[39m=\u001b[39m \u001b[39mself\u001b[39;49m\u001b[39m.\u001b[39;49mpropagate(edge_index, x\u001b[39m=\u001b[39;49m(x_l, x_r), edge_attr\u001b[39m=\u001b[39;49medge_attr,\n\u001b[0;32m    237\u001b[0m                      size\u001b[39m=\u001b[39;49m\u001b[39mNone\u001b[39;49;00m)\n\u001b[0;32m    239\u001b[0m alpha \u001b[39m=\u001b[39m \u001b[39mself\u001b[39m\u001b[39m.\u001b[39m_alpha\n\u001b[0;32m    240\u001b[0m \u001b[39mself\u001b[39m\u001b[39m.\u001b[39m_alpha \u001b[39m=\u001b[39m \u001b[39mNone\u001b[39;00m\n",
      "File \u001b[1;32mc:\\Users\\gille\\miniconda3\\envs\\geom\\lib\\site-packages\\torch_geometric\\nn\\conv\\message_passing.py:374\u001b[0m, in \u001b[0;36mMessagePassing.propagate\u001b[1;34m(self, edge_index, size, **kwargs)\u001b[0m\n\u001b[0;32m    372\u001b[0m     \u001b[39mif\u001b[39;00m res \u001b[39mis\u001b[39;00m \u001b[39mnot\u001b[39;00m \u001b[39mNone\u001b[39;00m:\n\u001b[0;32m    373\u001b[0m         msg_kwargs \u001b[39m=\u001b[39m res[\u001b[39m0\u001b[39m] \u001b[39mif\u001b[39;00m \u001b[39misinstance\u001b[39m(res, \u001b[39mtuple\u001b[39m) \u001b[39melse\u001b[39;00m res\n\u001b[1;32m--> 374\u001b[0m out \u001b[39m=\u001b[39m \u001b[39mself\u001b[39m\u001b[39m.\u001b[39mmessage(\u001b[39m*\u001b[39m\u001b[39m*\u001b[39mmsg_kwargs)\n\u001b[0;32m    375\u001b[0m \u001b[39mfor\u001b[39;00m hook \u001b[39min\u001b[39;00m \u001b[39mself\u001b[39m\u001b[39m.\u001b[39m_message_forward_hooks\u001b[39m.\u001b[39mvalues():\n\u001b[0;32m    376\u001b[0m     res \u001b[39m=\u001b[39m hook(\u001b[39mself\u001b[39m, (msg_kwargs, ), out)\n",
      "File \u001b[1;32mc:\\Users\\gille\\miniconda3\\envs\\geom\\lib\\site-packages\\torch_geometric\\nn\\conv\\gatv2_conv.py:272\u001b[0m, in \u001b[0;36mGATv2Conv.message\u001b[1;34m(self, x_j, x_i, edge_attr, index, ptr, size_i)\u001b[0m\n\u001b[0;32m    269\u001b[0m     edge_attr \u001b[39m=\u001b[39m edge_attr\u001b[39m.\u001b[39mview(\u001b[39m-\u001b[39m\u001b[39m1\u001b[39m, \u001b[39mself\u001b[39m\u001b[39m.\u001b[39mheads, \u001b[39mself\u001b[39m\u001b[39m.\u001b[39mout_channels)\n\u001b[0;32m    270\u001b[0m     x \u001b[39m+\u001b[39m\u001b[39m=\u001b[39m edge_attr\n\u001b[1;32m--> 272\u001b[0m x \u001b[39m=\u001b[39m F\u001b[39m.\u001b[39;49mleaky_relu(x, \u001b[39mself\u001b[39;49m\u001b[39m.\u001b[39;49mnegative_slope)\n\u001b[0;32m    273\u001b[0m alpha \u001b[39m=\u001b[39m (x \u001b[39m*\u001b[39m \u001b[39mself\u001b[39m\u001b[39m.\u001b[39matt)\u001b[39m.\u001b[39msum(dim\u001b[39m=\u001b[39m\u001b[39m-\u001b[39m\u001b[39m1\u001b[39m)\n\u001b[0;32m    274\u001b[0m alpha \u001b[39m=\u001b[39m softmax(alpha, index, ptr, size_i)\n",
      "File \u001b[1;32mc:\\Users\\gille\\miniconda3\\envs\\geom\\lib\\site-packages\\torch\\nn\\functional.py:1633\u001b[0m, in \u001b[0;36mleaky_relu\u001b[1;34m(input, negative_slope, inplace)\u001b[0m\n\u001b[0;32m   1631\u001b[0m     result \u001b[39m=\u001b[39m torch\u001b[39m.\u001b[39m_C\u001b[39m.\u001b[39m_nn\u001b[39m.\u001b[39mleaky_relu_(\u001b[39minput\u001b[39m, negative_slope)\n\u001b[0;32m   1632\u001b[0m \u001b[39melse\u001b[39;00m:\n\u001b[1;32m-> 1633\u001b[0m     result \u001b[39m=\u001b[39m torch\u001b[39m.\u001b[39;49m_C\u001b[39m.\u001b[39;49m_nn\u001b[39m.\u001b[39;49mleaky_relu(\u001b[39minput\u001b[39;49m, negative_slope)\n\u001b[0;32m   1634\u001b[0m \u001b[39mreturn\u001b[39;00m result\n",
      "\u001b[1;31mRuntimeError\u001b[0m: CUDA out of memory. Tried to allocate 192.00 MiB (GPU 0; 10.00 GiB total capacity; 9.10 GiB already allocated; 0 bytes free; 9.26 GiB reserved in total by PyTorch) If reserved memory is >> allocated memory try setting max_split_size_mb to avoid fragmentation.  See documentation for Memory Management and PYTORCH_CUDA_ALLOC_CONF"
     ]
    }
   ],
   "source": [
    "loss_history = {'loss_mean' : [], 'loss_log' : []}\n",
    "loss, out, x = run_single(model, data_test, 0, device, loss_history, output=True)\n",
    "\n",
    "if out == None or x == None :\n",
    "    raise Exception(\"No output\")\n",
    "\n",
    "with open(\"models/\" + extension[1:] + \"/result_\" + str(epoch) + \".pkl\", \"wb\") as f:\n",
    "    pickle.dump((out, x), f)\n",
    "\n",
    "t = 10\n",
    "fig = plt.figure()\n",
    "\n",
    "#now plot the graph as bubbles to show the difference between the two\n",
    "plt.scatter(x[t, :,0],x[t, :,1], s=100, c='b', alpha=0.5)\n",
    "plt.scatter(out[t, :,0],out[t, :,1], s=100, c='r', alpha=0.5)\n",
    "\n",
    "plt.show()\n",
    "plt.close()\n",
    "#show an arrow for the speed\n",
    "#plt.quiver(x[t, :, 0], x[t, :, 1], x[t, :, 2], x[t, :, 3],color='b', alpha=0.5)\n",
    "#plt.quiver(out[t, :, 0], out[t, :, 1], out[t, :, 2], out[t, :, 3],color='r', alpha=0.5)"
   ]
  },
  {
   "cell_type": "code",
   "execution_count": null,
   "metadata": {},
   "outputs": [
    {
     "ename": "Exception",
     "evalue": "Need ffmpeg to continue",
     "output_type": "error",
     "traceback": [
      "\u001b[1;31m---------------------------------------------------------------------------\u001b[0m",
      "\u001b[1;31mException\u001b[0m                                 Traceback (most recent call last)",
      "Cell \u001b[1;32mIn[7], line 1\u001b[0m\n\u001b[1;32m----> 1\u001b[0m \u001b[39mraise\u001b[39;00m \u001b[39mException\u001b[39;00m(\u001b[39m\"\u001b[39m\u001b[39mNeed ffmpeg to continue\u001b[39m\u001b[39m\"\u001b[39m)\n",
      "\u001b[1;31mException\u001b[0m: Need ffmpeg to continue"
     ]
    }
   ],
   "source": [
    "raise Exception(\"Need ffmpeg to continue\")"
   ]
  },
  {
   "cell_type": "code",
   "execution_count": 7,
   "metadata": {},
   "outputs": [],
   "source": [
    "\n",
    "extension = \"_open_hv_ht\"\n",
    "epoch = 210"
   ]
  },
  {
   "cell_type": "code",
   "execution_count": 1,
   "metadata": {},
   "outputs": [
    {
     "name": "stderr",
     "output_type": "stream",
     "text": [
      "c:\\Users\\gille\\miniconda3\\envs\\geom\\lib\\site-packages\\tqdm\\auto.py:22: TqdmWarning: IProgress not found. Please update jupyter and ipywidgets. See https://ipywidgets.readthedocs.io/en/stable/user_install.html\n",
      "  from .autonotebook import tqdm as notebook_tqdm\n"
     ]
    }
   ],
   "source": [
    "from cell_utils import  make_animation\n",
    "from cell_utils import singleCellTrajectoryAnimation\n",
    "from genericpath import exists\n",
    "\n",
    "possible_extensions = [\"_open_ht_lv\", \"_wrapped\", \"_wrapped_v2\", \"_random_sample\", \"_open_lt_lv\", \"_open_lt_hv\", \"_open_ht_hv\"]\n",
    "possible_epochs = [0, 50, 100, 150]\n",
    "\n",
    "for ext in possible_extensions :\n",
    "    for epo in possible_epochs :\n",
    "        if exists(\"models/\" + ext[1:] + \"/result_recursive_\" + str(epo) + \".pkl\") :\n",
    "            result_name = \"models/\" + ext[1:]  + \"/result_recursive_\" + str(epo) + \".pkl\"\n",
    "            animation_name = \"models/\" + ext[1:]  + \"/animation_recursive_\" + str(epo) + \".mp4\"\n",
    "            make_animation(result_name, animation_name, show_speed=False)\n",
    "            \n",
    "            animation_name = \"models/\" + ext[1:]  + \"/animation_recursive_traj_\" + str(epo) + \".mp4\"\n",
    "            singleCellTrajectoryAnimation(result_name, animation_name, show_speed=False)\n",
    "            \n",
    "        if exists(\"models/\" + ext[1:] + \"/result_\" + str(epo) + \".pkl\") :\n",
    "            result_name = \"models/\" + ext[1:]  + \"/result_\" + str(epo) + \".pkl\"\n",
    "            animation_name = \"models/\" + ext[1:]  + \"/animation_\" + str(epo) + \".mp4\"\n",
    "            make_animation(result_name, animation_name, show_speed=False)\n",
    "            \n",
    "            animation_name = \"models/\" + ext[1:]  + \"/animation_traj_\" + str(epo) + \".mp4\"\n",
    "            singleCellTrajectoryAnimation(result_name, animation_name, show_speed=False)"
   ]
  }
 ],
 "metadata": {
  "kernelspec": {
   "display_name": "geom",
   "language": "python",
   "name": "python3"
  },
  "language_info": {
   "codemirror_mode": {
    "name": "ipython",
    "version": 3
   },
   "file_extension": ".py",
   "mimetype": "text/x-python",
   "name": "python",
   "nbconvert_exporter": "python",
   "pygments_lexer": "ipython3",
   "version": "3.10.8"
  }
 },
 "nbformat": 4,
 "nbformat_minor": 4
}
