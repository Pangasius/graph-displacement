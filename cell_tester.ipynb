{
 "cells": [
  {
   "cell_type": "code",
   "execution_count": 1,
   "metadata": {},
   "outputs": [
    {
     "ename": "SyntaxError",
     "evalue": "'(' was never closed (cell_model.py, line 160)",
     "output_type": "error",
     "traceback": [
      "Traceback \u001b[0;36m(most recent call last)\u001b[0m:\n",
      "\u001b[0m  File \u001b[1;32m~/anaconda3/envs/geom_ff/lib/python3.10/site-packages/IPython/core/interactiveshell.py:3442\u001b[0m in \u001b[1;35mrun_code\u001b[0m\n    exec(code_obj, self.user_global_ns, self.user_ns)\u001b[0m\n",
      "\u001b[0m  Cell \u001b[1;32mIn[1], line 12\u001b[0m\n    from cell_training import run_single, run_single_recursive\u001b[0m\n",
      "\u001b[0;36m  File \u001b[0;32m~/graph-displacement/cell_training.py:6\u001b[0;36m\n\u001b[0;31m    from cell_model import GraphEvolution\u001b[0;36m\n",
      "\u001b[0;36m  File \u001b[0;32m~/graph-displacement/cell_model.py:160\u001b[0;36m\u001b[0m\n\u001b[0;31m    print((sample - target[:,:,:2]).mean(dim=(0,1))\u001b[0m\n\u001b[0m         ^\u001b[0m\n\u001b[0;31mSyntaxError\u001b[0m\u001b[0;31m:\u001b[0m '(' was never closed\n"
     ]
    }
   ],
   "source": [
    "import torch\n",
    "\n",
    "import pickle\n",
    "\n",
    "import sys\n",
    "import os\n",
    "\n",
    "model_path = \"models/model225\"\n",
    "\n",
    "from cell_dataset import CellGraphDataset\n",
    "from cell_utils import  make_animation\n",
    "from cell_training import run_single, run_single_recursive\n",
    "from cell_model import GraphEvolution\n",
    "\n",
    "import matplotlib.pyplot as plt\n",
    "\n",
    "import os, psutil\n",
    "process = psutil.Process(os.getpid())\n",
    "print(\"Using : \", process.memory_info().rss // 1000000)  # in megabytes \n",
    "print(\"Available : \", process.memory_info().vms  // 1000000)  # in megabytes \n",
    "\n",
    "print(torch.cuda.is_available())\n",
    "\n",
    "from genericpath import exists\n",
    "\n",
    "#https://github.com/clovaai/AdamP\n",
    "from adamp import AdamP\n",
    "\n",
    "sys.path.append('/home/nstillman/1_sbi_activematter/cpp_model')\n",
    "try :\n",
    "    import allium\n",
    "except :\n",
    "    print(\"Could not import allium\")"
   ]
  },
  {
   "cell_type": "code",
   "execution_count": null,
   "metadata": {},
   "outputs": [],
   "source": [
    "load_all = True\n",
    "\n",
    "if load_all : \n",
    "    if os.path.exists(\"data/training.pkl\") :\n",
    "        with open(\"data/training.pkl\", \"rb\") as f:\n",
    "            data_train = pickle.load(f)\n",
    "    if os.path.exists(\"data/testing.pkl\") :\n",
    "        with open(\"data/testing.pkl\", \"rb\") as f:\n",
    "            data_test = pickle.load(f)\n",
    "else : \n",
    "    #path = \"data/\" #local\n",
    "    path = \"/scratch/users/nstillman/data-cpp/\" #remote\n",
    "\n",
    "    data_test = CellGraphDataset(root=path + 'test', max_size=5, inmemory=True, bg_load=False, wrap=True, T_limit=16)\n",
    "    print(\"Test data length : \", data_test.len())\n",
    "    \n",
    "    data_val = CellGraphDataset(root=path + 'valid', max_size=50, inmemory=True, bg_load=False, wrap=True, T_limit=128)\n",
    "    print(\"Validation data length : \", data_val.len())\n",
    "\n",
    "    override = True #make this true to always use the same ones\n",
    "\n",
    "    if override :\n",
    "        data_test.save_or_load_if_exists(\"test_paths.pkl\")\n",
    "        data_val.save_or_load_if_exists(\"val_paths.pkl\")"
   ]
  },
  {
   "cell_type": "code",
   "execution_count": null,
   "metadata": {},
   "outputs": [],
   "source": [
    "#INFO : if bg_load is True, this starts the loading, if skipped, bg_loading will take place as soon as a get is called\n",
    "rval, edge_index, edge_attr, batch_edge, border, params = data_test.get(0)"
   ]
  },
  {
   "cell_type": "code",
   "execution_count": null,
   "metadata": {},
   "outputs": [],
   "source": [
    "model = GraphEvolution(in_channels=9, out_channels=4, hidden_channels=64, dropout=0.01, edge_dim=2, messages=5)\n",
    "if exists(model_path + \".pt\") :\n",
    "    with open(model_path + \".pt\", \"rb\") as f:\n",
    "        model.load_state_dict(torch.load(f))\n",
    "        #since we loaded the state dict, we need to recompile the model\n",
    "        print(\"Loaded model from \", model_path)\n",
    "     \n",
    "\n",
    "device = torch.device(\"cuda\" if torch.cuda.is_available() else \"cpu\")"
   ]
  },
  {
   "cell_type": "code",
   "execution_count": null,
   "metadata": {},
   "outputs": [],
   "source": [
    "loss_gen, loss_cri, out, x = run_single_recursive(model.to(device), data_test, 0, device, output=True)\n",
    "print(out.shape, x.shape)\n",
    "\n",
    "with open(\"result_recursive.pkl\", \"wb\") as f:\n",
    "    pickle.dump((out, x), f)\n",
    "\n",
    "t = 10\n",
    "fig = plt.figure()\n",
    "\n",
    "#now plot the graph as bubbles to show the difference between the two\n",
    "plt.scatter(x[t, :,0],x[t, :,1], s=100, c='b', alpha=0.5)\n",
    "plt.scatter(out[t, :,0],out[t, :,1], s=100, c='r', alpha=0.5)\n",
    "\n",
    "#show an arrow for the speed\n",
    "#plt.quiver(x[t, :, 0], x[t, :, 1], x[t, :, 2], x[t, :, 3],color='b', alpha=0.5)\n",
    "#plt.quiver(out[t, :, 0], out[t, :, 1], out[t, :, 2], out[t, :, 3],color='r', alpha=0.5)"
   ]
  },
  {
   "cell_type": "code",
   "execution_count": null,
   "metadata": {},
   "outputs": [],
   "source": [
    "loss, out, x = run_single(model.to(device), data_test, 0, device, output=True)\n",
    "\n",
    "print(loss)\n",
    "\n",
    "with open(\"result.pkl\", \"wb\") as f:\n",
    "    pickle.dump((out, x), f)\n",
    "\n",
    "t = 10\n",
    "fig = plt.figure()\n",
    "\n",
    "#now plot the graph as bubbles to show the difference between the two\n",
    "plt.scatter(x[t, :,0],x[t, :,1], s=100, c='b', alpha=0.5)\n",
    "plt.scatter(out[t, :,0],out[t, :,1], s=100, c='r', alpha=0.5)\n",
    "\n",
    "#show an arrow for the speed\n",
    "#plt.quiver(x[t, :, 0], x[t, :, 1], x[t, :, 2], x[t, :, 3],color='b', alpha=0.5)\n",
    "#plt.quiver(out[t, :, 0], out[t, :, 1], out[t, :, 2], out[t, :, 3],color='r', alpha=0.5)"
   ]
  },
  {
   "cell_type": "code",
   "execution_count": null,
   "metadata": {},
   "outputs": [],
   "source": [
    "raise Exception(\"Need ffmpeg to continue\")"
   ]
  },
  {
   "cell_type": "code",
   "execution_count": null,
   "metadata": {},
   "outputs": [],
   "source": [
    "from cell_utils import  make_animation\n",
    "\n",
    "result_name = \"./result_recursive.pkl\"\n",
    "animation_name = \"./animation_recursive.mp4\"\n",
    "make_animation(result_name, animation_name, show_speed=False)\n",
    "\n",
    "result_name = \"./result.pkl\"\n",
    "animation_name = \"./animation.mp4\"\n",
    "make_animation(result_name, animation_name, show_speed=False)"
   ]
  },
  {
   "cell_type": "code",
   "execution_count": null,
   "metadata": {},
   "outputs": [],
   "source": [
    "from cell_utils import singleCellTrajectoryAnimation\n",
    "\n",
    "result_name = \"./result_recursive.pkl\"\n",
    "animation_name = \"./animation_recursive_traj.mp4\"\n",
    "singleCellTrajectoryAnimation(result_name, animation_name, show_speed=False)\n",
    "\n",
    "result_name = \"./result.pkl\"\n",
    "animation_name = \"./animation_traj.mp4\"\n",
    "singleCellTrajectoryAnimation(result_name, animation_name, show_speed=False)"
   ]
  }
 ],
 "metadata": {
  "kernelspec": {
   "display_name": "geom",
   "language": "python",
   "name": "python3"
  },
  "language_info": {
   "codemirror_mode": {
    "name": "ipython",
    "version": 3
   },
   "file_extension": ".py",
   "mimetype": "text/x-python",
   "name": "python",
   "nbconvert_exporter": "python",
   "pygments_lexer": "ipython3",
   "version": "3.10.8"
  }
 },
 "nbformat": 4,
 "nbformat_minor": 4
}
